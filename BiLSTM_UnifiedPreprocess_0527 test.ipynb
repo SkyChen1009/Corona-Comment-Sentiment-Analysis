{
 "cells": [
  {
   "cell_type": "markdown",
   "id": "0693bd66",
   "metadata": {},
   "source": [
    "## 前處理統一版本 (from 彥文)"
   ]
  },
  {
   "cell_type": "markdown",
   "id": "c87860f9",
   "metadata": {},
   "source": [
    "# LSTM using glove by Sky\n",
    "## Grid search each settings version 3\n",
    "## Unified：\n",
    "1. 字母小寫\n",
    "2. 刪除網址\n",
    "3. 移除標點符號(所有標點符號都要刪除)\n",
    "4. 移除非英文字母\n",
    "5. 要做class_weight\n",
    "6. 要做stop_words\n",
    "7. replace_username：False\n",
    "8. replace_covid：False\n",
    "## To be ensured：\n",
    "1. batch size:64、128、256\n",
    "2. pooling method：max、average、hidden\n",
    "3. activation function：sigmoid、ReLU、Softmax\n",
    "### 2025/5/27 19:00 pm"
   ]
  },
  {
   "cell_type": "code",
   "execution_count": 1,
   "id": "7fa61c29",
   "metadata": {},
   "outputs": [
    {
     "name": "stderr",
     "output_type": "stream",
     "text": [
      "[nltk_data] Downloading package punkt to\n",
      "[nltk_data]     C:\\Users\\skych\\AppData\\Roaming\\nltk_data...\n",
      "[nltk_data]   Package punkt is already up-to-date!\n",
      "[nltk_data] Downloading package stopwords to\n",
      "[nltk_data]     C:\\Users\\skych\\AppData\\Roaming\\nltk_data...\n",
      "[nltk_data]   Package stopwords is already up-to-date!\n",
      "[nltk_data] Downloading package wordnet to\n",
      "[nltk_data]     C:\\Users\\skych\\AppData\\Roaming\\nltk_data...\n",
      "[nltk_data]   Package wordnet is already up-to-date!\n",
      "[nltk_data] Downloading package omw-1.4 to\n",
      "[nltk_data]     C:\\Users\\skych\\AppData\\Roaming\\nltk_data...\n",
      "[nltk_data]   Package omw-1.4 is already up-to-date!\n",
      "[nltk_data] Downloading package averaged_perceptron_tagger_eng to\n",
      "[nltk_data]     C:\\Users\\skych\\AppData\\Roaming\\nltk_data...\n",
      "[nltk_data]   Package averaged_perceptron_tagger_eng is already up-to-\n",
      "[nltk_data]       date!\n",
      "[nltk_data] Downloading package punkt_tab to\n",
      "[nltk_data]     C:\\Users\\skych\\AppData\\Roaming\\nltk_data...\n",
      "[nltk_data]   Package punkt_tab is already up-to-date!\n"
     ]
    },
    {
     "data": {
      "text/plain": [
       "True"
      ]
     },
     "execution_count": 1,
     "metadata": {},
     "output_type": "execute_result"
    }
   ],
   "source": [
    "# 載入套件\n",
    "import pandas as pd\n",
    "import numpy as np\n",
    "import torch\n",
    "import torch.nn as nn\n",
    "import torch.optim as optim\n",
    "from torch.utils.data import Dataset, DataLoader\n",
    "import nltk\n",
    "from nltk.corpus import stopwords\n",
    "from nltk.tokenize import TweetTokenizer, word_tokenize\n",
    "import re\n",
    "import string\n",
    "import contractions\n",
    "from collections import Counter\n",
    "from itertools import product\n",
    "import matplotlib.pyplot as plt\n",
    "from tqdm import tqdm\n",
    "from sklearn.utils.class_weight import compute_class_weight\n",
    "from sklearn.preprocessing import LabelEncoder\n",
    "from sklearn.model_selection import train_test_split\n",
    "import seaborn as sns\n",
    "\n",
    "# 下載 NLTK 資源\n",
    "nltk.download('punkt')\n",
    "nltk.download('stopwords')\n",
    "nltk.download('wordnet')\n",
    "nltk.download('omw-1.4')\n",
    "nltk.download('averaged_perceptron_tagger_eng')\n",
    "nltk.download('punkt_tab')"
   ]
  },
  {
   "cell_type": "code",
   "execution_count": 3,
   "id": "e9e9ef12",
   "metadata": {},
   "outputs": [
    {
     "name": "stdout",
     "output_type": "stream",
     "text": [
      "使用設備：cuda\n",
      "PyTorch 版本：2.5.1+cu121\n",
      "GPU 可用：True\n",
      "GPU 名稱：NVIDIA GeForce RTX 4060 Laptop GPU\n"
     ]
    }
   ],
   "source": [
    "# 檢查 GPU 可用性並設置設備\n",
    "device = torch.device('cuda' if torch.cuda.is_available() else 'cpu')\n",
    "print(f\"使用設備：{device}\")\n",
    "print(f\"PyTorch 版本：{torch.__version__}\")\n",
    "print(f\"GPU 可用：{torch.cuda.is_available()}\")\n",
    "if torch.cuda.is_available():\n",
    "    print(f\"GPU 名稱：{torch.cuda.get_device_name(0)}\")"
   ]
  },
  {
   "cell_type": "code",
   "execution_count": 4,
   "id": "87002c0c",
   "metadata": {},
   "outputs": [],
   "source": [
    "# 初始化工具\n",
    "tokenizer = TweetTokenizer(preserve_case=False)\n",
    "encoder = LabelEncoder()\n",
    "custom_stopwords = set(stopwords.words('english')) - {\"not\", \"no\", \"never\"}\n",
    "\n",
    "# 定義資料清理函數\n",
    "def clean_text(text, use_stopwords=False, replace_username=True, replace_covid='none'):\n",
    "    if pd.isna(text):\n",
    "        return []\n",
    "    \n",
    "    # 小寫\n",
    "    text = text.lower()\n",
    "    \n",
    "    # 展開縮寫\n",
    "    text = contractions.fix(text)\n",
    "    \n",
    "    # 移除網址\n",
    "    text = re.sub(r\"http\\S+|www\\S+|https\\S+\", '', text)\n",
    "    \n",
    "    # 處理@人名\n",
    "    if replace_username:\n",
    "        text = re.sub(r\"@\\w+\", 'username', text)\n",
    "    else:\n",
    "        text = re.sub(r\"@\\w+\", '', text)\n",
    "    \n",
    "    # 處理 covid 相關詞\n",
    "    if replace_covid == 'virus':\n",
    "        text = re.sub(r\"\\bcovid\\b|\\bcovid19\\b|\\bcoronavirus\\b\", 'virus', text, flags=re.IGNORECASE)\n",
    "    elif replace_covid == 'pandemic':\n",
    "        text = re.sub(r\"\\bcovid\\b|\\bcovid19\\b|\\bcoronavirus\\b\", 'pandemic', text, flags=re.IGNORECASE)\n",
    "    \n",
    "    # 保留字母\n",
    "    text = re.sub(r\"[^a-zA-Z \\s]\", '', text)\n",
    "    \n",
    "    # 去除多餘空白\n",
    "    text = re.sub(r\"\\s+\", \" \", text).strip()\n",
    "    \n",
    "    # 分詞\n",
    "    tokens = word_tokenize(text)\n",
    "    \n",
    "    # 移除停用詞\n",
    "    if use_stopwords:\n",
    "        tokens = [word for word in tokens if word not in custom_stopwords]\n",
    "    \n",
    "    return tokens"
   ]
  },
  {
   "cell_type": "code",
   "execution_count": 5,
   "id": "18a4c9fa",
   "metadata": {},
   "outputs": [
    {
     "name": "stdout",
     "output_type": "stream",
     "text": [
      "訓練集資料筆數： 32925\n",
      "訓練集欄位： ['UserName', 'ScreenName', 'Location', 'TweetAt', 'OriginalTweet', 'Sentiment']\n",
      "訓練集情緒分布：\n",
      " Positive              9137\n",
      "Negative              7934\n",
      "Neutral               6170\n",
      "Extremely Positive    5299\n",
      "Extremely Negative    4385\n",
      "Name: Sentiment, dtype: int64\n",
      "驗證集資料筆數： 8232\n",
      "驗證集欄位： ['UserName', 'ScreenName', 'Location', 'TweetAt', 'OriginalTweet', 'Sentiment']\n",
      "驗證集情緒分布：\n",
      " Positive              2285\n",
      "Negative              1983\n",
      "Neutral               1543\n",
      "Extremely Positive    1325\n",
      "Extremely Negative    1096\n",
      "Name: Sentiment, dtype: int64\n",
      "測試集資料筆數： 3798\n",
      "測試集欄位： ['UserName', 'ScreenName', 'Location', 'TweetAt', 'OriginalTweet', 'Sentiment']\n",
      "測試集情緒分布：\n",
      " Negative              1041\n",
      "Positive               947\n",
      "Neutral                619\n",
      "Extremely Positive     599\n",
      "Extremely Negative     592\n",
      "Name: Sentiment, dtype: int64\n",
      "警告：訓練集有 10 筆空序列，移除中...\n",
      "空序列範例：\n",
      "                                           OriginalTweet clean_tokens\n",
      "29888  ???? ????? \\r\\r\\n????? ??? ? ?? ?? ??\\r\\r\\n\\r\\...           []\n",
      "27932  ?????: ???? ?????? ? ????????\\r\\r\\n.\\r\\r\\n?? ?...           []\n",
      "13843  ? ???? ????? ???? ??? ?????? ??? ???\\r\\r\\n\\r\\r...           []\n",
      "583    #????_???_?????? ???? ???????..? ?? ?????? ?? ...           []\n",
      "16920  ???? ??????? ??????? ???? ????? ???? ???? ????...           []\n",
      "警告：驗證集有 4 筆空序列，移除中...\n",
      "空序列範例：\n",
      "                                           OriginalTweet clean_tokens\n",
      "16     ????? ????? ????? ????? ??\\r\\r\\n?????? ????? ?...           []\n",
      "16924  ????? ?\\r\\r\\n\\r\\r\\n???? ??? ???? ??? ?????????...           []\n",
      "2385   ?? ??? ???. ????????-????? ?????? 3 ??????????...           []\n",
      "36781  ??? ???? ????? ?? ?????? ???? ????? ? ???? ???...           []\n",
      "\n",
      "訓練集處理結果：\n",
      "                                           OriginalTweet  \\\n",
      "3730   @Eater To everyone hoarding rice who until now...   \n",
      "35121  If your going to eat @ChickfilA they have comp...   \n",
      "9893   Watch this if you are one of those idiots who ...   \n",
      "34429  We need to have a risk management system more ...   \n",
      "29290  Markets plunge puts pension freedoms to the te...   \n",
      "\n",
      "                                            clean_tokens           Sentiment  \\\n",
      "3730   [username, to, everyone, hoarding, rice, who, ...  Extremely Negative   \n",
      "35121  [if, your, going, to, eat, username, they, hav...  Extremely Positive   \n",
      "9893   [watch, this, if, you, are, one, of, those, id...  Extremely Negative   \n",
      "34429  [we, need, to, have, a, risk, management, syst...            Positive   \n",
      "29290  [markets, plunge, puts, pension, freedoms, to,...            Positive   \n",
      "\n",
      "       SentimentEncoded  \n",
      "3730                  0  \n",
      "35121                 1  \n",
      "9893                  0  \n",
      "34429                 4  \n",
      "29290                 4  \n",
      "\n",
      "驗證集處理結果：\n",
      "                                           OriginalTweet  \\\n",
      "29012  Meanwhile a villager of quenching her thirsty ...   \n",
      "31777  U.S. Ethanol and Biodiesel Trends in Prices an...   \n",
      "20592  #WritingCommunity Today, my husband came home ...   \n",
      "36878  So there's no cure for a virus (#coronavirus) ...   \n",
      "34648  Like the good New Yorker I am, I talked myself...   \n",
      "\n",
      "                                            clean_tokens           Sentiment  \\\n",
      "29012  [meanwhile, a, villager, of, quenching, her, t...             Neutral   \n",
      "31777  [yous, ethanol, and, biodiesel, trends, in, pr...            Positive   \n",
      "20592  [writingcommunity, today, my, husband, came, h...  Extremely Positive   \n",
      "36878  [so, there, is, no, cure, for, a, virus, coron...  Extremely Negative   \n",
      "34648  [like, the, good, new, yorker, i, am, i, talke...  Extremely Positive   \n",
      "\n",
      "       SentimentEncoded  \n",
      "29012                 3  \n",
      "31777                 4  \n",
      "20592                 1  \n",
      "36878                 0  \n",
      "34648                 1  \n",
      "\n",
      "測試集處理結果：\n",
      "                                       OriginalTweet  \\\n",
      "0  TRENDING: New Yorkers encounter empty supermar...   \n",
      "1  When I couldn't find hand sanitizer at Fred Me...   \n",
      "2  Find out how you can protect yourself and love...   \n",
      "3  #Panic buying hits #NewYork City as anxious sh...   \n",
      "4  #toiletpaper #dunnypaper #coronavirus #coronav...   \n",
      "\n",
      "                                        clean_tokens           Sentiment  \\\n",
      "0  [trending, new, yorkers, encounter, empty, sup...  Extremely Negative   \n",
      "1  [when, i, could, not, find, hand, sanitizer, a...            Positive   \n",
      "2  [find, out, how, you, can, protect, yourself, ...  Extremely Positive   \n",
      "3  [panic, buying, hits, newyork, city, as, anxio...            Negative   \n",
      "4  [toiletpaper, dunnypaper, coronavirus, coronav...             Neutral   \n",
      "\n",
      "   SentimentEncoded  \n",
      "0                 0  \n",
      "1                 4  \n",
      "2                 1  \n",
      "3                 2  \n",
      "4                 3  \n"
     ]
    }
   ],
   "source": [
    "# 讀取資料\n",
    "df_train = pd.read_csv('Corona_NLP_train.csv', encoding='latin_1')\n",
    "df_test = pd.read_csv('Corona_NLP_test.csv', encoding='latin_1')\n",
    "df_train, df_val = train_test_split(df_train, test_size=0.2, stratify=df_train[\"Sentiment\"], random_state=42)\n",
    "\n",
    "# 顯示資料統計\n",
    "print(\"訓練集資料筆數：\", len(df_train))\n",
    "print(\"訓練集欄位：\", df_train.columns.tolist())\n",
    "print(\"訓練集情緒分布：\\n\", df_train[\"Sentiment\"].value_counts())\n",
    "print(\"驗證集資料筆數：\", len(df_val))\n",
    "print(\"驗證集欄位：\", df_val.columns.tolist())\n",
    "print(\"驗證集情緒分布：\\n\", df_val[\"Sentiment\"].value_counts())\n",
    "print(\"測試集資料筆數：\", len(df_test))\n",
    "print(\"測試集欄位：\", df_test.columns.tolist())\n",
    "print(\"測試集情緒分布：\\n\", df_test[\"Sentiment\"].value_counts())\n",
    "\n",
    "# 套用前處理函數（初始清理，無停用詞）\n",
    "df_train[\"clean_tokens\"] = df_train[\"OriginalTweet\"].apply(lambda x: clean_text(x, use_stopwords=False))\n",
    "df_val[\"clean_tokens\"] = df_val[\"OriginalTweet\"].apply(lambda x: clean_text(x, use_stopwords=False))\n",
    "df_test[\"clean_tokens\"] = df_test[\"OriginalTweet\"].apply(lambda x: clean_text(x, use_stopwords=False))\n",
    "\n",
    "# 檢查空序列並移除\n",
    "empty_train = df_train[df_train['clean_tokens'].apply(len) == 0]\n",
    "if not empty_train.empty:\n",
    "    print(f\"警告：訓練集有 {len(empty_train)} 筆空序列，移除中...\")\n",
    "    print(\"空序列範例：\")\n",
    "    print(empty_train[['OriginalTweet', 'clean_tokens']].head())\n",
    "    df_train = df_train[df_train['clean_tokens'].apply(len) > 0]\n",
    "\n",
    "empty_val = df_val[df_val['clean_tokens'].apply(len) == 0]\n",
    "if not empty_val.empty:\n",
    "    print(f\"警告：驗證集有 {len(empty_val)} 筆空序列，移除中...\")\n",
    "    print(\"空序列範例：\")\n",
    "    print(empty_val[['OriginalTweet', 'clean_tokens']].head())\n",
    "    df_val = df_val[df_val['clean_tokens'].apply(len) > 0]\n",
    "\n",
    "empty_test = df_test[df_test['clean_tokens'].apply(len) == 0]\n",
    "if not empty_test.empty:\n",
    "    print(f\"警告：測試集有 {len(empty_test)} 筆空序列，移除中...\")\n",
    "    print(\"空序列範例：\")\n",
    "    print(empty_test[['OriginalTweet', 'clean_tokens']].head())\n",
    "    df_test = df_test[df_test['clean_tokens'].apply(len) > 0]\n",
    "\n",
    "# 處理情緒標籤\n",
    "df_train[\"SentimentEncoded\"] = encoder.fit_transform(df_train[\"Sentiment\"])\n",
    "df_val[\"SentimentEncoded\"] = encoder.transform(df_val[\"Sentiment\"])\n",
    "df_test[\"SentimentEncoded\"] = encoder.transform(df_test[\"Sentiment\"])\n",
    "\n",
    "# 顯示處理結果\n",
    "print(\"\\n訓練集處理結果：\")\n",
    "print(df_train[[\"OriginalTweet\", \"clean_tokens\", \"Sentiment\", \"SentimentEncoded\"]].head())\n",
    "print(\"\\n驗證集處理結果：\")\n",
    "print(df_val[[\"OriginalTweet\", \"clean_tokens\", \"Sentiment\", \"SentimentEncoded\"]].head())\n",
    "print(\"\\n測試集處理結果：\")\n",
    "print(df_test[[\"OriginalTweet\", \"clean_tokens\", \"Sentiment\", \"SentimentEncoded\"]].head())"
   ]
  },
  {
   "cell_type": "code",
   "execution_count": 6,
   "id": "455f728b",
   "metadata": {},
   "outputs": [],
   "source": [
    "# 定義詞彙表構建函數\n",
    "def build_vocab(token_lists):\n",
    "    all_tokens = [token for tokens in token_lists for token in tokens]\n",
    "    token_counts = Counter(all_tokens)\n",
    "    vocab = {'<PAD>': 0, '<UNK>': 1}\n",
    "    vocab.update({token: idx + 2 for idx, (token, _) in enumerate(token_counts.items())})\n",
    "    return vocab\n",
    "\n",
    "# 定義資料集類\n",
    "class TweetDataset(Dataset):\n",
    "    def __init__(self, df, vocab, max_length):\n",
    "        self.texts = df['clean_tokens']\n",
    "        self.labels = df['SentimentEncoded'].values\n",
    "        self.vocab = vocab\n",
    "        self.max_length = max_length\n",
    "\n",
    "    def __len__(self):\n",
    "        return len(self.texts)\n",
    "\n",
    "    def __getitem__(self, idx):\n",
    "        tokens = self.texts.iloc[idx]\n",
    "        indices = [self.vocab.get(token, self.vocab['<UNK>']) for token in tokens]\n",
    "        if len(indices) > self.max_length:\n",
    "            indices = indices[:self.max_length]\n",
    "        else:\n",
    "            indices += [self.vocab['<PAD>']] * (self.max_length - len(indices))\n",
    "        return torch.tensor(indices, dtype=torch.long), torch.tensor(self.labels[idx], dtype=torch.long)\n",
    "\n",
    "# 定義載入 Glove 嵌入函數\n",
    "def load_glove_embeddings(glove_path, vocab, embedding_dim=100):\n",
    "    embeddings = np.zeros((len(vocab), embedding_dim))\n",
    "    with open(glove_path, 'r', encoding='utf-8') as f:\n",
    "        for line in f:\n",
    "            values = line.strip().split()\n",
    "            word = values[0]\n",
    "            if word in vocab:\n",
    "                embeddings[vocab[word]] = np.array(values[1:], dtype=np.float32)\n",
    "    embeddings[vocab['<PAD>']] = np.zeros(embedding_dim)\n",
    "    embeddings[vocab['<UNK>']] = np.random.uniform(-0.25, 0.25, embedding_dim)\n",
    "    return embeddings"
   ]
  },
  {
   "cell_type": "code",
   "execution_count": 8,
   "id": "7099145f",
   "metadata": {},
   "outputs": [],
   "source": [
    "# 定義 BiLSTM 模型\n",
    "class BiLSTMClassifier(nn.Module):\n",
    "    def __init__(self, vocab_size, embedding_dim, hidden_dim, output_dim, n_layers, dropout, pooling_method, activation):\n",
    "        super(BiLSTMClassifier, self).__init__()\n",
    "        self.embedding = nn.Embedding(vocab_size, embedding_dim)\n",
    "        self.lstm = nn.LSTM(embedding_dim, hidden_dim, n_layers, bidirectional=True, dropout=dropout, batch_first=True)\n",
    "        self.fc = nn.Linear(hidden_dim * 2, output_dim)\n",
    "        self.dropout = nn.Dropout(dropout)\n",
    "        self.pooling_method = pooling_method\n",
    "        self.activation = activation\n",
    "        if activation == 'sigmoid':\n",
    "            self.act_fn = nn.Sigmoid()\n",
    "        elif activation == 'relu':\n",
    "            self.act_fn = nn.ReLU()\n",
    "        elif activation == 'softmax':\n",
    "            self.act_fn = nn.Softmax(dim=1)\n",
    "        else:\n",
    "            raise ValueError(\"Invalid activation function. Choose 'sigmoid', 'relu', or 'softmax'.\")\n",
    "\n",
    "    def forward(self, text):\n",
    "        embedded = self.dropout(self.embedding(text))\n",
    "        lstm_out, (hidden, cell) = self.lstm(embedded)\n",
    "        if self.pooling_method == 'hidden':\n",
    "            hidden = self.dropout(torch.cat((hidden[-2,:,:], hidden[-1,:,:]), dim=1))\n",
    "        elif self.pooling_method == 'max':\n",
    "            hidden, _ = torch.max(lstm_out, dim=1)\n",
    "        elif self.pooling_method == 'average':\n",
    "            hidden = torch.mean(lstm_out, dim=1)\n",
    "        else:\n",
    "            raise ValueError(\"Invalid pooling method. Choose 'hidden', 'max', or 'average'.\")\n",
    "        output = self.fc(hidden)\n",
    "        if self.activation in ['sigmoid', 'relu']:\n",
    "            output = self.act_fn(output)\n",
    "        return output  # Softmax 由損失函數處理或在 forward 中應用\n",
    "\n",
    "import logging  # 添加 logging 導入\n",
    "# 設定日誌\n",
    "logging.basicConfig(\n",
    "    filename='training_log_0527.txt',\n",
    "    level=logging.INFO,\n",
    "    format='%(asctime)s - %(levelname)s - %(message)s'\n",
    ")"
   ]
  },
  {
   "cell_type": "code",
   "execution_count": 9,
   "id": "c79a3639",
   "metadata": {},
   "outputs": [],
   "source": [
    "# 網格搜索\n",
    "batch_sizes = [64, 128, 256]\n",
    "pooling_methods = ['hidden', 'max', 'average']\n",
    "activation_functions = ['sigmoid', 'relu', 'softmax']\n",
    "results = []\n",
    "best_val_acc = 0\n",
    "best_params = None\n",
    "best_train_losses = None\n",
    "best_val_losses = None\n",
    "best_val_accuracies = None\n",
    "\n",
    "total_combinations = len(batch_sizes) * len(pooling_methods) * len(activation_functions)\n",
    "current_combination = 0\n",
    "\n",
    "progress_file = 'progress_0527.txt'"
   ]
  },
  {
   "cell_type": "code",
   "execution_count": 13,
   "id": "bac7ccb6",
   "metadata": {},
   "outputs": [],
   "source": [
    "from datetime import datetime\n",
    "def update_progress(current, total):\n",
    "    percentage = (current / total) * 100\n",
    "    with open(progress_file, 'w') as f:\n",
    "        f.write(f\"Current Combination: {current}/{total}\\n\")\n",
    "        f.write(f\"Progress: {percentage:.2f}%\\n\")\n",
    "        f.write(f\"Last Updated: {datetime.now().strftime('%Y-%m-%d %H:%M:%S')}\\n\")"
   ]
  },
  {
   "cell_type": "code",
   "execution_count": 14,
   "id": "0742d1df",
   "metadata": {},
   "outputs": [
    {
     "name": "stdout",
     "output_type": "stream",
     "text": [
      "試驗 2/27：batch_size=64, pooling_method=hidden, activation=sigmoid\n"
     ]
    },
    {
     "name": "stderr",
     "output_type": "stream",
     "text": [
      "Epoch 1/10: 100%|██████████| 515/515 [00:16<00:00, 31.91it/s]\n"
     ]
    },
    {
     "name": "stdout",
     "output_type": "stream",
     "text": [
      "Epoch 1/10 完成：訓練損失=1.5683, 驗證損失=1.5739, 驗證準確率=0.2399\n"
     ]
    },
    {
     "name": "stderr",
     "output_type": "stream",
     "text": [
      "Epoch 2/10: 100%|██████████| 515/515 [00:14<00:00, 34.72it/s]\n"
     ]
    },
    {
     "name": "stdout",
     "output_type": "stream",
     "text": [
      "Epoch 2/10 完成：訓練損失=1.5782, 驗證損失=1.5512, 驗證準確率=0.2538\n"
     ]
    },
    {
     "name": "stderr",
     "output_type": "stream",
     "text": [
      "Epoch 3/10: 100%|██████████| 515/515 [00:14<00:00, 36.77it/s]\n"
     ]
    },
    {
     "name": "stdout",
     "output_type": "stream",
     "text": [
      "Epoch 3/10 完成：訓練損失=1.5424, 驗證損失=1.5522, 驗證準確率=0.2482\n"
     ]
    },
    {
     "name": "stderr",
     "output_type": "stream",
     "text": [
      "Epoch 4/10: 100%|██████████| 515/515 [00:13<00:00, 37.17it/s]\n"
     ]
    },
    {
     "name": "stdout",
     "output_type": "stream",
     "text": [
      "Epoch 4/10 完成：訓練損失=1.5936, 驗證損失=1.6022, 驗證準確率=0.1913\n"
     ]
    },
    {
     "name": "stderr",
     "output_type": "stream",
     "text": [
      "Epoch 5/10: 100%|██████████| 515/515 [00:14<00:00, 35.60it/s]\n"
     ]
    },
    {
     "name": "stdout",
     "output_type": "stream",
     "text": [
      "Epoch 5/10 完成：訓練損失=1.6041, 驗證損失=1.6035, 驗證準確率=0.1985\n",
      "提前停止於 epoch 5\n",
      "試驗 2/27 完成，耗時：0:01:33.066941\n",
      "試驗 3/27：batch_size=64, pooling_method=hidden, activation=relu\n"
     ]
    },
    {
     "name": "stderr",
     "output_type": "stream",
     "text": [
      "Epoch 1/10: 100%|██████████| 515/515 [00:14<00:00, 35.76it/s]\n"
     ]
    },
    {
     "name": "stdout",
     "output_type": "stream",
     "text": [
      "Epoch 1/10 完成：訓練損失=1.6094, 驗證損失=1.6094, 驗證準確率=0.1332\n"
     ]
    },
    {
     "name": "stderr",
     "output_type": "stream",
     "text": [
      "Epoch 2/10: 100%|██████████| 515/515 [00:14<00:00, 36.75it/s]\n"
     ]
    },
    {
     "name": "stdout",
     "output_type": "stream",
     "text": [
      "Epoch 2/10 完成：訓練損失=1.6094, 驗證損失=1.6094, 驗證準確率=0.1332\n"
     ]
    },
    {
     "name": "stderr",
     "output_type": "stream",
     "text": [
      "Epoch 3/10: 100%|██████████| 515/515 [00:14<00:00, 36.46it/s]\n"
     ]
    },
    {
     "name": "stdout",
     "output_type": "stream",
     "text": [
      "Epoch 3/10 完成：訓練損失=1.6094, 驗證損失=1.6094, 驗證準確率=0.1332\n"
     ]
    },
    {
     "name": "stderr",
     "output_type": "stream",
     "text": [
      "Epoch 4/10: 100%|██████████| 515/515 [00:14<00:00, 36.11it/s]\n"
     ]
    },
    {
     "name": "stdout",
     "output_type": "stream",
     "text": [
      "Epoch 4/10 完成：訓練損失=1.6094, 驗證損失=1.6094, 驗證準確率=0.1332\n",
      "提前停止於 epoch 4\n",
      "試驗 3/27 完成，耗時：0:01:08.910064\n",
      "試驗 4/27：batch_size=64, pooling_method=hidden, activation=softmax\n"
     ]
    },
    {
     "name": "stderr",
     "output_type": "stream",
     "text": [
      "Epoch 1/10: 100%|██████████| 515/515 [00:14<00:00, 35.59it/s]\n"
     ]
    },
    {
     "name": "stdout",
     "output_type": "stream",
     "text": [
      "Epoch 1/10 完成：訓練損失=1.3692, 驗證損失=1.1673, 驗證準確率=0.4632\n"
     ]
    },
    {
     "name": "stderr",
     "output_type": "stream",
     "text": [
      "Epoch 2/10: 100%|██████████| 515/515 [00:14<00:00, 35.88it/s]\n"
     ]
    },
    {
     "name": "stdout",
     "output_type": "stream",
     "text": [
      "Epoch 2/10 完成：訓練損失=1.1354, 驗證損失=1.0437, 驗證準確率=0.5221\n"
     ]
    },
    {
     "name": "stderr",
     "output_type": "stream",
     "text": [
      "Epoch 3/10: 100%|██████████| 515/515 [00:14<00:00, 36.53it/s]\n"
     ]
    },
    {
     "name": "stdout",
     "output_type": "stream",
     "text": [
      "Epoch 3/10 完成：訓練損失=1.0449, 驗證損失=0.9942, 驗證準確率=0.5359\n"
     ]
    },
    {
     "name": "stderr",
     "output_type": "stream",
     "text": [
      "Epoch 4/10: 100%|██████████| 515/515 [00:14<00:00, 36.04it/s]\n"
     ]
    },
    {
     "name": "stdout",
     "output_type": "stream",
     "text": [
      "Epoch 4/10 完成：訓練損失=0.9675, 驗證損失=0.8954, 驗證準確率=0.6243\n"
     ]
    },
    {
     "name": "stderr",
     "output_type": "stream",
     "text": [
      "Epoch 5/10: 100%|██████████| 515/515 [00:14<00:00, 35.83it/s]\n"
     ]
    },
    {
     "name": "stdout",
     "output_type": "stream",
     "text": [
      "Epoch 5/10 完成：訓練損失=0.8871, 驗證損失=0.8139, 驗證準確率=0.6738\n"
     ]
    },
    {
     "name": "stderr",
     "output_type": "stream",
     "text": [
      "Epoch 6/10: 100%|██████████| 515/515 [00:14<00:00, 36.31it/s]\n"
     ]
    },
    {
     "name": "stdout",
     "output_type": "stream",
     "text": [
      "Epoch 6/10 完成：訓練損失=0.8169, 驗證損失=0.7627, 驗證準確率=0.6754\n"
     ]
    },
    {
     "name": "stderr",
     "output_type": "stream",
     "text": [
      "Epoch 7/10: 100%|██████████| 515/515 [00:14<00:00, 36.11it/s]\n"
     ]
    },
    {
     "name": "stdout",
     "output_type": "stream",
     "text": [
      "Epoch 7/10 完成：訓練損失=0.7552, 驗證損失=0.7392, 驗證準確率=0.6952\n"
     ]
    },
    {
     "name": "stderr",
     "output_type": "stream",
     "text": [
      "Epoch 8/10: 100%|██████████| 515/515 [00:14<00:00, 36.30it/s]\n"
     ]
    },
    {
     "name": "stdout",
     "output_type": "stream",
     "text": [
      "Epoch 8/10 完成：訓練損失=0.7129, 驗證損失=0.6898, 驗證準確率=0.7167\n"
     ]
    },
    {
     "name": "stderr",
     "output_type": "stream",
     "text": [
      "Epoch 9/10: 100%|██████████| 515/515 [00:14<00:00, 36.65it/s]\n"
     ]
    },
    {
     "name": "stdout",
     "output_type": "stream",
     "text": [
      "Epoch 9/10 完成：訓練損失=0.6562, 驗證損失=0.6760, 驗證準確率=0.7223\n"
     ]
    },
    {
     "name": "stderr",
     "output_type": "stream",
     "text": [
      "Epoch 10/10: 100%|██████████| 515/515 [00:14<00:00, 36.20it/s]\n"
     ]
    },
    {
     "name": "stdout",
     "output_type": "stream",
     "text": [
      "Epoch 10/10 完成：訓練損失=0.6237, 驗證損失=0.6481, 驗證準確率=0.7425\n",
      "試驗 4/27 完成，耗時：0:02:42.409629\n",
      "試驗 5/27：batch_size=64, pooling_method=max, activation=sigmoid\n"
     ]
    },
    {
     "name": "stderr",
     "output_type": "stream",
     "text": [
      "Epoch 1/10: 100%|██████████| 515/515 [00:14<00:00, 35.44it/s]\n"
     ]
    },
    {
     "name": "stdout",
     "output_type": "stream",
     "text": [
      "Epoch 1/10 完成：訓練損失=1.5524, 驗證損失=1.5513, 驗證準確率=0.2337\n"
     ]
    },
    {
     "name": "stderr",
     "output_type": "stream",
     "text": [
      "Epoch 2/10: 100%|██████████| 515/515 [00:14<00:00, 36.19it/s]\n"
     ]
    },
    {
     "name": "stdout",
     "output_type": "stream",
     "text": [
      "Epoch 2/10 完成：訓練損失=1.5747, 驗證損失=1.5772, 驗證準確率=0.2044\n"
     ]
    },
    {
     "name": "stderr",
     "output_type": "stream",
     "text": [
      "Epoch 3/10: 100%|██████████| 515/515 [00:14<00:00, 36.11it/s]\n"
     ]
    },
    {
     "name": "stdout",
     "output_type": "stream",
     "text": [
      "Epoch 3/10 完成：訓練損失=1.5555, 驗證損失=1.5475, 驗證準確率=0.2688\n"
     ]
    },
    {
     "name": "stderr",
     "output_type": "stream",
     "text": [
      "Epoch 4/10: 100%|██████████| 515/515 [00:14<00:00, 36.39it/s]\n"
     ]
    },
    {
     "name": "stdout",
     "output_type": "stream",
     "text": [
      "Epoch 4/10 完成：訓練損失=1.5615, 驗證損失=1.5558, 驗證準確率=0.2584\n"
     ]
    },
    {
     "name": "stderr",
     "output_type": "stream",
     "text": [
      "Epoch 5/10: 100%|██████████| 515/515 [00:13<00:00, 38.88it/s]\n"
     ]
    },
    {
     "name": "stdout",
     "output_type": "stream",
     "text": [
      "Epoch 5/10 完成：訓練損失=1.5108, 驗證損失=1.4235, 驗證準確率=0.3725\n"
     ]
    },
    {
     "name": "stderr",
     "output_type": "stream",
     "text": [
      "Epoch 6/10: 100%|██████████| 515/515 [00:13<00:00, 39.02it/s]\n"
     ]
    },
    {
     "name": "stdout",
     "output_type": "stream",
     "text": [
      "Epoch 6/10 完成：訓練損失=1.3748, 驗證損失=1.3120, 驗證準確率=0.4550\n"
     ]
    },
    {
     "name": "stderr",
     "output_type": "stream",
     "text": [
      "Epoch 7/10: 100%|██████████| 515/515 [00:13<00:00, 37.42it/s]\n"
     ]
    },
    {
     "name": "stdout",
     "output_type": "stream",
     "text": [
      "Epoch 7/10 完成：訓練損失=1.3007, 驗證損失=1.2622, 驗證準確率=0.5181\n"
     ]
    },
    {
     "name": "stderr",
     "output_type": "stream",
     "text": [
      "Epoch 8/10: 100%|██████████| 515/515 [00:13<00:00, 38.55it/s]\n"
     ]
    },
    {
     "name": "stdout",
     "output_type": "stream",
     "text": [
      "Epoch 8/10 完成：訓練損失=1.2680, 驗證損失=1.2311, 驗證準確率=0.5845\n"
     ]
    },
    {
     "name": "stderr",
     "output_type": "stream",
     "text": [
      "Epoch 9/10: 100%|██████████| 515/515 [00:13<00:00, 37.94it/s]\n"
     ]
    },
    {
     "name": "stdout",
     "output_type": "stream",
     "text": [
      "Epoch 9/10 完成：訓練損失=1.2448, 驗證損失=1.2104, 驗證準確率=0.6268\n"
     ]
    },
    {
     "name": "stderr",
     "output_type": "stream",
     "text": [
      "Epoch 10/10: 100%|██████████| 515/515 [00:13<00:00, 37.43it/s]\n"
     ]
    },
    {
     "name": "stdout",
     "output_type": "stream",
     "text": [
      "Epoch 10/10 完成：訓練損失=1.2253, 驗證損失=1.1946, 驗證準確率=0.6292\n",
      "試驗 5/27 完成，耗時：0:02:37.515001\n",
      "試驗 6/27：batch_size=64, pooling_method=max, activation=relu\n"
     ]
    },
    {
     "name": "stderr",
     "output_type": "stream",
     "text": [
      "Epoch 1/10: 100%|██████████| 515/515 [00:13<00:00, 36.86it/s]\n"
     ]
    },
    {
     "name": "stdout",
     "output_type": "stream",
     "text": [
      "Epoch 1/10 完成：訓練損失=1.6095, 驗證損失=1.6094, 驗證準確率=0.1332\n"
     ]
    },
    {
     "name": "stderr",
     "output_type": "stream",
     "text": [
      "Epoch 2/10: 100%|██████████| 515/515 [00:14<00:00, 36.39it/s]\n"
     ]
    },
    {
     "name": "stdout",
     "output_type": "stream",
     "text": [
      "Epoch 2/10 完成：訓練損失=1.6094, 驗證損失=1.6094, 驗證準確率=0.1332\n"
     ]
    },
    {
     "name": "stderr",
     "output_type": "stream",
     "text": [
      "Epoch 3/10: 100%|██████████| 515/515 [00:13<00:00, 37.12it/s]\n"
     ]
    },
    {
     "name": "stdout",
     "output_type": "stream",
     "text": [
      "Epoch 3/10 完成：訓練損失=1.6094, 驗證損失=1.6094, 驗證準確率=0.1332\n"
     ]
    },
    {
     "name": "stderr",
     "output_type": "stream",
     "text": [
      "Epoch 4/10: 100%|██████████| 515/515 [00:13<00:00, 36.90it/s]\n"
     ]
    },
    {
     "name": "stdout",
     "output_type": "stream",
     "text": [
      "Epoch 4/10 完成：訓練損失=1.6094, 驗證損失=1.6094, 驗證準確率=0.1332\n",
      "提前停止於 epoch 4\n",
      "試驗 6/27 完成，耗時：0:01:07.738933\n",
      "試驗 7/27：batch_size=64, pooling_method=max, activation=softmax\n"
     ]
    },
    {
     "name": "stderr",
     "output_type": "stream",
     "text": [
      "Epoch 1/10: 100%|██████████| 515/515 [00:13<00:00, 36.98it/s]\n"
     ]
    },
    {
     "name": "stdout",
     "output_type": "stream",
     "text": [
      "Epoch 1/10 完成：訓練損失=1.2217, 驗證損失=1.0194, 驗證準確率=0.5507\n"
     ]
    },
    {
     "name": "stderr",
     "output_type": "stream",
     "text": [
      "Epoch 2/10: 100%|██████████| 515/515 [00:14<00:00, 35.91it/s]\n"
     ]
    },
    {
     "name": "stdout",
     "output_type": "stream",
     "text": [
      "Epoch 2/10 完成：訓練損失=1.0220, 驗證損失=0.8885, 驗證準確率=0.6319\n"
     ]
    },
    {
     "name": "stderr",
     "output_type": "stream",
     "text": [
      "Epoch 3/10: 100%|██████████| 515/515 [00:13<00:00, 37.52it/s]\n"
     ]
    },
    {
     "name": "stdout",
     "output_type": "stream",
     "text": [
      "Epoch 3/10 完成：訓練損失=0.9217, 驗證損失=0.8744, 驗證準確率=0.6341\n"
     ]
    },
    {
     "name": "stderr",
     "output_type": "stream",
     "text": [
      "Epoch 4/10: 100%|██████████| 515/515 [00:13<00:00, 36.92it/s]\n"
     ]
    },
    {
     "name": "stdout",
     "output_type": "stream",
     "text": [
      "Epoch 4/10 完成：訓練損失=0.8470, 驗證損失=0.8013, 驗證準確率=0.6593\n"
     ]
    },
    {
     "name": "stderr",
     "output_type": "stream",
     "text": [
      "Epoch 5/10: 100%|██████████| 515/515 [00:13<00:00, 36.80it/s]\n"
     ]
    },
    {
     "name": "stdout",
     "output_type": "stream",
     "text": [
      "Epoch 5/10 完成：訓練損失=0.7937, 驗證損失=0.7076, 驗證準確率=0.7172\n"
     ]
    },
    {
     "name": "stderr",
     "output_type": "stream",
     "text": [
      "Epoch 6/10: 100%|██████████| 515/515 [00:13<00:00, 37.13it/s]\n"
     ]
    },
    {
     "name": "stdout",
     "output_type": "stream",
     "text": [
      "Epoch 6/10 完成：訓練損失=0.7152, 驗證損失=0.6766, 驗證準確率=0.7355\n"
     ]
    },
    {
     "name": "stderr",
     "output_type": "stream",
     "text": [
      "Epoch 7/10: 100%|██████████| 515/515 [00:14<00:00, 36.54it/s]\n"
     ]
    },
    {
     "name": "stdout",
     "output_type": "stream",
     "text": [
      "Epoch 7/10 完成：訓練損失=0.6800, 驗證損失=0.6494, 驗證準確率=0.7363\n"
     ]
    },
    {
     "name": "stderr",
     "output_type": "stream",
     "text": [
      "Epoch 8/10: 100%|██████████| 515/515 [00:13<00:00, 36.94it/s]\n"
     ]
    },
    {
     "name": "stdout",
     "output_type": "stream",
     "text": [
      "Epoch 8/10 完成：訓練損失=0.6307, 驗證損失=0.6278, 驗證準確率=0.7584\n"
     ]
    },
    {
     "name": "stderr",
     "output_type": "stream",
     "text": [
      "Epoch 9/10: 100%|██████████| 515/515 [00:14<00:00, 36.24it/s]\n"
     ]
    },
    {
     "name": "stdout",
     "output_type": "stream",
     "text": [
      "Epoch 9/10 完成：訓練損失=0.6044, 驗證損失=0.6314, 驗證準確率=0.7550\n"
     ]
    },
    {
     "name": "stderr",
     "output_type": "stream",
     "text": [
      "Epoch 10/10: 100%|██████████| 515/515 [00:14<00:00, 36.42it/s]\n"
     ]
    },
    {
     "name": "stdout",
     "output_type": "stream",
     "text": [
      "Epoch 10/10 完成：訓練損失=0.5725, 驗證損失=0.6006, 驗證準確率=0.7701\n",
      "試驗 7/27 完成，耗時：0:02:39.555539\n",
      "試驗 8/27：batch_size=64, pooling_method=average, activation=sigmoid\n"
     ]
    },
    {
     "name": "stderr",
     "output_type": "stream",
     "text": [
      "Epoch 1/10: 100%|██████████| 515/515 [00:14<00:00, 36.46it/s]\n"
     ]
    },
    {
     "name": "stdout",
     "output_type": "stream",
     "text": [
      "Epoch 1/10 完成：訓練損失=1.5928, 驗證損失=1.5567, 驗證準確率=0.2506\n"
     ]
    },
    {
     "name": "stderr",
     "output_type": "stream",
     "text": [
      "Epoch 2/10: 100%|██████████| 515/515 [00:13<00:00, 36.81it/s]\n"
     ]
    },
    {
     "name": "stdout",
     "output_type": "stream",
     "text": [
      "Epoch 2/10 完成：訓練損失=1.5505, 驗證損失=1.5466, 驗證準確率=0.2685\n"
     ]
    },
    {
     "name": "stderr",
     "output_type": "stream",
     "text": [
      "Epoch 3/10: 100%|██████████| 515/515 [00:13<00:00, 37.10it/s]\n"
     ]
    },
    {
     "name": "stdout",
     "output_type": "stream",
     "text": [
      "Epoch 3/10 完成：訓練損失=1.5259, 驗證損失=1.5003, 驗證準確率=0.2899\n"
     ]
    },
    {
     "name": "stderr",
     "output_type": "stream",
     "text": [
      "Epoch 4/10: 100%|██████████| 515/515 [00:13<00:00, 37.67it/s]\n"
     ]
    },
    {
     "name": "stdout",
     "output_type": "stream",
     "text": [
      "Epoch 4/10 完成：訓練損失=1.4673, 驗證損失=1.4203, 驗證準確率=0.3901\n"
     ]
    },
    {
     "name": "stderr",
     "output_type": "stream",
     "text": [
      "Epoch 5/10: 100%|██████████| 515/515 [00:13<00:00, 37.41it/s]\n"
     ]
    },
    {
     "name": "stdout",
     "output_type": "stream",
     "text": [
      "Epoch 5/10 完成：訓練損失=1.3573, 驗證損失=1.2938, 驗證準確率=0.5193\n"
     ]
    },
    {
     "name": "stderr",
     "output_type": "stream",
     "text": [
      "Epoch 6/10: 100%|██████████| 515/515 [00:13<00:00, 36.83it/s]\n"
     ]
    },
    {
     "name": "stdout",
     "output_type": "stream",
     "text": [
      "Epoch 6/10 完成：訓練損失=1.2994, 驗證損失=1.2669, 驗證準確率=0.5459\n"
     ]
    },
    {
     "name": "stderr",
     "output_type": "stream",
     "text": [
      "Epoch 7/10: 100%|██████████| 515/515 [00:13<00:00, 37.76it/s]\n"
     ]
    },
    {
     "name": "stdout",
     "output_type": "stream",
     "text": [
      "Epoch 7/10 完成：訓練損失=1.2735, 驗證損失=1.2387, 驗證準確率=0.5820\n"
     ]
    },
    {
     "name": "stderr",
     "output_type": "stream",
     "text": [
      "Epoch 8/10: 100%|██████████| 515/515 [00:13<00:00, 37.10it/s]\n"
     ]
    },
    {
     "name": "stdout",
     "output_type": "stream",
     "text": [
      "Epoch 8/10 完成：訓練損失=1.2536, 驗證損失=1.2224, 驗證準確率=0.5975\n"
     ]
    },
    {
     "name": "stderr",
     "output_type": "stream",
     "text": [
      "Epoch 9/10: 100%|██████████| 515/515 [00:13<00:00, 37.50it/s]\n"
     ]
    },
    {
     "name": "stdout",
     "output_type": "stream",
     "text": [
      "Epoch 9/10 完成：訓練損失=1.2319, 驗證損失=1.2168, 驗證準確率=0.6050\n"
     ]
    },
    {
     "name": "stderr",
     "output_type": "stream",
     "text": [
      "Epoch 10/10: 100%|██████████| 515/515 [00:14<00:00, 36.61it/s]\n"
     ]
    },
    {
     "name": "stdout",
     "output_type": "stream",
     "text": [
      "Epoch 10/10 完成：訓練損失=1.2091, 驗證損失=1.1940, 驗證準確率=0.6586\n",
      "試驗 8/27 完成，耗時：0:02:38.375663\n",
      "試驗 9/27：batch_size=64, pooling_method=average, activation=relu\n"
     ]
    },
    {
     "name": "stderr",
     "output_type": "stream",
     "text": [
      "Epoch 1/10: 100%|██████████| 515/515 [00:14<00:00, 36.41it/s]\n"
     ]
    },
    {
     "name": "stdout",
     "output_type": "stream",
     "text": [
      "Epoch 1/10 完成：訓練損失=1.2920, 驗證損失=1.0676, 驗證準確率=0.5271\n"
     ]
    },
    {
     "name": "stderr",
     "output_type": "stream",
     "text": [
      "Epoch 2/10: 100%|██████████| 515/515 [00:13<00:00, 36.90it/s]\n"
     ]
    },
    {
     "name": "stdout",
     "output_type": "stream",
     "text": [
      "Epoch 2/10 完成：訓練損失=1.0277, 驗證損失=0.9261, 驗證準確率=0.5921\n"
     ]
    },
    {
     "name": "stderr",
     "output_type": "stream",
     "text": [
      "Epoch 3/10: 100%|██████████| 515/515 [00:13<00:00, 36.97it/s]\n"
     ]
    },
    {
     "name": "stdout",
     "output_type": "stream",
     "text": [
      "Epoch 3/10 完成：訓練損失=0.9077, 驗證損失=0.8113, 驗證準確率=0.6631\n"
     ]
    },
    {
     "name": "stderr",
     "output_type": "stream",
     "text": [
      "Epoch 4/10: 100%|██████████| 515/515 [00:14<00:00, 36.26it/s]\n"
     ]
    },
    {
     "name": "stdout",
     "output_type": "stream",
     "text": [
      "Epoch 4/10 完成：訓練損失=0.8058, 驗證損失=0.7441, 驗證準確率=0.6992\n"
     ]
    },
    {
     "name": "stderr",
     "output_type": "stream",
     "text": [
      "Epoch 5/10: 100%|██████████| 515/515 [00:13<00:00, 37.41it/s]\n"
     ]
    },
    {
     "name": "stdout",
     "output_type": "stream",
     "text": [
      "Epoch 5/10 完成：訓練損失=0.7348, 驗證損失=0.7365, 驗證準確率=0.7039\n"
     ]
    },
    {
     "name": "stderr",
     "output_type": "stream",
     "text": [
      "Epoch 6/10: 100%|██████████| 515/515 [00:14<00:00, 36.63it/s]\n"
     ]
    },
    {
     "name": "stdout",
     "output_type": "stream",
     "text": [
      "Epoch 6/10 完成：訓練損失=0.6823, 驗證損失=0.6527, 驗證準確率=0.7393\n"
     ]
    },
    {
     "name": "stderr",
     "output_type": "stream",
     "text": [
      "Epoch 7/10: 100%|██████████| 515/515 [00:14<00:00, 36.45it/s]\n"
     ]
    },
    {
     "name": "stdout",
     "output_type": "stream",
     "text": [
      "Epoch 7/10 完成：訓練損失=0.6307, 驗證損失=0.6412, 驗證準確率=0.7543\n"
     ]
    },
    {
     "name": "stderr",
     "output_type": "stream",
     "text": [
      "Epoch 8/10: 100%|██████████| 515/515 [00:14<00:00, 36.67it/s]\n"
     ]
    },
    {
     "name": "stdout",
     "output_type": "stream",
     "text": [
      "Epoch 8/10 完成：訓練損失=0.5877, 驗證損失=0.6110, 驗證準確率=0.7626\n"
     ]
    },
    {
     "name": "stderr",
     "output_type": "stream",
     "text": [
      "Epoch 9/10: 100%|██████████| 515/515 [00:13<00:00, 36.86it/s]\n"
     ]
    },
    {
     "name": "stdout",
     "output_type": "stream",
     "text": [
      "Epoch 9/10 完成：訓練損失=0.5539, 驗證損失=0.5967, 驗證準確率=0.7735\n"
     ]
    },
    {
     "name": "stderr",
     "output_type": "stream",
     "text": [
      "Epoch 10/10: 100%|██████████| 515/515 [00:14<00:00, 36.64it/s]\n"
     ]
    },
    {
     "name": "stdout",
     "output_type": "stream",
     "text": [
      "Epoch 10/10 完成：訓練損失=0.5228, 驗證損失=0.5991, 驗證準確率=0.7793\n",
      "試驗 9/27 完成，耗時：0:02:39.992361\n",
      "試驗 10/27：batch_size=64, pooling_method=average, activation=softmax\n"
     ]
    },
    {
     "name": "stderr",
     "output_type": "stream",
     "text": [
      "Epoch 1/10: 100%|██████████| 515/515 [00:13<00:00, 36.95it/s]\n"
     ]
    },
    {
     "name": "stdout",
     "output_type": "stream",
     "text": [
      "Epoch 1/10 完成：訓練損失=1.2603, 驗證損失=1.0396, 驗證準確率=0.5361\n"
     ]
    },
    {
     "name": "stderr",
     "output_type": "stream",
     "text": [
      "Epoch 2/10: 100%|██████████| 515/515 [00:14<00:00, 36.52it/s]\n"
     ]
    },
    {
     "name": "stdout",
     "output_type": "stream",
     "text": [
      "Epoch 2/10 完成：訓練損失=1.0278, 驗證損失=0.9393, 驗證準確率=0.5809\n"
     ]
    },
    {
     "name": "stderr",
     "output_type": "stream",
     "text": [
      "Epoch 3/10: 100%|██████████| 515/515 [00:14<00:00, 36.67it/s]\n"
     ]
    },
    {
     "name": "stdout",
     "output_type": "stream",
     "text": [
      "Epoch 3/10 完成：訓練損失=0.9046, 驗證損失=0.8096, 驗證準確率=0.6389\n"
     ]
    },
    {
     "name": "stderr",
     "output_type": "stream",
     "text": [
      "Epoch 4/10: 100%|██████████| 515/515 [00:14<00:00, 36.71it/s]\n"
     ]
    },
    {
     "name": "stdout",
     "output_type": "stream",
     "text": [
      "Epoch 4/10 完成：訓練損失=0.8015, 驗證損失=0.7424, 驗證準確率=0.6915\n"
     ]
    },
    {
     "name": "stderr",
     "output_type": "stream",
     "text": [
      "Epoch 5/10: 100%|██████████| 515/515 [00:13<00:00, 36.93it/s]\n"
     ]
    },
    {
     "name": "stdout",
     "output_type": "stream",
     "text": [
      "Epoch 5/10 完成：訓練損失=0.7264, 驗證損失=0.6805, 驗證準確率=0.7303\n"
     ]
    },
    {
     "name": "stderr",
     "output_type": "stream",
     "text": [
      "Epoch 6/10: 100%|██████████| 515/515 [00:13<00:00, 38.43it/s]\n"
     ]
    },
    {
     "name": "stdout",
     "output_type": "stream",
     "text": [
      "Epoch 6/10 完成：訓練損失=0.6728, 驗證損失=0.6574, 驗證準確率=0.7263\n"
     ]
    },
    {
     "name": "stderr",
     "output_type": "stream",
     "text": [
      "Epoch 7/10: 100%|██████████| 515/515 [00:13<00:00, 38.64it/s]\n"
     ]
    },
    {
     "name": "stdout",
     "output_type": "stream",
     "text": [
      "Epoch 7/10 完成：訓練損失=0.6261, 驗證損失=0.6345, 驗證準確率=0.7584\n"
     ]
    },
    {
     "name": "stderr",
     "output_type": "stream",
     "text": [
      "Epoch 8/10: 100%|██████████| 515/515 [00:13<00:00, 37.73it/s]\n"
     ]
    },
    {
     "name": "stdout",
     "output_type": "stream",
     "text": [
      "Epoch 8/10 完成：訓練損失=0.5873, 驗證損失=0.6037, 驗證準確率=0.7690\n"
     ]
    },
    {
     "name": "stderr",
     "output_type": "stream",
     "text": [
      "Epoch 9/10: 100%|██████████| 515/515 [00:13<00:00, 37.71it/s]\n"
     ]
    },
    {
     "name": "stdout",
     "output_type": "stream",
     "text": [
      "Epoch 9/10 完成：訓練損失=0.5421, 驗證損失=0.5921, 驗證準確率=0.7759\n"
     ]
    },
    {
     "name": "stderr",
     "output_type": "stream",
     "text": [
      "Epoch 10/10: 100%|██████████| 515/515 [00:13<00:00, 38.08it/s]\n"
     ]
    },
    {
     "name": "stdout",
     "output_type": "stream",
     "text": [
      "Epoch 10/10 完成：訓練損失=0.5091, 驗證損失=0.5907, 驗證準確率=0.7782\n",
      "試驗 10/27 完成，耗時：0:02:36.838803\n",
      "試驗 11/27：batch_size=128, pooling_method=hidden, activation=sigmoid\n"
     ]
    },
    {
     "name": "stderr",
     "output_type": "stream",
     "text": [
      "Epoch 1/10: 100%|██████████| 258/258 [00:09<00:00, 25.81it/s]\n"
     ]
    },
    {
     "name": "stdout",
     "output_type": "stream",
     "text": [
      "Epoch 1/10 完成：訓練損失=1.5425, 驗證損失=1.5473, 驗證準確率=0.2543\n"
     ]
    },
    {
     "name": "stderr",
     "output_type": "stream",
     "text": [
      "Epoch 2/10: 100%|██████████| 258/258 [00:10<00:00, 25.77it/s]\n"
     ]
    },
    {
     "name": "stdout",
     "output_type": "stream",
     "text": [
      "Epoch 2/10 完成：訓練損失=1.5951, 驗證損失=1.6098, 驗證準確率=0.1332\n"
     ]
    },
    {
     "name": "stderr",
     "output_type": "stream",
     "text": [
      "Epoch 3/10: 100%|██████████| 258/258 [00:10<00:00, 25.41it/s]\n"
     ]
    },
    {
     "name": "stdout",
     "output_type": "stream",
     "text": [
      "Epoch 3/10 完成：訓練損失=1.6086, 驗證損失=1.6361, 驗證準確率=0.1610\n"
     ]
    },
    {
     "name": "stderr",
     "output_type": "stream",
     "text": [
      "Epoch 4/10: 100%|██████████| 258/258 [00:10<00:00, 25.75it/s]\n"
     ]
    },
    {
     "name": "stdout",
     "output_type": "stream",
     "text": [
      "Epoch 4/10 完成：訓練損失=1.5701, 驗證損失=1.6313, 驗證準確率=0.2041\n",
      "提前停止於 epoch 4\n",
      "試驗 11/27 完成，耗時：0:00:50.329589\n",
      "試驗 12/27：batch_size=128, pooling_method=hidden, activation=relu\n"
     ]
    },
    {
     "name": "stderr",
     "output_type": "stream",
     "text": [
      "Epoch 1/10: 100%|██████████| 258/258 [00:10<00:00, 25.79it/s]\n"
     ]
    },
    {
     "name": "stdout",
     "output_type": "stream",
     "text": [
      "Epoch 1/10 完成：訓練損失=1.6095, 驗證損失=1.6094, 驗證準確率=0.1332\n"
     ]
    },
    {
     "name": "stderr",
     "output_type": "stream",
     "text": [
      "Epoch 2/10: 100%|██████████| 258/258 [00:09<00:00, 26.62it/s]\n"
     ]
    },
    {
     "name": "stdout",
     "output_type": "stream",
     "text": [
      "Epoch 2/10 完成：訓練損失=1.6094, 驗證損失=1.6094, 驗證準確率=0.1332\n"
     ]
    },
    {
     "name": "stderr",
     "output_type": "stream",
     "text": [
      "Epoch 3/10: 100%|██████████| 258/258 [00:09<00:00, 26.49it/s]\n"
     ]
    },
    {
     "name": "stdout",
     "output_type": "stream",
     "text": [
      "Epoch 3/10 完成：訓練損失=1.6094, 驗證損失=1.6094, 驗證準確率=0.1332\n"
     ]
    },
    {
     "name": "stderr",
     "output_type": "stream",
     "text": [
      "Epoch 4/10: 100%|██████████| 258/258 [00:09<00:00, 26.01it/s]\n"
     ]
    },
    {
     "name": "stdout",
     "output_type": "stream",
     "text": [
      "Epoch 4/10 完成：訓練損失=1.6094, 驗證損失=1.6094, 驗證準確率=0.1332\n",
      "提前停止於 epoch 4\n",
      "試驗 12/27 完成，耗時：0:00:49.706182\n",
      "試驗 13/27：batch_size=128, pooling_method=hidden, activation=softmax\n"
     ]
    },
    {
     "name": "stderr",
     "output_type": "stream",
     "text": [
      "Epoch 1/10: 100%|██████████| 258/258 [00:10<00:00, 24.42it/s]\n"
     ]
    },
    {
     "name": "stdout",
     "output_type": "stream",
     "text": [
      "Epoch 1/10 完成：訓練損失=1.3828, 驗證損失=1.2224, 驗證準確率=0.4603\n"
     ]
    },
    {
     "name": "stderr",
     "output_type": "stream",
     "text": [
      "Epoch 2/10: 100%|██████████| 258/258 [00:10<00:00, 25.28it/s]\n"
     ]
    },
    {
     "name": "stdout",
     "output_type": "stream",
     "text": [
      "Epoch 2/10 完成：訓練損失=1.1968, 驗證損失=1.0637, 驗證準確率=0.5112\n"
     ]
    },
    {
     "name": "stderr",
     "output_type": "stream",
     "text": [
      "Epoch 3/10: 100%|██████████| 258/258 [00:10<00:00, 25.26it/s]\n"
     ]
    },
    {
     "name": "stdout",
     "output_type": "stream",
     "text": [
      "Epoch 3/10 完成：訓練損失=1.0766, 驗證損失=0.9888, 驗證準確率=0.5529\n"
     ]
    },
    {
     "name": "stderr",
     "output_type": "stream",
     "text": [
      "Epoch 4/10: 100%|██████████| 258/258 [00:10<00:00, 25.29it/s]\n"
     ]
    },
    {
     "name": "stdout",
     "output_type": "stream",
     "text": [
      "Epoch 4/10 完成：訓練損失=0.9996, 驗證損失=0.9278, 驗證準確率=0.5983\n"
     ]
    },
    {
     "name": "stderr",
     "output_type": "stream",
     "text": [
      "Epoch 5/10: 100%|██████████| 258/258 [00:10<00:00, 25.24it/s]\n"
     ]
    },
    {
     "name": "stdout",
     "output_type": "stream",
     "text": [
      "Epoch 5/10 完成：訓練損失=0.9318, 驗證損失=0.8647, 驗證準確率=0.6303\n"
     ]
    },
    {
     "name": "stderr",
     "output_type": "stream",
     "text": [
      "Epoch 6/10: 100%|██████████| 258/258 [00:10<00:00, 24.80it/s]\n"
     ]
    },
    {
     "name": "stdout",
     "output_type": "stream",
     "text": [
      "Epoch 6/10 完成：訓練損失=0.8588, 驗證損失=0.7912, 驗證準確率=0.6688\n"
     ]
    },
    {
     "name": "stderr",
     "output_type": "stream",
     "text": [
      "Epoch 7/10: 100%|██████████| 258/258 [00:10<00:00, 24.45it/s]\n"
     ]
    },
    {
     "name": "stdout",
     "output_type": "stream",
     "text": [
      "Epoch 7/10 完成：訓練損失=0.7976, 驗證損失=0.7733, 驗證準確率=0.6719\n"
     ]
    },
    {
     "name": "stderr",
     "output_type": "stream",
     "text": [
      "Epoch 8/10: 100%|██████████| 258/258 [00:10<00:00, 24.98it/s]\n"
     ]
    },
    {
     "name": "stdout",
     "output_type": "stream",
     "text": [
      "Epoch 8/10 完成：訓練損失=0.7561, 驗證損失=0.7314, 驗證準確率=0.7084\n"
     ]
    },
    {
     "name": "stderr",
     "output_type": "stream",
     "text": [
      "Epoch 9/10: 100%|██████████| 258/258 [00:10<00:00, 24.54it/s]\n"
     ]
    },
    {
     "name": "stdout",
     "output_type": "stream",
     "text": [
      "Epoch 9/10 完成：訓練損失=0.7069, 驗證損失=0.7088, 驗證準確率=0.7123\n"
     ]
    },
    {
     "name": "stderr",
     "output_type": "stream",
     "text": [
      "Epoch 10/10: 100%|██████████| 258/258 [00:10<00:00, 24.67it/s]\n"
     ]
    },
    {
     "name": "stdout",
     "output_type": "stream",
     "text": [
      "Epoch 10/10 完成：訓練損失=0.6749, 驗證損失=0.6805, 驗證準確率=0.7291\n",
      "試驗 13/27 完成，耗時：0:01:59.362162\n",
      "試驗 14/27：batch_size=128, pooling_method=max, activation=sigmoid\n"
     ]
    },
    {
     "name": "stderr",
     "output_type": "stream",
     "text": [
      "Epoch 1/10: 100%|██████████| 258/258 [00:10<00:00, 25.10it/s]\n"
     ]
    },
    {
     "name": "stdout",
     "output_type": "stream",
     "text": [
      "Epoch 1/10 完成：訓練損失=1.5459, 驗證損失=1.5740, 驗證準確率=0.2347\n"
     ]
    },
    {
     "name": "stderr",
     "output_type": "stream",
     "text": [
      "Epoch 2/10: 100%|██████████| 258/258 [00:10<00:00, 25.33it/s]\n"
     ]
    },
    {
     "name": "stdout",
     "output_type": "stream",
     "text": [
      "Epoch 2/10 完成：訓練損失=1.5255, 驗證損失=1.5136, 驗證準確率=0.2752\n"
     ]
    },
    {
     "name": "stderr",
     "output_type": "stream",
     "text": [
      "Epoch 3/10: 100%|██████████| 258/258 [00:10<00:00, 24.57it/s]\n"
     ]
    },
    {
     "name": "stdout",
     "output_type": "stream",
     "text": [
      "Epoch 3/10 完成：訓練損失=1.5300, 驗證損失=1.6685, 驗證準確率=0.1629\n"
     ]
    },
    {
     "name": "stderr",
     "output_type": "stream",
     "text": [
      "Epoch 4/10: 100%|██████████| 258/258 [00:10<00:00, 24.84it/s]\n"
     ]
    },
    {
     "name": "stdout",
     "output_type": "stream",
     "text": [
      "Epoch 4/10 完成：訓練損失=1.5554, 驗證損失=1.5191, 驗證準確率=0.2944\n"
     ]
    },
    {
     "name": "stderr",
     "output_type": "stream",
     "text": [
      "Epoch 5/10: 100%|██████████| 258/258 [00:10<00:00, 24.80it/s]\n"
     ]
    },
    {
     "name": "stdout",
     "output_type": "stream",
     "text": [
      "Epoch 5/10 完成：訓練損失=1.5272, 驗證損失=1.4798, 驗證準確率=0.3196\n"
     ]
    },
    {
     "name": "stderr",
     "output_type": "stream",
     "text": [
      "Epoch 6/10: 100%|██████████| 258/258 [00:10<00:00, 25.25it/s]\n"
     ]
    },
    {
     "name": "stdout",
     "output_type": "stream",
     "text": [
      "Epoch 6/10 完成：訓練損失=1.4246, 驗證損失=1.3584, 驗證準確率=0.4226\n"
     ]
    },
    {
     "name": "stderr",
     "output_type": "stream",
     "text": [
      "Epoch 7/10: 100%|██████████| 258/258 [00:09<00:00, 26.28it/s]\n"
     ]
    },
    {
     "name": "stdout",
     "output_type": "stream",
     "text": [
      "Epoch 7/10 完成：訓練損失=1.3448, 驗證損失=1.3182, 驗證準確率=0.4865\n"
     ]
    },
    {
     "name": "stderr",
     "output_type": "stream",
     "text": [
      "Epoch 8/10: 100%|██████████| 258/258 [00:09<00:00, 26.23it/s]\n"
     ]
    },
    {
     "name": "stdout",
     "output_type": "stream",
     "text": [
      "Epoch 8/10 完成：訓練損失=1.3238, 驗證損失=1.3005, 驗證準確率=0.4911\n"
     ]
    },
    {
     "name": "stderr",
     "output_type": "stream",
     "text": [
      "Epoch 9/10: 100%|██████████| 258/258 [00:09<00:00, 26.02it/s]\n"
     ]
    },
    {
     "name": "stdout",
     "output_type": "stream",
     "text": [
      "Epoch 9/10 完成：訓練損失=1.3071, 驗證損失=1.2890, 驗證準確率=0.5084\n"
     ]
    },
    {
     "name": "stderr",
     "output_type": "stream",
     "text": [
      "Epoch 10/10: 100%|██████████| 258/258 [00:10<00:00, 25.40it/s]\n"
     ]
    },
    {
     "name": "stdout",
     "output_type": "stream",
     "text": [
      "Epoch 10/10 完成：訓練損失=1.2944, 驗證損失=1.2709, 驗證準確率=0.5273\n",
      "試驗 14/27 完成，耗時：0:01:57.294678\n",
      "試驗 15/27：batch_size=128, pooling_method=max, activation=relu\n"
     ]
    },
    {
     "name": "stderr",
     "output_type": "stream",
     "text": [
      "Epoch 1/10: 100%|██████████| 258/258 [00:10<00:00, 25.38it/s]\n"
     ]
    },
    {
     "name": "stdout",
     "output_type": "stream",
     "text": [
      "Epoch 1/10 完成：訓練損失=1.5944, 驗證損失=1.6080, 驗證準確率=0.1347\n"
     ]
    },
    {
     "name": "stderr",
     "output_type": "stream",
     "text": [
      "Epoch 2/10: 100%|██████████| 258/258 [00:09<00:00, 26.53it/s]\n"
     ]
    },
    {
     "name": "stdout",
     "output_type": "stream",
     "text": [
      "Epoch 2/10 完成：訓練損失=1.5700, 驗證損失=1.5431, 驗證準確率=0.2207\n"
     ]
    },
    {
     "name": "stderr",
     "output_type": "stream",
     "text": [
      "Epoch 3/10: 100%|██████████| 258/258 [00:09<00:00, 26.41it/s]\n"
     ]
    },
    {
     "name": "stdout",
     "output_type": "stream",
     "text": [
      "Epoch 3/10 完成：訓練損失=1.5376, 驗證損失=1.5278, 驗證準確率=0.2449\n"
     ]
    },
    {
     "name": "stderr",
     "output_type": "stream",
     "text": [
      "Epoch 4/10: 100%|██████████| 258/258 [00:09<00:00, 26.21it/s]\n"
     ]
    },
    {
     "name": "stdout",
     "output_type": "stream",
     "text": [
      "Epoch 4/10 完成：訓練損失=1.5257, 驗證損失=1.5206, 驗證準確率=0.2645\n"
     ]
    },
    {
     "name": "stderr",
     "output_type": "stream",
     "text": [
      "Epoch 5/10: 100%|██████████| 258/258 [00:10<00:00, 25.36it/s]\n"
     ]
    },
    {
     "name": "stdout",
     "output_type": "stream",
     "text": [
      "Epoch 5/10 完成：訓練損失=1.5111, 驗證損失=1.5072, 驗證準確率=0.2612\n"
     ]
    },
    {
     "name": "stderr",
     "output_type": "stream",
     "text": [
      "Epoch 6/10: 100%|██████████| 258/258 [00:10<00:00, 25.08it/s]\n"
     ]
    },
    {
     "name": "stdout",
     "output_type": "stream",
     "text": [
      "Epoch 6/10 完成：訓練損失=1.5033, 驗證損失=1.4979, 驗證準確率=0.2628\n"
     ]
    },
    {
     "name": "stderr",
     "output_type": "stream",
     "text": [
      "Epoch 7/10: 100%|██████████| 258/258 [00:10<00:00, 25.36it/s]\n"
     ]
    },
    {
     "name": "stdout",
     "output_type": "stream",
     "text": [
      "Epoch 7/10 完成：訓練損失=1.4977, 驗證損失=1.4982, 驗證準確率=0.2605\n",
      "提前停止於 epoch 7\n",
      "試驗 15/27 完成，耗時：0:01:22.967578\n",
      "試驗 16/27：batch_size=128, pooling_method=max, activation=softmax\n"
     ]
    },
    {
     "name": "stderr",
     "output_type": "stream",
     "text": [
      "Epoch 1/10: 100%|██████████| 258/258 [00:10<00:00, 25.30it/s]\n"
     ]
    },
    {
     "name": "stdout",
     "output_type": "stream",
     "text": [
      "Epoch 1/10 完成：訓練損失=1.2876, 驗證損失=1.0858, 驗證準確率=0.4982\n"
     ]
    },
    {
     "name": "stderr",
     "output_type": "stream",
     "text": [
      "Epoch 2/10: 100%|██████████| 258/258 [00:10<00:00, 25.49it/s]\n"
     ]
    },
    {
     "name": "stdout",
     "output_type": "stream",
     "text": [
      "Epoch 2/10 完成：訓練損失=1.0575, 驗證損失=1.0639, 驗證準確率=0.5300\n"
     ]
    },
    {
     "name": "stderr",
     "output_type": "stream",
     "text": [
      "Epoch 3/10: 100%|██████████| 258/258 [00:10<00:00, 24.58it/s]\n"
     ]
    },
    {
     "name": "stdout",
     "output_type": "stream",
     "text": [
      "Epoch 3/10 完成：訓練損失=0.9667, 驗證損失=0.8826, 驗證準確率=0.6235\n"
     ]
    },
    {
     "name": "stderr",
     "output_type": "stream",
     "text": [
      "Epoch 4/10: 100%|██████████| 258/258 [00:10<00:00, 24.71it/s]\n"
     ]
    },
    {
     "name": "stdout",
     "output_type": "stream",
     "text": [
      "Epoch 4/10 完成：訓練損失=0.8655, 驗證損失=0.7845, 驗證準確率=0.6556\n"
     ]
    },
    {
     "name": "stderr",
     "output_type": "stream",
     "text": [
      "Epoch 5/10: 100%|██████████| 258/258 [00:10<00:00, 24.93it/s]\n"
     ]
    },
    {
     "name": "stdout",
     "output_type": "stream",
     "text": [
      "Epoch 5/10 完成：訓練損失=0.7974, 驗證損失=0.7359, 驗證準確率=0.7053\n"
     ]
    },
    {
     "name": "stderr",
     "output_type": "stream",
     "text": [
      "Epoch 6/10: 100%|██████████| 258/258 [00:10<00:00, 24.85it/s]\n"
     ]
    },
    {
     "name": "stdout",
     "output_type": "stream",
     "text": [
      "Epoch 6/10 完成：訓練損失=0.7453, 驗證損失=0.7042, 驗證準確率=0.7002\n"
     ]
    },
    {
     "name": "stderr",
     "output_type": "stream",
     "text": [
      "Epoch 7/10: 100%|██████████| 258/258 [00:10<00:00, 25.08it/s]\n"
     ]
    },
    {
     "name": "stdout",
     "output_type": "stream",
     "text": [
      "Epoch 7/10 完成：訓練損失=0.6946, 驗證損失=0.6659, 驗證準確率=0.7319\n"
     ]
    },
    {
     "name": "stderr",
     "output_type": "stream",
     "text": [
      "Epoch 8/10: 100%|██████████| 258/258 [00:10<00:00, 24.72it/s]\n"
     ]
    },
    {
     "name": "stdout",
     "output_type": "stream",
     "text": [
      "Epoch 8/10 完成：訓練損失=0.6583, 驗證損失=0.6503, 驗證準確率=0.7461\n"
     ]
    },
    {
     "name": "stderr",
     "output_type": "stream",
     "text": [
      "Epoch 9/10: 100%|██████████| 258/258 [00:10<00:00, 24.39it/s]\n"
     ]
    },
    {
     "name": "stdout",
     "output_type": "stream",
     "text": [
      "Epoch 9/10 完成：訓練損失=0.6291, 驗證損失=0.6223, 驗證準確率=0.7485\n"
     ]
    },
    {
     "name": "stderr",
     "output_type": "stream",
     "text": [
      "Epoch 10/10: 100%|██████████| 258/258 [00:10<00:00, 24.63it/s]\n"
     ]
    },
    {
     "name": "stdout",
     "output_type": "stream",
     "text": [
      "Epoch 10/10 完成：訓練損失=0.5900, 驗證損失=0.6114, 驗證準確率=0.7617\n",
      "試驗 16/27 完成，耗時：0:01:59.624542\n",
      "試驗 17/27：batch_size=128, pooling_method=average, activation=sigmoid\n"
     ]
    },
    {
     "name": "stderr",
     "output_type": "stream",
     "text": [
      "Epoch 1/10: 100%|██████████| 258/258 [00:10<00:00, 24.63it/s]\n"
     ]
    },
    {
     "name": "stdout",
     "output_type": "stream",
     "text": [
      "Epoch 1/10 完成：訓練損失=1.5411, 驗證損失=1.5380, 驗證準確率=0.2713\n"
     ]
    },
    {
     "name": "stderr",
     "output_type": "stream",
     "text": [
      "Epoch 2/10: 100%|██████████| 258/258 [00:10<00:00, 25.15it/s]\n"
     ]
    },
    {
     "name": "stdout",
     "output_type": "stream",
     "text": [
      "Epoch 2/10 完成：訓練損失=1.4668, 驗證損失=1.3605, 驗證準確率=0.4430\n"
     ]
    },
    {
     "name": "stderr",
     "output_type": "stream",
     "text": [
      "Epoch 3/10: 100%|██████████| 258/258 [00:10<00:00, 24.67it/s]\n"
     ]
    },
    {
     "name": "stdout",
     "output_type": "stream",
     "text": [
      "Epoch 3/10 完成：訓練損失=1.3406, 驗證損失=1.3068, 驗證準確率=0.5190\n"
     ]
    },
    {
     "name": "stderr",
     "output_type": "stream",
     "text": [
      "Epoch 4/10: 100%|██████████| 258/258 [00:10<00:00, 24.69it/s]\n"
     ]
    },
    {
     "name": "stdout",
     "output_type": "stream",
     "text": [
      "Epoch 4/10 完成：訓練損失=1.3051, 驗證損失=1.2771, 驗證準確率=0.5064\n"
     ]
    },
    {
     "name": "stderr",
     "output_type": "stream",
     "text": [
      "Epoch 5/10: 100%|██████████| 258/258 [00:10<00:00, 24.96it/s]\n"
     ]
    },
    {
     "name": "stdout",
     "output_type": "stream",
     "text": [
      "Epoch 5/10 完成：訓練損失=1.2822, 驗證損失=1.2589, 驗證準確率=0.5331\n"
     ]
    },
    {
     "name": "stderr",
     "output_type": "stream",
     "text": [
      "Epoch 6/10: 100%|██████████| 258/258 [00:10<00:00, 24.82it/s]\n"
     ]
    },
    {
     "name": "stdout",
     "output_type": "stream",
     "text": [
      "Epoch 6/10 完成：訓練損失=1.2680, 驗證損失=1.2465, 驗證準確率=0.5380\n"
     ]
    },
    {
     "name": "stderr",
     "output_type": "stream",
     "text": [
      "Epoch 7/10: 100%|██████████| 258/258 [00:10<00:00, 24.92it/s]\n"
     ]
    },
    {
     "name": "stdout",
     "output_type": "stream",
     "text": [
      "Epoch 7/10 完成：訓練損失=1.2482, 驗證損失=1.2217, 驗證準確率=0.5546\n"
     ]
    },
    {
     "name": "stderr",
     "output_type": "stream",
     "text": [
      "Epoch 8/10: 100%|██████████| 258/258 [00:10<00:00, 24.53it/s]\n"
     ]
    },
    {
     "name": "stdout",
     "output_type": "stream",
     "text": [
      "Epoch 8/10 完成：訓練損失=1.2304, 驗證損失=1.2156, 驗證準確率=0.5658\n"
     ]
    },
    {
     "name": "stderr",
     "output_type": "stream",
     "text": [
      "Epoch 9/10: 100%|██████████| 258/258 [00:10<00:00, 24.65it/s]\n"
     ]
    },
    {
     "name": "stdout",
     "output_type": "stream",
     "text": [
      "Epoch 9/10 完成：訓練損失=1.2170, 驗證損失=1.1976, 驗證準確率=0.5854\n"
     ]
    },
    {
     "name": "stderr",
     "output_type": "stream",
     "text": [
      "Epoch 10/10: 100%|██████████| 258/258 [00:10<00:00, 25.34it/s]\n"
     ]
    },
    {
     "name": "stdout",
     "output_type": "stream",
     "text": [
      "Epoch 10/10 完成：訓練損失=1.2041, 驗證損失=1.1896, 驗證準確率=0.5991\n",
      "試驗 17/27 完成，耗時：0:01:59.478265\n",
      "試驗 18/27：batch_size=128, pooling_method=average, activation=relu\n"
     ]
    },
    {
     "name": "stderr",
     "output_type": "stream",
     "text": [
      "Epoch 1/10: 100%|██████████| 258/258 [00:09<00:00, 26.51it/s]\n"
     ]
    },
    {
     "name": "stdout",
     "output_type": "stream",
     "text": [
      "Epoch 1/10 完成：訓練損失=1.3429, 驗證損失=1.1594, 驗證準確率=0.4700\n"
     ]
    },
    {
     "name": "stderr",
     "output_type": "stream",
     "text": [
      "Epoch 2/10: 100%|██████████| 258/258 [00:09<00:00, 26.16it/s]\n"
     ]
    },
    {
     "name": "stdout",
     "output_type": "stream",
     "text": [
      "Epoch 2/10 完成：訓練損失=1.0843, 驗證損失=0.9741, 驗證準確率=0.5645\n"
     ]
    },
    {
     "name": "stderr",
     "output_type": "stream",
     "text": [
      "Epoch 3/10: 100%|██████████| 258/258 [00:10<00:00, 25.69it/s]\n"
     ]
    },
    {
     "name": "stdout",
     "output_type": "stream",
     "text": [
      "Epoch 3/10 完成：訓練損失=0.9820, 驗證損失=0.9157, 驗證準確率=0.6059\n"
     ]
    },
    {
     "name": "stderr",
     "output_type": "stream",
     "text": [
      "Epoch 4/10: 100%|██████████| 258/258 [00:10<00:00, 25.72it/s]\n"
     ]
    },
    {
     "name": "stdout",
     "output_type": "stream",
     "text": [
      "Epoch 4/10 完成：訓練損失=0.8860, 驗證損失=0.8103, 驗證準確率=0.6641\n"
     ]
    },
    {
     "name": "stderr",
     "output_type": "stream",
     "text": [
      "Epoch 5/10: 100%|██████████| 258/258 [00:10<00:00, 25.10it/s]\n"
     ]
    },
    {
     "name": "stdout",
     "output_type": "stream",
     "text": [
      "Epoch 5/10 完成：訓練損失=0.8066, 驗證損失=0.7422, 驗證準確率=0.7044\n"
     ]
    },
    {
     "name": "stderr",
     "output_type": "stream",
     "text": [
      "Epoch 6/10: 100%|██████████| 258/258 [00:10<00:00, 25.28it/s]\n"
     ]
    },
    {
     "name": "stdout",
     "output_type": "stream",
     "text": [
      "Epoch 6/10 完成：訓練損失=0.7462, 驗證損失=0.6937, 驗證準確率=0.7291\n"
     ]
    },
    {
     "name": "stderr",
     "output_type": "stream",
     "text": [
      "Epoch 7/10: 100%|██████████| 258/258 [00:10<00:00, 25.79it/s]\n"
     ]
    },
    {
     "name": "stdout",
     "output_type": "stream",
     "text": [
      "Epoch 7/10 完成：訓練損失=0.6995, 驗證損失=0.6713, 驗證準確率=0.7368\n"
     ]
    },
    {
     "name": "stderr",
     "output_type": "stream",
     "text": [
      "Epoch 8/10: 100%|██████████| 258/258 [00:10<00:00, 25.34it/s]\n"
     ]
    },
    {
     "name": "stdout",
     "output_type": "stream",
     "text": [
      "Epoch 8/10 完成：訓練損失=0.6570, 驗證損失=0.6587, 驗證準確率=0.7442\n"
     ]
    },
    {
     "name": "stderr",
     "output_type": "stream",
     "text": [
      "Epoch 9/10: 100%|██████████| 258/258 [00:10<00:00, 25.47it/s]\n"
     ]
    },
    {
     "name": "stdout",
     "output_type": "stream",
     "text": [
      "Epoch 9/10 完成：訓練損失=0.6232, 驗證損失=0.6306, 驗證準確率=0.7476\n"
     ]
    },
    {
     "name": "stderr",
     "output_type": "stream",
     "text": [
      "Epoch 10/10: 100%|██████████| 258/258 [00:10<00:00, 24.97it/s]\n"
     ]
    },
    {
     "name": "stdout",
     "output_type": "stream",
     "text": [
      "Epoch 10/10 完成：訓練損失=0.5879, 驗證損失=0.6178, 驗證準確率=0.7651\n",
      "試驗 18/27 完成，耗時：0:01:56.369739\n",
      "試驗 19/27：batch_size=128, pooling_method=average, activation=softmax\n"
     ]
    },
    {
     "name": "stderr",
     "output_type": "stream",
     "text": [
      "Epoch 1/10: 100%|██████████| 258/258 [00:10<00:00, 24.26it/s]\n"
     ]
    },
    {
     "name": "stdout",
     "output_type": "stream",
     "text": [
      "Epoch 1/10 完成：訓練損失=1.3166, 驗證損失=1.1361, 驗證準確率=0.4717\n"
     ]
    },
    {
     "name": "stderr",
     "output_type": "stream",
     "text": [
      "Epoch 2/10: 100%|██████████| 258/258 [00:10<00:00, 24.95it/s]\n"
     ]
    },
    {
     "name": "stdout",
     "output_type": "stream",
     "text": [
      "Epoch 2/10 完成：訓練損失=1.0767, 驗證損失=0.9986, 驗證準確率=0.5656\n"
     ]
    },
    {
     "name": "stderr",
     "output_type": "stream",
     "text": [
      "Epoch 3/10: 100%|██████████| 258/258 [00:10<00:00, 25.37it/s]\n"
     ]
    },
    {
     "name": "stdout",
     "output_type": "stream",
     "text": [
      "Epoch 3/10 完成：訓練損失=0.9837, 驗證損失=0.8898, 驗證準確率=0.6150\n"
     ]
    },
    {
     "name": "stderr",
     "output_type": "stream",
     "text": [
      "Epoch 4/10: 100%|██████████| 258/258 [00:10<00:00, 24.93it/s]\n"
     ]
    },
    {
     "name": "stdout",
     "output_type": "stream",
     "text": [
      "Epoch 4/10 完成：訓練損失=0.8878, 驗證損失=0.8289, 驗證準確率=0.6613\n"
     ]
    },
    {
     "name": "stderr",
     "output_type": "stream",
     "text": [
      "Epoch 5/10: 100%|██████████| 258/258 [00:10<00:00, 25.01it/s]\n"
     ]
    },
    {
     "name": "stdout",
     "output_type": "stream",
     "text": [
      "Epoch 5/10 完成：訓練損失=0.8074, 驗證損失=0.7517, 驗證準確率=0.6997\n"
     ]
    },
    {
     "name": "stderr",
     "output_type": "stream",
     "text": [
      "Epoch 6/10: 100%|██████████| 258/258 [00:10<00:00, 25.11it/s]\n"
     ]
    },
    {
     "name": "stdout",
     "output_type": "stream",
     "text": [
      "Epoch 6/10 完成：訓練損失=0.7394, 驗證損失=0.7000, 驗證準確率=0.7087\n"
     ]
    },
    {
     "name": "stderr",
     "output_type": "stream",
     "text": [
      "Epoch 7/10: 100%|██████████| 258/258 [00:10<00:00, 25.28it/s]\n"
     ]
    },
    {
     "name": "stdout",
     "output_type": "stream",
     "text": [
      "Epoch 7/10 完成：訓練損失=0.6906, 驗證損失=0.6755, 驗證準確率=0.7193\n"
     ]
    },
    {
     "name": "stderr",
     "output_type": "stream",
     "text": [
      "Epoch 8/10: 100%|██████████| 258/258 [00:10<00:00, 24.87it/s]\n"
     ]
    },
    {
     "name": "stdout",
     "output_type": "stream",
     "text": [
      "Epoch 8/10 完成：訓練損失=0.6526, 驗證損失=0.6454, 驗證準確率=0.7304\n"
     ]
    },
    {
     "name": "stderr",
     "output_type": "stream",
     "text": [
      "Epoch 9/10: 100%|██████████| 258/258 [00:10<00:00, 25.01it/s]\n"
     ]
    },
    {
     "name": "stdout",
     "output_type": "stream",
     "text": [
      "Epoch 9/10 完成：訓練損失=0.6132, 驗證損失=0.6278, 驗證準確率=0.7606\n"
     ]
    },
    {
     "name": "stderr",
     "output_type": "stream",
     "text": [
      "Epoch 10/10: 100%|██████████| 258/258 [00:10<00:00, 25.06it/s]\n"
     ]
    },
    {
     "name": "stdout",
     "output_type": "stream",
     "text": [
      "Epoch 10/10 完成：訓練損失=0.5815, 驗證損失=0.6135, 驗證準確率=0.7631\n",
      "試驗 19/27 完成，耗時：0:01:58.954884\n",
      "試驗 20/27：batch_size=256, pooling_method=hidden, activation=sigmoid\n"
     ]
    },
    {
     "name": "stderr",
     "output_type": "stream",
     "text": [
      "Epoch 1/10: 100%|██████████| 129/129 [00:08<00:00, 14.36it/s]\n"
     ]
    },
    {
     "name": "stdout",
     "output_type": "stream",
     "text": [
      "Epoch 1/10 完成：訓練損失=1.4999, 驗證損失=1.4386, 驗證準確率=0.3636\n"
     ]
    },
    {
     "name": "stderr",
     "output_type": "stream",
     "text": [
      "Epoch 2/10: 100%|██████████| 129/129 [00:08<00:00, 14.97it/s]\n"
     ]
    },
    {
     "name": "stdout",
     "output_type": "stream",
     "text": [
      "Epoch 2/10 完成：訓練損失=1.4175, 驗證損失=1.3818, 驗證準確率=0.4009\n"
     ]
    },
    {
     "name": "stderr",
     "output_type": "stream",
     "text": [
      "Epoch 3/10: 100%|██████████| 129/129 [00:08<00:00, 14.80it/s]\n"
     ]
    },
    {
     "name": "stdout",
     "output_type": "stream",
     "text": [
      "Epoch 3/10 完成：訓練損失=1.3798, 驗證損失=1.3441, 驗證準確率=0.4329\n"
     ]
    },
    {
     "name": "stderr",
     "output_type": "stream",
     "text": [
      "Epoch 4/10: 100%|██████████| 129/129 [00:08<00:00, 14.75it/s]\n"
     ]
    },
    {
     "name": "stdout",
     "output_type": "stream",
     "text": [
      "Epoch 4/10 完成：訓練損失=1.3451, 驗證損失=1.3138, 驗證準確率=0.4746\n"
     ]
    },
    {
     "name": "stderr",
     "output_type": "stream",
     "text": [
      "Epoch 5/10: 100%|██████████| 129/129 [00:08<00:00, 14.65it/s]\n"
     ]
    },
    {
     "name": "stdout",
     "output_type": "stream",
     "text": [
      "Epoch 5/10 完成：訓練損失=1.3166, 驗證損失=1.2868, 驗證準確率=0.5091\n"
     ]
    },
    {
     "name": "stderr",
     "output_type": "stream",
     "text": [
      "Epoch 6/10: 100%|██████████| 129/129 [00:08<00:00, 14.53it/s]\n"
     ]
    },
    {
     "name": "stdout",
     "output_type": "stream",
     "text": [
      "Epoch 6/10 完成：訓練損失=1.2989, 驗證損失=1.2735, 驗證準確率=0.5288\n"
     ]
    },
    {
     "name": "stderr",
     "output_type": "stream",
     "text": [
      "Epoch 7/10: 100%|██████████| 129/129 [00:09<00:00, 13.94it/s]\n"
     ]
    },
    {
     "name": "stdout",
     "output_type": "stream",
     "text": [
      "Epoch 7/10 完成：訓練損失=1.2912, 驗證損失=1.2675, 驗證準確率=0.5328\n"
     ]
    },
    {
     "name": "stderr",
     "output_type": "stream",
     "text": [
      "Epoch 8/10: 100%|██████████| 129/129 [00:08<00:00, 14.58it/s]\n"
     ]
    },
    {
     "name": "stdout",
     "output_type": "stream",
     "text": [
      "Epoch 8/10 完成：訓練損失=1.2719, 驗證損失=1.2465, 驗證準確率=0.5428\n"
     ]
    },
    {
     "name": "stderr",
     "output_type": "stream",
     "text": [
      "Epoch 9/10: 100%|██████████| 129/129 [00:08<00:00, 14.33it/s]\n"
     ]
    },
    {
     "name": "stdout",
     "output_type": "stream",
     "text": [
      "Epoch 9/10 完成：訓練損失=1.2602, 驗證損失=1.2368, 驗證準確率=0.5696\n"
     ]
    },
    {
     "name": "stderr",
     "output_type": "stream",
     "text": [
      "Epoch 10/10: 100%|██████████| 129/129 [00:08<00:00, 14.45it/s]\n"
     ]
    },
    {
     "name": "stdout",
     "output_type": "stream",
     "text": [
      "Epoch 10/10 完成：訓練損失=1.2488, 驗證損失=1.2332, 驗證準確率=0.5886\n",
      "試驗 20/27 完成，耗時：0:01:42.886004\n",
      "試驗 21/27：batch_size=256, pooling_method=hidden, activation=relu\n"
     ]
    },
    {
     "name": "stderr",
     "output_type": "stream",
     "text": [
      "Epoch 1/10: 100%|██████████| 129/129 [00:08<00:00, 15.14it/s]\n"
     ]
    },
    {
     "name": "stdout",
     "output_type": "stream",
     "text": [
      "Epoch 1/10 完成：訓練損失=1.6095, 驗證損失=1.6094, 驗證準確率=0.1332\n"
     ]
    },
    {
     "name": "stderr",
     "output_type": "stream",
     "text": [
      "Epoch 2/10: 100%|██████████| 129/129 [00:08<00:00, 15.63it/s]\n"
     ]
    },
    {
     "name": "stdout",
     "output_type": "stream",
     "text": [
      "Epoch 2/10 完成：訓練損失=1.6094, 驗證損失=1.6094, 驗證準確率=0.1332\n"
     ]
    },
    {
     "name": "stderr",
     "output_type": "stream",
     "text": [
      "Epoch 3/10: 100%|██████████| 129/129 [00:08<00:00, 15.76it/s]\n"
     ]
    },
    {
     "name": "stdout",
     "output_type": "stream",
     "text": [
      "Epoch 3/10 完成：訓練損失=1.6094, 驗證損失=1.6094, 驗證準確率=0.1332\n"
     ]
    },
    {
     "name": "stderr",
     "output_type": "stream",
     "text": [
      "Epoch 4/10: 100%|██████████| 129/129 [00:08<00:00, 15.65it/s]\n"
     ]
    },
    {
     "name": "stdout",
     "output_type": "stream",
     "text": [
      "Epoch 4/10 完成：訓練損失=1.6094, 驗證損失=1.6094, 驗證準確率=0.1332\n",
      "提前停止於 epoch 4\n",
      "試驗 21/27 完成，耗時：0:00:43.137021\n",
      "試驗 22/27：batch_size=256, pooling_method=hidden, activation=softmax\n"
     ]
    },
    {
     "name": "stderr",
     "output_type": "stream",
     "text": [
      "Epoch 1/10: 100%|██████████| 129/129 [00:08<00:00, 14.67it/s]\n"
     ]
    },
    {
     "name": "stdout",
     "output_type": "stream",
     "text": [
      "Epoch 1/10 完成：訓練損失=1.4073, 驗證損失=1.2272, 驗證準確率=0.4266\n"
     ]
    },
    {
     "name": "stderr",
     "output_type": "stream",
     "text": [
      "Epoch 2/10: 100%|██████████| 129/129 [00:08<00:00, 15.32it/s]\n"
     ]
    },
    {
     "name": "stdout",
     "output_type": "stream",
     "text": [
      "Epoch 2/10 完成：訓練損失=1.1978, 驗證損失=1.1222, 驗證準確率=0.4883\n"
     ]
    },
    {
     "name": "stderr",
     "output_type": "stream",
     "text": [
      "Epoch 3/10: 100%|██████████| 129/129 [00:08<00:00, 15.36it/s]\n"
     ]
    },
    {
     "name": "stdout",
     "output_type": "stream",
     "text": [
      "Epoch 3/10 完成：訓練損失=1.1165, 驗證損失=1.0797, 驗證準確率=0.5261\n"
     ]
    },
    {
     "name": "stderr",
     "output_type": "stream",
     "text": [
      "Epoch 4/10: 100%|██████████| 129/129 [00:08<00:00, 15.20it/s]\n"
     ]
    },
    {
     "name": "stdout",
     "output_type": "stream",
     "text": [
      "Epoch 4/10 完成：訓練損失=1.0606, 驗證損失=1.0067, 驗證準確率=0.5391\n"
     ]
    },
    {
     "name": "stderr",
     "output_type": "stream",
     "text": [
      "Epoch 5/10: 100%|██████████| 129/129 [00:08<00:00, 14.78it/s]\n"
     ]
    },
    {
     "name": "stdout",
     "output_type": "stream",
     "text": [
      "Epoch 5/10 完成：訓練損失=1.0131, 驗證損失=0.9528, 驗證準確率=0.5692\n"
     ]
    },
    {
     "name": "stderr",
     "output_type": "stream",
     "text": [
      "Epoch 6/10: 100%|██████████| 129/129 [00:08<00:00, 14.94it/s]\n"
     ]
    },
    {
     "name": "stdout",
     "output_type": "stream",
     "text": [
      "Epoch 6/10 完成：訓練損失=0.9663, 驗證損失=0.9033, 驗證準確率=0.6094\n"
     ]
    },
    {
     "name": "stderr",
     "output_type": "stream",
     "text": [
      "Epoch 7/10: 100%|██████████| 129/129 [00:08<00:00, 14.94it/s]\n"
     ]
    },
    {
     "name": "stdout",
     "output_type": "stream",
     "text": [
      "Epoch 7/10 完成：訓練損失=0.9171, 驗證損失=0.8542, 驗證準確率=0.6365\n"
     ]
    },
    {
     "name": "stderr",
     "output_type": "stream",
     "text": [
      "Epoch 8/10: 100%|██████████| 129/129 [00:08<00:00, 14.70it/s]\n"
     ]
    },
    {
     "name": "stdout",
     "output_type": "stream",
     "text": [
      "Epoch 8/10 完成：訓練損失=0.8641, 驗證損失=0.8124, 驗證準確率=0.6593\n"
     ]
    },
    {
     "name": "stderr",
     "output_type": "stream",
     "text": [
      "Epoch 9/10: 100%|██████████| 129/129 [00:08<00:00, 14.66it/s]\n"
     ]
    },
    {
     "name": "stdout",
     "output_type": "stream",
     "text": [
      "Epoch 9/10 完成：訓練損失=0.8161, 驗證損失=0.7931, 驗證準確率=0.6592\n"
     ]
    },
    {
     "name": "stderr",
     "output_type": "stream",
     "text": [
      "Epoch 10/10: 100%|██████████| 129/129 [00:08<00:00, 14.48it/s]\n"
     ]
    },
    {
     "name": "stdout",
     "output_type": "stream",
     "text": [
      "Epoch 10/10 完成：訓練損失=0.7830, 驗證損失=0.7524, 驗證準確率=0.6958\n",
      "試驗 22/27 完成，耗時：0:01:40.432729\n",
      "試驗 23/27：batch_size=256, pooling_method=max, activation=sigmoid\n"
     ]
    },
    {
     "name": "stderr",
     "output_type": "stream",
     "text": [
      "Epoch 1/10: 100%|██████████| 129/129 [00:08<00:00, 15.07it/s]\n"
     ]
    },
    {
     "name": "stdout",
     "output_type": "stream",
     "text": [
      "Epoch 1/10 完成：訓練損失=1.5797, 驗證損失=1.5425, 驗證準確率=0.2684\n"
     ]
    },
    {
     "name": "stderr",
     "output_type": "stream",
     "text": [
      "Epoch 2/10: 100%|██████████| 129/129 [00:08<00:00, 15.06it/s]\n"
     ]
    },
    {
     "name": "stdout",
     "output_type": "stream",
     "text": [
      "Epoch 2/10 完成：訓練損失=1.5898, 驗證損失=1.6064, 驗證準確率=0.1878\n"
     ]
    },
    {
     "name": "stderr",
     "output_type": "stream",
     "text": [
      "Epoch 3/10: 100%|██████████| 129/129 [00:08<00:00, 14.73it/s]\n"
     ]
    },
    {
     "name": "stdout",
     "output_type": "stream",
     "text": [
      "Epoch 3/10 完成：訓練損失=1.6037, 驗證損失=1.6015, 驗證準確率=0.1722\n"
     ]
    },
    {
     "name": "stderr",
     "output_type": "stream",
     "text": [
      "Epoch 4/10: 100%|██████████| 129/129 [00:08<00:00, 14.73it/s]\n"
     ]
    },
    {
     "name": "stdout",
     "output_type": "stream",
     "text": [
      "Epoch 4/10 完成：訓練損失=1.5970, 驗證損失=1.5872, 驗證準確率=0.1898\n",
      "提前停止於 epoch 4\n",
      "試驗 23/27 完成，耗時：0:00:44.203291\n",
      "試驗 24/27：batch_size=256, pooling_method=max, activation=relu\n"
     ]
    },
    {
     "name": "stderr",
     "output_type": "stream",
     "text": [
      "Epoch 1/10: 100%|██████████| 129/129 [00:08<00:00, 15.40it/s]\n"
     ]
    },
    {
     "name": "stdout",
     "output_type": "stream",
     "text": [
      "Epoch 1/10 完成：訓練損失=1.6095, 驗證損失=1.6094, 驗證準確率=0.1332\n"
     ]
    },
    {
     "name": "stderr",
     "output_type": "stream",
     "text": [
      "Epoch 2/10: 100%|██████████| 129/129 [00:08<00:00, 15.02it/s]\n"
     ]
    },
    {
     "name": "stdout",
     "output_type": "stream",
     "text": [
      "Epoch 2/10 完成：訓練損失=1.6094, 驗證損失=1.6094, 驗證準確率=0.1332\n"
     ]
    },
    {
     "name": "stderr",
     "output_type": "stream",
     "text": [
      "Epoch 3/10: 100%|██████████| 129/129 [00:08<00:00, 15.51it/s]\n"
     ]
    },
    {
     "name": "stdout",
     "output_type": "stream",
     "text": [
      "Epoch 3/10 完成：訓練損失=1.6094, 驗證損失=1.6094, 驗證準確率=0.1332\n"
     ]
    },
    {
     "name": "stderr",
     "output_type": "stream",
     "text": [
      "Epoch 4/10: 100%|██████████| 129/129 [00:08<00:00, 14.92it/s]\n"
     ]
    },
    {
     "name": "stdout",
     "output_type": "stream",
     "text": [
      "Epoch 4/10 完成：訓練損失=1.6094, 驗證損失=1.6094, 驗證準確率=0.1332\n",
      "提前停止於 epoch 4\n",
      "試驗 24/27 完成，耗時：0:00:43.502578\n",
      "試驗 25/27：batch_size=256, pooling_method=max, activation=softmax\n"
     ]
    },
    {
     "name": "stderr",
     "output_type": "stream",
     "text": [
      "Epoch 1/10: 100%|██████████| 129/129 [00:08<00:00, 14.54it/s]\n"
     ]
    },
    {
     "name": "stdout",
     "output_type": "stream",
     "text": [
      "Epoch 1/10 完成：訓練損失=1.3547, 驗證損失=1.1429, 驗證準確率=0.4713\n"
     ]
    },
    {
     "name": "stderr",
     "output_type": "stream",
     "text": [
      "Epoch 2/10: 100%|██████████| 129/129 [00:08<00:00, 14.87it/s]\n"
     ]
    },
    {
     "name": "stdout",
     "output_type": "stream",
     "text": [
      "Epoch 2/10 完成：訓練損失=1.1311, 驗證損失=1.0341, 驗證準確率=0.5491\n"
     ]
    },
    {
     "name": "stderr",
     "output_type": "stream",
     "text": [
      "Epoch 3/10: 100%|██████████| 129/129 [00:08<00:00, 14.94it/s]\n"
     ]
    },
    {
     "name": "stdout",
     "output_type": "stream",
     "text": [
      "Epoch 3/10 完成：訓練損失=1.0379, 驗證損失=0.9445, 驗證準確率=0.5852\n"
     ]
    },
    {
     "name": "stderr",
     "output_type": "stream",
     "text": [
      "Epoch 4/10: 100%|██████████| 129/129 [00:08<00:00, 14.74it/s]\n"
     ]
    },
    {
     "name": "stdout",
     "output_type": "stream",
     "text": [
      "Epoch 4/10 完成：訓練損失=0.9624, 驗證損失=0.8882, 驗證準確率=0.6220\n"
     ]
    },
    {
     "name": "stderr",
     "output_type": "stream",
     "text": [
      "Epoch 5/10: 100%|██████████| 129/129 [00:08<00:00, 14.41it/s]\n"
     ]
    },
    {
     "name": "stdout",
     "output_type": "stream",
     "text": [
      "Epoch 5/10 完成：訓練損失=0.8796, 驗證損失=0.8287, 驗證準確率=0.6455\n"
     ]
    },
    {
     "name": "stderr",
     "output_type": "stream",
     "text": [
      "Epoch 6/10: 100%|██████████| 129/129 [00:08<00:00, 14.62it/s]\n"
     ]
    },
    {
     "name": "stdout",
     "output_type": "stream",
     "text": [
      "Epoch 6/10 完成：訓練損失=0.8137, 驗證損失=0.7625, 驗證準確率=0.6945\n"
     ]
    },
    {
     "name": "stderr",
     "output_type": "stream",
     "text": [
      "Epoch 7/10: 100%|██████████| 129/129 [00:08<00:00, 14.58it/s]\n"
     ]
    },
    {
     "name": "stdout",
     "output_type": "stream",
     "text": [
      "Epoch 7/10 完成：訓練損失=0.7550, 驗證損失=0.7209, 驗證準確率=0.7158\n"
     ]
    },
    {
     "name": "stderr",
     "output_type": "stream",
     "text": [
      "Epoch 8/10: 100%|██████████| 129/129 [00:08<00:00, 14.65it/s]\n"
     ]
    },
    {
     "name": "stdout",
     "output_type": "stream",
     "text": [
      "Epoch 8/10 完成：訓練損失=0.7163, 驗證損失=0.6883, 驗證準確率=0.7193\n"
     ]
    },
    {
     "name": "stderr",
     "output_type": "stream",
     "text": [
      "Epoch 9/10: 100%|██████████| 129/129 [00:08<00:00, 14.38it/s]\n"
     ]
    },
    {
     "name": "stdout",
     "output_type": "stream",
     "text": [
      "Epoch 9/10 完成：訓練損失=0.6744, 驗證損失=0.6747, 驗證準確率=0.7298\n"
     ]
    },
    {
     "name": "stderr",
     "output_type": "stream",
     "text": [
      "Epoch 10/10: 100%|██████████| 129/129 [00:08<00:00, 14.75it/s]\n"
     ]
    },
    {
     "name": "stdout",
     "output_type": "stream",
     "text": [
      "Epoch 10/10 完成：訓練損失=0.6494, 驗證損失=0.6523, 驗證準確率=0.7416\n",
      "試驗 25/27 完成，耗時：0:01:42.146419\n",
      "試驗 26/27：batch_size=256, pooling_method=average, activation=sigmoid\n"
     ]
    },
    {
     "name": "stderr",
     "output_type": "stream",
     "text": [
      "Epoch 1/10: 100%|██████████| 129/129 [00:08<00:00, 14.77it/s]\n"
     ]
    },
    {
     "name": "stdout",
     "output_type": "stream",
     "text": [
      "Epoch 1/10 完成：訓練損失=1.5401, 驗證損失=1.5257, 驗證準確率=0.2756\n"
     ]
    },
    {
     "name": "stderr",
     "output_type": "stream",
     "text": [
      "Epoch 2/10: 100%|██████████| 129/129 [00:08<00:00, 15.09it/s]\n"
     ]
    },
    {
     "name": "stdout",
     "output_type": "stream",
     "text": [
      "Epoch 2/10 完成：訓練損失=1.5967, 驗證損失=1.5577, 驗證準確率=0.2332\n"
     ]
    },
    {
     "name": "stderr",
     "output_type": "stream",
     "text": [
      "Epoch 3/10: 100%|██████████| 129/129 [00:08<00:00, 14.84it/s]\n"
     ]
    },
    {
     "name": "stdout",
     "output_type": "stream",
     "text": [
      "Epoch 3/10 完成：訓練損失=1.5238, 驗證損失=1.5210, 驗證準確率=0.2822\n"
     ]
    },
    {
     "name": "stderr",
     "output_type": "stream",
     "text": [
      "Epoch 4/10: 100%|██████████| 129/129 [00:08<00:00, 14.98it/s]\n"
     ]
    },
    {
     "name": "stdout",
     "output_type": "stream",
     "text": [
      "Epoch 4/10 完成：訓練損失=1.5103, 驗證損失=1.5092, 驗證準確率=0.3201\n"
     ]
    },
    {
     "name": "stderr",
     "output_type": "stream",
     "text": [
      "Epoch 5/10: 100%|██████████| 129/129 [00:08<00:00, 15.28it/s]\n"
     ]
    },
    {
     "name": "stdout",
     "output_type": "stream",
     "text": [
      "Epoch 5/10 完成：訓練損失=1.4824, 驗證損失=1.4329, 驗證準確率=0.3379\n"
     ]
    },
    {
     "name": "stderr",
     "output_type": "stream",
     "text": [
      "Epoch 6/10: 100%|██████████| 129/129 [00:08<00:00, 15.02it/s]\n"
     ]
    },
    {
     "name": "stdout",
     "output_type": "stream",
     "text": [
      "Epoch 6/10 完成：訓練損失=1.4296, 驗證損失=1.4013, 驗證準確率=0.3619\n"
     ]
    },
    {
     "name": "stderr",
     "output_type": "stream",
     "text": [
      "Epoch 7/10: 100%|██████████| 129/129 [00:08<00:00, 14.67it/s]\n"
     ]
    },
    {
     "name": "stdout",
     "output_type": "stream",
     "text": [
      "Epoch 7/10 完成：訓練損失=1.3933, 驗證損失=1.3605, 驗證準確率=0.4395\n"
     ]
    },
    {
     "name": "stderr",
     "output_type": "stream",
     "text": [
      "Epoch 8/10: 100%|██████████| 129/129 [00:08<00:00, 14.85it/s]\n"
     ]
    },
    {
     "name": "stdout",
     "output_type": "stream",
     "text": [
      "Epoch 8/10 完成：訓練損失=1.3558, 驗證損失=1.3264, 驗證準確率=0.4671\n"
     ]
    },
    {
     "name": "stderr",
     "output_type": "stream",
     "text": [
      "Epoch 9/10: 100%|██████████| 129/129 [00:08<00:00, 14.88it/s]\n"
     ]
    },
    {
     "name": "stdout",
     "output_type": "stream",
     "text": [
      "Epoch 9/10 完成：訓練損失=1.3343, 驗證損失=1.3002, 驗證準確率=0.4945\n"
     ]
    },
    {
     "name": "stderr",
     "output_type": "stream",
     "text": [
      "Epoch 10/10: 100%|██████████| 129/129 [00:08<00:00, 14.96it/s]\n"
     ]
    },
    {
     "name": "stdout",
     "output_type": "stream",
     "text": [
      "Epoch 10/10 完成：訓練損失=1.3189, 驗證損失=1.2937, 驗證準確率=0.5243\n",
      "試驗 26/27 完成，耗時：0:01:40.501366\n",
      "試驗 27/27：batch_size=256, pooling_method=average, activation=relu\n"
     ]
    },
    {
     "name": "stderr",
     "output_type": "stream",
     "text": [
      "Epoch 1/10: 100%|██████████| 129/129 [00:08<00:00, 15.05it/s]\n"
     ]
    },
    {
     "name": "stdout",
     "output_type": "stream",
     "text": [
      "Epoch 1/10 完成：訓練損失=1.4505, 驗證損失=1.2203, 驗證準確率=0.4538\n"
     ]
    },
    {
     "name": "stderr",
     "output_type": "stream",
     "text": [
      "Epoch 2/10: 100%|██████████| 129/129 [00:08<00:00, 15.17it/s]\n"
     ]
    },
    {
     "name": "stdout",
     "output_type": "stream",
     "text": [
      "Epoch 2/10 完成：訓練損失=1.1498, 驗證損失=1.0473, 驗證準確率=0.5356\n"
     ]
    },
    {
     "name": "stderr",
     "output_type": "stream",
     "text": [
      "Epoch 3/10: 100%|██████████| 129/129 [00:08<00:00, 14.83it/s]\n"
     ]
    },
    {
     "name": "stdout",
     "output_type": "stream",
     "text": [
      "Epoch 3/10 完成：訓練損失=1.0424, 驗證損失=0.9682, 驗證準確率=0.5621\n"
     ]
    },
    {
     "name": "stderr",
     "output_type": "stream",
     "text": [
      "Epoch 4/10: 100%|██████████| 129/129 [00:08<00:00, 14.91it/s]\n"
     ]
    },
    {
     "name": "stdout",
     "output_type": "stream",
     "text": [
      "Epoch 4/10 完成：訓練損失=0.9880, 驗證損失=0.9172, 驗證準確率=0.6130\n"
     ]
    },
    {
     "name": "stderr",
     "output_type": "stream",
     "text": [
      "Epoch 5/10: 100%|██████████| 129/129 [00:08<00:00, 14.61it/s]\n"
     ]
    },
    {
     "name": "stdout",
     "output_type": "stream",
     "text": [
      "Epoch 5/10 完成：訓練損失=0.9128, 驗證損失=0.8519, 驗證準確率=0.6259\n"
     ]
    },
    {
     "name": "stderr",
     "output_type": "stream",
     "text": [
      "Epoch 6/10: 100%|██████████| 129/129 [00:08<00:00, 14.70it/s]\n"
     ]
    },
    {
     "name": "stdout",
     "output_type": "stream",
     "text": [
      "Epoch 6/10 完成：訓練損失=0.8526, 驗證損失=0.7748, 驗證準確率=0.6860\n"
     ]
    },
    {
     "name": "stderr",
     "output_type": "stream",
     "text": [
      "Epoch 7/10: 100%|██████████| 129/129 [00:08<00:00, 14.69it/s]\n"
     ]
    },
    {
     "name": "stdout",
     "output_type": "stream",
     "text": [
      "Epoch 7/10 完成：訓練損失=0.7775, 驗證損失=0.7510, 驗證準確率=0.6953\n"
     ]
    },
    {
     "name": "stderr",
     "output_type": "stream",
     "text": [
      "Epoch 8/10: 100%|██████████| 129/129 [00:08<00:00, 14.84it/s]\n"
     ]
    },
    {
     "name": "stdout",
     "output_type": "stream",
     "text": [
      "Epoch 8/10 完成：訓練損失=0.7348, 驗證損失=0.6996, 驗證準確率=0.7184\n"
     ]
    },
    {
     "name": "stderr",
     "output_type": "stream",
     "text": [
      "Epoch 9/10: 100%|██████████| 129/129 [00:08<00:00, 14.84it/s]\n"
     ]
    },
    {
     "name": "stdout",
     "output_type": "stream",
     "text": [
      "Epoch 9/10 完成：訓練損失=0.6961, 驗證損失=0.6991, 驗證準確率=0.7293\n"
     ]
    },
    {
     "name": "stderr",
     "output_type": "stream",
     "text": [
      "Epoch 10/10: 100%|██████████| 129/129 [00:08<00:00, 14.66it/s]\n"
     ]
    },
    {
     "name": "stdout",
     "output_type": "stream",
     "text": [
      "Epoch 10/10 完成：訓練損失=0.6573, 驗證損失=0.6673, 驗證準確率=0.7370\n",
      "試驗 27/27 完成，耗時：0:01:41.121708\n",
      "試驗 28/27：batch_size=256, pooling_method=average, activation=softmax\n"
     ]
    },
    {
     "name": "stderr",
     "output_type": "stream",
     "text": [
      "Epoch 1/10: 100%|██████████| 129/129 [00:08<00:00, 14.85it/s]\n"
     ]
    },
    {
     "name": "stdout",
     "output_type": "stream",
     "text": [
      "Epoch 1/10 完成：訓練損失=1.3426, 驗證損失=1.1771, 驗證準確率=0.4560\n"
     ]
    },
    {
     "name": "stderr",
     "output_type": "stream",
     "text": [
      "Epoch 2/10: 100%|██████████| 129/129 [00:08<00:00, 14.96it/s]\n"
     ]
    },
    {
     "name": "stdout",
     "output_type": "stream",
     "text": [
      "Epoch 2/10 完成：訓練損失=1.1344, 驗證損失=1.0488, 驗證準確率=0.5431\n"
     ]
    },
    {
     "name": "stderr",
     "output_type": "stream",
     "text": [
      "Epoch 3/10: 100%|██████████| 129/129 [00:08<00:00, 14.81it/s]\n"
     ]
    },
    {
     "name": "stdout",
     "output_type": "stream",
     "text": [
      "Epoch 3/10 完成：訓練損失=1.0566, 驗證損失=0.9890, 驗證準確率=0.5582\n"
     ]
    },
    {
     "name": "stderr",
     "output_type": "stream",
     "text": [
      "Epoch 4/10: 100%|██████████| 129/129 [00:08<00:00, 14.90it/s]\n"
     ]
    },
    {
     "name": "stdout",
     "output_type": "stream",
     "text": [
      "Epoch 4/10 完成：訓練損失=0.9898, 驗證損失=0.9636, 驗證準確率=0.5926\n"
     ]
    },
    {
     "name": "stderr",
     "output_type": "stream",
     "text": [
      "Epoch 5/10: 100%|██████████| 129/129 [00:08<00:00, 14.80it/s]\n"
     ]
    },
    {
     "name": "stdout",
     "output_type": "stream",
     "text": [
      "Epoch 5/10 完成：訓練損失=0.9288, 驗證損失=0.8563, 驗證準確率=0.6452\n"
     ]
    },
    {
     "name": "stderr",
     "output_type": "stream",
     "text": [
      "Epoch 6/10: 100%|██████████| 129/129 [00:08<00:00, 14.65it/s]\n"
     ]
    },
    {
     "name": "stdout",
     "output_type": "stream",
     "text": [
      "Epoch 6/10 完成：訓練損失=0.8620, 驗證損失=0.8138, 驗證準確率=0.6659\n"
     ]
    },
    {
     "name": "stderr",
     "output_type": "stream",
     "text": [
      "Epoch 7/10: 100%|██████████| 129/129 [00:08<00:00, 14.62it/s]\n"
     ]
    },
    {
     "name": "stdout",
     "output_type": "stream",
     "text": [
      "Epoch 7/10 完成：訓練損失=0.8048, 驗證損失=0.7622, 驗證準確率=0.6808\n"
     ]
    },
    {
     "name": "stderr",
     "output_type": "stream",
     "text": [
      "Epoch 8/10: 100%|██████████| 129/129 [00:08<00:00, 14.52it/s]\n"
     ]
    },
    {
     "name": "stdout",
     "output_type": "stream",
     "text": [
      "Epoch 8/10 完成：訓練損失=0.7540, 驗證損失=0.7239, 驗證準確率=0.7111\n"
     ]
    },
    {
     "name": "stderr",
     "output_type": "stream",
     "text": [
      "Epoch 9/10: 100%|██████████| 129/129 [00:08<00:00, 14.61it/s]\n"
     ]
    },
    {
     "name": "stdout",
     "output_type": "stream",
     "text": [
      "Epoch 9/10 完成：訓練損失=0.7150, 驗證損失=0.6963, 驗證準確率=0.7235\n"
     ]
    },
    {
     "name": "stderr",
     "output_type": "stream",
     "text": [
      "Epoch 10/10: 100%|██████████| 129/129 [00:08<00:00, 14.69it/s]\n"
     ]
    },
    {
     "name": "stdout",
     "output_type": "stream",
     "text": [
      "Epoch 10/10 完成：訓練損失=0.6687, 驗證損失=0.6693, 驗證準確率=0.7421\n",
      "試驗 28/27 完成，耗時：0:01:41.629032\n"
     ]
    }
   ],
   "source": [
    "for batch_size, pooling_method, activation in product(batch_sizes, pooling_methods, activation_functions):\n",
    "    current_combination += 1\n",
    "    start_time = datetime.now()\n",
    "    log_msg = (f\"試驗 {current_combination}/{total_combinations}：batch_size={batch_size}, \"\n",
    "               f\"pooling_method={pooling_method}, activation={activation}\")\n",
    "    print(log_msg)\n",
    "    logging.info(log_msg)\n",
    "    update_progress(current_combination, total_combinations)\n",
    "\n",
    "    # 構建詞彙表和資料集\n",
    "    vocab = build_vocab(df_train['clean_tokens'])\n",
    "    train_dataset = TweetDataset(df_train, vocab, max_length=50)  # 固定 max_length=50\n",
    "    val_dataset = TweetDataset(df_val, vocab, max_length=50)\n",
    "    test_dataset = TweetDataset(df_test, vocab, max_length=50)\n",
    "\n",
    "    # 建立 DataLoader\n",
    "    train_loader = DataLoader(train_dataset, batch_size=batch_size, shuffle=True, pin_memory=True)\n",
    "    val_loader = DataLoader(val_dataset, batch_size=batch_size, pin_memory=True)\n",
    "    test_loader = DataLoader(test_dataset, batch_size=batch_size, pin_memory=True)\n",
    "\n",
    "    # 初始化模型\n",
    "    model = BiLSTMClassifier(\n",
    "        vocab_size=len(vocab),\n",
    "        embedding_dim=100,\n",
    "        hidden_dim=256,\n",
    "        output_dim=5,\n",
    "        n_layers=4,\n",
    "        dropout=0.2,\n",
    "        pooling_method=pooling_method,\n",
    "        activation=activation\n",
    "    ).to(device)\n",
    "\n",
    "    # 載入 Glove 嵌入\n",
    "    glove_embeddings = load_glove_embeddings(r'C:\\Users\\skych\\glove.twitter.27B\\glove.twitter.27B.100d.txt', vocab)\n",
    "    model.embedding.weight.data.copy_(torch.tensor(glove_embeddings, device=device))\n",
    "    model.embedding.weight.requires_grad = False\n",
    "\n",
    "    # 設定優化器和損失函數\n",
    "    optimizer = optim.Adam(model.parameters())\n",
    "    class_weights = torch.tensor(\n",
    "        compute_class_weight('balanced', classes=np.unique(df_train['Sentiment']), y=df_train['Sentiment']),\n",
    "        device=device\n",
    "    ).float()\n",
    "    criterion = nn.CrossEntropyLoss(weight=class_weights).to(device)\n",
    "\n",
    "    # 訓練模型\n",
    "    num_epochs = 10\n",
    "    patience = 3\n",
    "    current_val_acc = 0\n",
    "    counter = 0\n",
    "    train_losses, val_losses, val_accuracies = [], [], []\n",
    "\n",
    "    for epoch in range(num_epochs):\n",
    "        model.train()\n",
    "        epoch_loss = 0\n",
    "        for batch in tqdm(train_loader, desc=f\"Epoch {epoch+1}/{num_epochs}\"):\n",
    "            texts, labels = batch\n",
    "            texts, labels = texts.to(device), labels.to(device)\n",
    "            optimizer.zero_grad()\n",
    "            predictions = model(texts)\n",
    "            if model.activation == 'softmax':\n",
    "                loss = criterion(predictions, labels)  # Softmax 已在 forward 中處理\n",
    "            else:\n",
    "                loss = criterion(predictions, labels)  # CrossEntropyLoss 內含 log_softmax\n",
    "            loss.backward()\n",
    "            optimizer.step()\n",
    "            epoch_loss += loss.item()\n",
    "        train_losses.append(epoch_loss / len(train_loader))\n",
    "\n",
    "        # 驗證\n",
    "        model.eval()\n",
    "        val_loss = 0\n",
    "        correct = 0\n",
    "        total = 0\n",
    "        with torch.no_grad():\n",
    "            for batch in val_loader:\n",
    "                texts, labels = batch\n",
    "                texts, labels = texts.to(device), labels.to(device)\n",
    "                predictions = model(texts)\n",
    "                if model.activation == 'softmax':\n",
    "                    loss = criterion(predictions, labels)\n",
    "                else:\n",
    "                    loss = criterion(predictions, labels)\n",
    "                val_loss += loss.item()\n",
    "                _, predicted = torch.max(predictions, 1)\n",
    "                total += labels.size(0)\n",
    "                correct += (predicted == labels).sum().item()\n",
    "        val_losses.append(val_loss / len(val_loader))\n",
    "        val_accuracies.append(correct / total)\n",
    "\n",
    "        # 記錄 epoch 結果\n",
    "        log_msg = (f\"Epoch {epoch+1}/{num_epochs} 完成：訓練損失={train_losses[-1]:.4f}, \"\n",
    "                   f\"驗證損失={val_losses[-1]:.4f}, 驗證準確率={val_accuracies[-1]:.4f}\")\n",
    "        print(log_msg)\n",
    "        logging.info(log_msg)\n",
    "\n",
    "        # 提前停止\n",
    "        if val_accuracies[-1] > current_val_acc:\n",
    "            current_val_acc = val_accuracies[-1]\n",
    "            counter = 0\n",
    "        else:\n",
    "            counter += 1\n",
    "        if counter >= patience:\n",
    "            log_msg = f\"提前停止於 epoch {epoch+1}\"\n",
    "            print(log_msg)\n",
    "            logging.info(log_msg)\n",
    "            break\n",
    "\n",
    "    # 記錄結果\n",
    "    results.append({\n",
    "        'batch_size': batch_size,\n",
    "        'pooling_method': pooling_method,\n",
    "        'activation': activation,\n",
    "        'best_val_accuracy': current_val_acc\n",
    "    })\n",
    "\n",
    "    # 更新最佳參數\n",
    "    if current_val_acc > best_val_acc:\n",
    "        best_val_acc = current_val_acc\n",
    "        best_params = {\n",
    "            'batch_size': batch_size,\n",
    "            'pooling_method': pooling_method,\n",
    "            'activation': activation\n",
    "        }\n",
    "        best_train_losses = train_losses\n",
    "        best_val_losses = val_losses\n",
    "        best_val_accuracies = val_accuracies\n",
    "\n",
    "    # 記錄組合完成\n",
    "    log_msg = f\"試驗 {current_combination}/{total_combinations} 完成，耗時：{datetime.now() - start_time}\"\n",
    "    print(log_msg)\n",
    "    logging.info(log_msg)\n",
    "\n",
    "    # 釋放 GPU 記憶體\n",
    "    torch.cuda.empty_cache()"
   ]
  },
  {
   "cell_type": "code",
   "execution_count": 1,
   "id": "b2cb38d7",
   "metadata": {},
   "outputs": [
    {
     "ename": "NameError",
     "evalue": "name 'pd' is not defined",
     "output_type": "error",
     "traceback": [
      "\u001b[1;31m---------------------------------------------------------------------------\u001b[0m",
      "\u001b[1;31mNameError\u001b[0m                                 Traceback (most recent call last)",
      "\u001b[1;32m~\\AppData\\Local\\Temp\\ipykernel_31736\\2435996412.py\u001b[0m in \u001b[0;36m<module>\u001b[1;34m\u001b[0m\n\u001b[0;32m      1\u001b[0m \u001b[1;31m# 顯示並分析結果\u001b[0m\u001b[1;33m\u001b[0m\u001b[1;33m\u001b[0m\u001b[0m\n\u001b[1;32m----> 2\u001b[1;33m \u001b[0mresults_df\u001b[0m \u001b[1;33m=\u001b[0m \u001b[0mpd\u001b[0m\u001b[1;33m.\u001b[0m\u001b[0mDataFrame\u001b[0m\u001b[1;33m(\u001b[0m\u001b[0mresults\u001b[0m\u001b[1;33m)\u001b[0m\u001b[1;33m\u001b[0m\u001b[1;33m\u001b[0m\u001b[0m\n\u001b[0m\u001b[0;32m      3\u001b[0m \u001b[0mlog_msg\u001b[0m \u001b[1;33m=\u001b[0m \u001b[1;34m\"\\nGrid Search 結果：\\n\"\u001b[0m \u001b[1;33m+\u001b[0m \u001b[0mstr\u001b[0m\u001b[1;33m(\u001b[0m\u001b[0mresults_df\u001b[0m\u001b[1;33m)\u001b[0m\u001b[1;33m\u001b[0m\u001b[1;33m\u001b[0m\u001b[0m\n\u001b[0;32m      4\u001b[0m \u001b[0mprint\u001b[0m\u001b[1;33m(\u001b[0m\u001b[0mlog_msg\u001b[0m\u001b[1;33m)\u001b[0m\u001b[1;33m\u001b[0m\u001b[1;33m\u001b[0m\u001b[0m\n\u001b[0;32m      5\u001b[0m \u001b[0mlogging\u001b[0m\u001b[1;33m.\u001b[0m\u001b[0minfo\u001b[0m\u001b[1;33m(\u001b[0m\u001b[0mlog_msg\u001b[0m\u001b[1;33m)\u001b[0m\u001b[1;33m\u001b[0m\u001b[1;33m\u001b[0m\u001b[0m\n",
      "\u001b[1;31mNameError\u001b[0m: name 'pd' is not defined"
     ]
    }
   ],
   "source": [
    "# 顯示並分析結果\n",
    "results_df = pd.DataFrame(results)\n",
    "log_msg = \"\\nGrid Search 結果：\\n\" + str(results_df)\n",
    "print(log_msg)\n",
    "logging.info(log_msg)\n",
    "results_df.to_csv('grid_search_results_0527.csv', index=False)\n",
    "\n",
    "# 報告最佳參數\n",
    "log_msg = (f\"\\n最佳參數組合：\\n\"\n",
    "           f\"batch_size: {best_params['batch_size']}\\n\"\n",
    "           f\"pooling_method: {best_params['pooling_method']}\\n\"\n",
    "           f\"activation: {best_params['activation']}\\n\"\n",
    "           f\"最佳驗證準確率: {best_val_acc:.4f}\")\n",
    "print(log_msg)\n",
    "logging.info(log_msg)"
   ]
  },
  {
   "cell_type": "code",
   "execution_count": null,
   "id": "35f12247",
   "metadata": {},
   "outputs": [],
   "source": [
    "# 儲存最佳模型的訓練曲線\n",
    "plt.rcParams['font.sans-serif'] = ['SimHei']  # 支援中文\n",
    "plt.rcParams['axes.unicode_minus'] = False\n",
    "plt.figure(figsize=(12, 5))\n",
    "plt.subplot(1, 2, 1)\n",
    "plt.plot(range(1, len(best_train_losses)+1), best_train_losses, label='訓練損失')\n",
    "plt.plot(range(1, len(best_val_losses)+1), best_val_losses, label='驗證損失')\n",
    "plt.xlabel('Epoch')\n",
    "plt.ylabel('損失')\n",
    "plt.title('最佳模型：訓練/驗證損失')\n",
    "plt.legend()\n",
    "plt.subplot(1, 2, 2)\n",
    "plt.plot(range(1, len(best_val_accuracies)+1), best_val_accuracies, label='驗證準確率', color='green')\n",
    "plt.xlabel('Epoch')\n",
    "plt.ylabel('準確率')\n",
    "plt.title('最佳模型：驗證準確率')\n",
    "plt.legend()\n",
    "plt.tight_layout()\n",
    "plt.savefig('best_model_training_curves_0527.png')\n",
    "plt.close()\n",
    "logging.info(\"最佳模型訓練曲線已儲存至 'best_model_training_curves_0527.png'\")"
   ]
  }
 ],
 "metadata": {
  "kernelspec": {
   "display_name": "AI",
   "language": "python",
   "name": "python3"
  },
  "language_info": {
   "codemirror_mode": {
    "name": "ipython",
    "version": 3
   },
   "file_extension": ".py",
   "mimetype": "text/x-python",
   "name": "python",
   "nbconvert_exporter": "python",
   "pygments_lexer": "ipython3",
   "version": "3.10.13"
  }
 },
 "nbformat": 4,
 "nbformat_minor": 5
}

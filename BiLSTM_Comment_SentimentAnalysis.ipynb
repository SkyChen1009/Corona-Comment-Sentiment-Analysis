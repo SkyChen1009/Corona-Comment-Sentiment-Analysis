{
 "cells": [
  {
   "cell_type": "markdown",
   "metadata": {},
   "source": [
    "# LSTM using Word2Vec by Sky\n",
    "### 2025/5/1 11:32 pm"
   ]
  },
  {
   "cell_type": "markdown",
   "metadata": {},
   "source": [
    "## 步驟1：載入套件"
   ]
  },
  {
   "cell_type": "code",
   "execution_count": 2,
   "metadata": {},
   "outputs": [
    {
     "name": "stderr",
     "output_type": "stream",
     "text": [
      "[nltk_data] Downloading package punkt to\n",
      "[nltk_data]     C:\\Users\\skych\\AppData\\Roaming\\nltk_data...\n",
      "[nltk_data]   Package punkt is already up-to-date!\n",
      "[nltk_data] Downloading package stopwords to\n",
      "[nltk_data]     C:\\Users\\skych\\AppData\\Roaming\\nltk_data...\n",
      "[nltk_data]   Package stopwords is already up-to-date!\n"
     ]
    },
    {
     "data": {
      "text/plain": [
       "True"
      ]
     },
     "execution_count": 2,
     "metadata": {},
     "output_type": "execute_result"
    }
   ],
   "source": [
    "# 步驟1：載入套件\n",
    "import pandas as pd  # 用於資料讀取與處理\n",
    "import numpy as np   # 用於數值運算\n",
    "import torch         # PyTorch主套件\n",
    "import torch.nn as nn  # PyTorch神經網路模組\n",
    "import torch.optim as optim  # PyTorch優化器\n",
    "from torch.utils.data import Dataset, DataLoader  # PyTorch資料集與資料加載器\n",
    "import nltk  # 用於分詞與停用詞處理\n",
    "from nltk.corpus import stopwords  # 停用詞\n",
    "from nltk.tokenize import word_tokenize  # 分詞工具\n",
    "import re  # 正則表達式，用於去除URL\n",
    "import string  # 處理標點符號\n",
    "from torch.nn.init import uniform_  # 用於隨機初始化OOV詞的嵌入向量\n",
    "import matplotlib.pyplot as plt  # 用於視覺化（已有）\n",
    "\n",
    "# 下載nltk的停用詞與分詞資源（只需執行一次）\n",
    "nltk.download('punkt')\n",
    "nltk.download('stopwords')"
   ]
  },
  {
   "cell_type": "markdown",
   "metadata": {},
   "source": [
    "## 步驟2：讀取資料"
   ]
  },
  {
   "cell_type": "code",
   "execution_count": 3,
   "metadata": {},
   "outputs": [
    {
     "name": "stdout",
     "output_type": "stream",
     "text": [
      "訓練資料前5筆：\n",
      "   UserName  ScreenName   Location     TweetAt  \\\n",
      "0      3799       48751     London  16-03-2020   \n",
      "1      3800       48752         UK  16-03-2020   \n",
      "2      3801       48753  Vagabonds  16-03-2020   \n",
      "3      3802       48754        NaN  16-03-2020   \n",
      "4      3803       48755        NaN  16-03-2020   \n",
      "\n",
      "                                       OriginalTweet           Sentiment  \n",
      "0  @MeNyrbie @Phil_Gahan @Chrisitv https://t.co/i...             Neutral  \n",
      "1  advice Talk to your neighbours family to excha...            Positive  \n",
      "2  Coronavirus Australia: Woolworths to give elde...            Positive  \n",
      "3  My food stock is not the only one which is emp...            Positive  \n",
      "4  Me, ready to go at supermarket during the #COV...  Extremely Negative  \n",
      "\n",
      "測試資料前5筆：\n",
      "   UserName  ScreenName             Location     TweetAt  \\\n",
      "0         1       44953                  NYC  02-03-2020   \n",
      "1         2       44954          Seattle, WA  02-03-2020   \n",
      "2         3       44955                  NaN  02-03-2020   \n",
      "3         4       44956          Chicagoland  02-03-2020   \n",
      "4         5       44957  Melbourne, Victoria  03-03-2020   \n",
      "\n",
      "                                       OriginalTweet           Sentiment  \n",
      "0  TRENDING: New Yorkers encounter empty supermar...  Extremely Negative  \n",
      "1  When I couldn't find hand sanitizer at Fred Me...            Positive  \n",
      "2  Find out how you can protect yourself and love...  Extremely Positive  \n",
      "3  #Panic buying hits #NewYork City as anxious sh...            Negative  \n",
      "4  #toiletpaper #dunnypaper #coronavirus #coronav...             Neutral  \n"
     ]
    }
   ],
   "source": [
    "# 讀取訓練與測試資料\n",
    "train_df = pd.read_csv('Corona_NLP_train.csv', encoding='latin1')\n",
    "test_df = pd.read_csv('Corona_NLP_test.csv', encoding='latin1')\n",
    "\n",
    "# 顯示前幾筆資料，確認欄位與內容\n",
    "print(\"訓練資料前5筆：\")\n",
    "print(train_df.head())\n",
    "\n",
    "print(\"\\n測試資料前5筆：\")\n",
    "print(test_df.head())"
   ]
  },
  {
   "cell_type": "markdown",
   "metadata": {},
   "source": [
    "## 步驟3：資料清理"
   ]
  },
  {
   "cell_type": "code",
   "execution_count": 4,
   "metadata": {},
   "outputs": [
    {
     "name": "stdout",
     "output_type": "stream",
     "text": [
      "清理後的訓練資料前5筆：\n",
      "                                       OriginalTweet  \\\n",
      "0  @MeNyrbie @Phil_Gahan @Chrisitv https://t.co/i...   \n",
      "1  advice Talk to your neighbours family to excha...   \n",
      "2  Coronavirus Australia: Woolworths to give elde...   \n",
      "3  My food stock is not the only one which is emp...   \n",
      "4  Me, ready to go at supermarket during the #COV...   \n",
      "\n",
      "                                        clean_tokens  \n",
      "0                    [menyrbie, philgahan, chrisitv]  \n",
      "1  [advice, talk, neighbours, family, exchange, p...  \n",
      "2  [coronavirus, australia, woolworths, give, eld...  \n",
      "3  [food, stock, one, empty, please, dont, panic,...  \n",
      "4  [ready, go, supermarket, outbreak, im, paranoi...  \n"
     ]
    }
   ],
   "source": [
    "import string\n",
    "\n",
    "# 定義資料清理的函式\n",
    "def clean_text(text):\n",
    "    # 1. 去除URL\n",
    "    text = re.sub(r'http\\S+|www.\\S+', '', text)\n",
    "    # 2. 轉小寫\n",
    "    text = text.lower()\n",
    "    # 3. 去除標點符號\n",
    "    text = text.translate(str.maketrans('', '', string.punctuation))\n",
    "    # 4. 分詞\n",
    "    words = word_tokenize(text)\n",
    "    # 5. 去除停用詞\n",
    "    stop_words = set(stopwords.words('english'))\n",
    "    words = [word for word in words if word not in stop_words]\n",
    "    # 6. 移除非英文字（如數字、符號等）\n",
    "    words = [word for word in words if word.isalpha()]\n",
    "    return words\n",
    "\n",
    "# 對訓練與測試資料的留言欄位進行清理與分詞\n",
    "train_df['clean_tokens'] = train_df['OriginalTweet'].apply(clean_text)\n",
    "test_df['clean_tokens'] = test_df['OriginalTweet'].apply(clean_text)\n",
    "\n",
    "# 顯示清理後的結果\n",
    "print(\"清理後的訓練資料前5筆：\")\n",
    "print(train_df[['OriginalTweet', 'clean_tokens']].head())"
   ]
  },
  {
   "cell_type": "markdown",
   "metadata": {},
   "source": [
    "## 步驟4：GloVe 詞向量化和嵌入矩陣生成"
   ]
  },
  {
   "cell_type": "code",
   "execution_count": 5,
   "metadata": {},
   "outputs": [
    {
     "name": "stdout",
     "output_type": "stream",
     "text": [
      "詞向量化後的訓練資料前5筆：\n",
      "                                        clean_tokens  \\\n",
      "0                    [menyrbie, philgahan, chrisitv]   \n",
      "1  [advice, talk, neighbours, family, exchange, p...   \n",
      "2  [coronavirus, australia, woolworths, give, eld...   \n",
      "3  [food, stock, one, empty, please, dont, panic,...   \n",
      "4  [ready, go, supermarket, outbreak, im, paranoi...   \n",
      "\n",
      "                                       input_indices  \n",
      "0  [18538, 37880, 41218, 0, 0, 0, 0, 0, 0, 0, 0, ...  \n",
      "1  [3359, 53190, 52254, 36561, 407, 25984, 59, 11...  \n",
      "2  [16444, 49768, 35193, 14516, 17527, 21911, 315...  \n",
      "3  [32957, 7466, 41925, 26934, 42858, 19906, 1244...  \n",
      "4  [26959, 28335, 6453, 35437, 24695, 53126, 3295...  \n"
     ]
    }
   ],
   "source": [
    "# 步驟4：GloVe Twitter 分詞與向量化\n",
    "# 定義函式：從本地檔案載入GloVe Twitter嵌入向量\n",
    "def load_glove_vectors(glove_file):\n",
    "    word_vectors = {}\n",
    "    with open(glove_file, 'r', encoding='utf-8') as f:\n",
    "        for line in f:\n",
    "            values = line.strip().split()\n",
    "            word = values[0]\n",
    "            vector = np.array(values[1:], dtype='float32')\n",
    "            word_vectors[word] = vector\n",
    "    return word_vectors\n",
    "\n",
    "# 載入GloVe Twitter嵌入向量（假設使用100維）\n",
    "GLOVE_FILE = r'C:\\Users\\skych\\glove.twitter.27B\\glove.twitter.27B.100d.txt'\n",
    "glove_vectors = load_glove_vectors(GLOVE_FILE)\n",
    "\n",
    "# 創建詞彙表\n",
    "all_tokens = [token for tokens in train_df['clean_tokens'] for token in tokens]\n",
    "vocab = {word: idx + 1 for idx, word in enumerate(set(all_tokens))}  # +1 為padding保留索引0\n",
    "vocab['<PAD>'] = 0  # 添加padding token\n",
    "VOCAB_SIZE = len(vocab)\n",
    "\n",
    "MAX_LENGTH = 50\n",
    "\n",
    "# 定義函式：將清理後的tokens轉換為索引\n",
    "def tokens_to_indices(tokens, vocab, max_length=MAX_LENGTH):\n",
    "    indices = [vocab.get(token, vocab['<PAD>']) for token in tokens]\n",
    "    if len(indices) < max_length:\n",
    "        indices += [vocab['<PAD>']] * (max_length - len(indices))  # 填充\n",
    "    return indices[:max_length]  # 截斷至最大長度\n",
    "\n",
    "# 將訓練與測試資料的tokens轉為索引\n",
    "train_df['input_indices'] = train_df['clean_tokens'].apply(lambda x: tokens_to_indices(x, vocab))\n",
    "test_df['input_indices'] = test_df['clean_tokens'].apply(lambda x: tokens_to_indices(x, vocab))\n",
    "\n",
    "# 定義函式：生成GloVe Twitter嵌入矩陣\n",
    "def get_embedding_matrix(vocab, glove_vectors, embedding_dim):\n",
    "    embedding_matrix = np.zeros((len(vocab), embedding_dim))  # 詞彙表大小包含padding\n",
    "    for word, idx in vocab.items():\n",
    "        if word in glove_vectors and word != '<PAD>':\n",
    "            embedding_matrix[idx] = glove_vectors[word]\n",
    "        else:\n",
    "            # 為OOV詞或padding token隨機初始化嵌入向量\n",
    "            embedding_matrix[idx] = uniform_(torch.empty(embedding_dim)).numpy()\n",
    "    return torch.tensor(embedding_matrix, dtype=torch.float32)\n",
    "\n",
    "# 生成GloVe Twitter嵌入矩陣\n",
    "EMBEDDING_DIM = 100  # GloVe Twitter 100維\n",
    "embedding_matrix = get_embedding_matrix(vocab, glove_vectors, EMBEDDING_DIM)\n",
    "\n",
    "# 顯示詞向量化後的結果\n",
    "print(\"詞向量化後的訓練資料前5筆：\")\n",
    "print(train_df[['clean_tokens', 'input_indices']].head())"
   ]
  },
  {
   "cell_type": "markdown",
   "metadata": {},
   "source": [
    "## 步驟5：準備PyTorch Dataset與DataLoader"
   ]
  },
  {
   "cell_type": "code",
   "execution_count": 6,
   "metadata": {},
   "outputs": [
    {
     "name": "stdout",
     "output_type": "stream",
     "text": [
      "一個batch的input shape: torch.Size([64, 50])\n",
      "一個batch的label shape: torch.Size([64])\n"
     ]
    }
   ],
   "source": [
    "# 先將情感標籤（Sentiment）轉為數值型label\n",
    "# 這裡以五類為例：Extremely Negative, Negative, Neutral, Positive, Extremely Positive\n",
    "sentiment2label = {\n",
    "    'Extremely Negative': 0,\n",
    "    'Negative': 1,\n",
    "    'Neutral': 2,\n",
    "    'Positive': 3,\n",
    "    'Extremely Positive': 4\n",
    "}\n",
    "train_df['label'] = train_df['Sentiment'].map(sentiment2label)\n",
    "test_df['label'] = test_df['Sentiment'].map(sentiment2label)\n",
    "\n",
    "# 建立自訂的PyTorch Dataset\n",
    "class CommentDataset(Dataset):\n",
    "    def __init__(self, input_indices, labels):\n",
    "        self.input_indices = input_indices\n",
    "        self.labels = labels\n",
    "\n",
    "    def __len__(self):\n",
    "        return len(self.input_indices)\n",
    "\n",
    "    def __getitem__(self, idx):\n",
    "        # 回傳input序列與label\n",
    "        return torch.tensor(self.input_indices[idx], dtype=torch.long), torch.tensor(self.labels[idx], dtype=torch.long)\n",
    "\n",
    "# 建立訓練與測試資料集\n",
    "train_dataset = CommentDataset(train_df['input_indices'].tolist(), train_df['label'].tolist())\n",
    "test_dataset = CommentDataset(test_df['input_indices'].tolist(), test_df['label'].tolist())\n",
    "\n",
    "# 建立DataLoader，設定batch size\n",
    "BATCH_SIZE = 64\n",
    "train_loader = DataLoader(train_dataset, batch_size=BATCH_SIZE, shuffle=True)\n",
    "test_loader = DataLoader(test_dataset, batch_size=BATCH_SIZE, shuffle=False)\n",
    "\n",
    "# 檢查一個batch的資料型態\n",
    "for batch_inputs, batch_labels in train_loader:\n",
    "    print(\"一個batch的input shape:\", batch_inputs.shape)  # (batch_size, MAX_LEN)\n",
    "    print(\"一個batch的label shape:\", batch_labels.shape)  # (batch_size,)\n",
    "    break"
   ]
  },
  {
   "cell_type": "markdown",
   "metadata": {},
   "source": [
    "### 檢查資料不平衡"
   ]
  },
  {
   "cell_type": "code",
   "execution_count": 7,
   "metadata": {},
   "outputs": [
    {
     "name": "stdout",
     "output_type": "stream",
     "text": [
      "訓練集情感分布：\n",
      "3    11422\n",
      "1     9917\n",
      "2     7713\n",
      "4     6624\n",
      "0     5481\n",
      "Name: label, dtype: int64\n"
     ]
    }
   ],
   "source": [
    "# 顯示訓練集各類別分布\n",
    "print(\"訓練集情感分布：\")\n",
    "print(train_df['label'].value_counts())"
   ]
  },
  {
   "cell_type": "markdown",
   "metadata": {},
   "source": [
    "### 使用加權損失（處理不平衡）"
   ]
  },
  {
   "cell_type": "code",
   "execution_count": 8,
   "metadata": {},
   "outputs": [],
   "source": [
    "# 若資料不平衡，計算每個類別的權重\n",
    "from sklearn.utils.class_weight import compute_class_weight\n",
    "device = torch.device(\"cuda\" if torch.cuda.is_available() else \"cpu\")\n",
    "\n",
    "class_weights = compute_class_weight(\n",
    "    class_weight='balanced',\n",
    "    classes=np.unique(train_df['label']),\n",
    "    y=train_df['label']\n",
    ")\n",
    "class_weights = torch.tensor(class_weights, dtype=torch.float).to(device)\n",
    "# 使用加權損失\n",
    "criterion = nn.CrossEntropyLoss(weight=class_weights)"
   ]
  },
  {
   "cell_type": "code",
   "execution_count": 9,
   "metadata": {},
   "outputs": [
    {
     "name": "stdout",
     "output_type": "stream",
     "text": [
      "2.4.1+cu121\n",
      "True\n"
     ]
    }
   ],
   "source": [
    "import torch\n",
    "print(torch.__version__)\n",
    "print(torch.cuda.is_available())"
   ]
  },
  {
   "cell_type": "markdown",
   "metadata": {},
   "source": [
    "## 步驟5.5：超參數調優"
   ]
  },
  {
   "cell_type": "code",
   "execution_count": 15,
   "metadata": {},
   "outputs": [
    {
     "name": "stderr",
     "output_type": "stream",
     "text": [
      "C:\\Users\\skych\\AppData\\Local\\Temp\\ipykernel_26084\\188321964.py:124: UserWarning: To copy construct from a tensor, it is recommended to use sourceTensor.clone().detach() or sourceTensor.clone().detach().requires_grad_(True), rather than torch.tensor(sourceTensor).\n",
      "  embedding_tensor = torch.tensor(embedding_matrix, dtype=torch.float).to(device)\n"
     ]
    },
    {
     "name": "stdout",
     "output_type": "stream",
     "text": [
      "使用設備: cuda\n",
      "Testing params: {'batch_size': 32, 'dropout': 0.3, 'hidden_dim': 128, 'learning_rate': 0.001, 'num_layers': 1}\n"
     ]
    },
    {
     "name": "stderr",
     "output_type": "stream",
     "text": [
      "                                                                    \r"
     ]
    },
    {
     "name": "stdout",
     "output_type": "stream",
     "text": [
      "Testing params: {'batch_size': 32, 'dropout': 0.3, 'hidden_dim': 128, 'learning_rate': 0.001, 'num_layers': 4}\n"
     ]
    },
    {
     "name": "stderr",
     "output_type": "stream",
     "text": [
      "                                                                    \r"
     ]
    },
    {
     "name": "stdout",
     "output_type": "stream",
     "text": [
      "Testing params: {'batch_size': 32, 'dropout': 0.3, 'hidden_dim': 128, 'learning_rate': 0.0001, 'num_layers': 1}\n"
     ]
    },
    {
     "name": "stderr",
     "output_type": "stream",
     "text": [
      "                                                                    \r"
     ]
    },
    {
     "name": "stdout",
     "output_type": "stream",
     "text": [
      "Testing params: {'batch_size': 32, 'dropout': 0.3, 'hidden_dim': 128, 'learning_rate': 0.0001, 'num_layers': 4}\n"
     ]
    },
    {
     "name": "stderr",
     "output_type": "stream",
     "text": [
      "                                                                    \r"
     ]
    },
    {
     "name": "stdout",
     "output_type": "stream",
     "text": [
      "Testing params: {'batch_size': 32, 'dropout': 0.3, 'hidden_dim': 256, 'learning_rate': 0.001, 'num_layers': 1}\n"
     ]
    },
    {
     "name": "stderr",
     "output_type": "stream",
     "text": [
      "                                                                    \r"
     ]
    },
    {
     "name": "stdout",
     "output_type": "stream",
     "text": [
      "Testing params: {'batch_size': 32, 'dropout': 0.3, 'hidden_dim': 256, 'learning_rate': 0.001, 'num_layers': 4}\n"
     ]
    },
    {
     "name": "stderr",
     "output_type": "stream",
     "text": [
      "                                                                   \r"
     ]
    },
    {
     "name": "stdout",
     "output_type": "stream",
     "text": [
      "Testing params: {'batch_size': 32, 'dropout': 0.3, 'hidden_dim': 256, 'learning_rate': 0.0001, 'num_layers': 1}\n"
     ]
    },
    {
     "name": "stderr",
     "output_type": "stream",
     "text": [
      "                                                                    \r"
     ]
    },
    {
     "name": "stdout",
     "output_type": "stream",
     "text": [
      "Testing params: {'batch_size': 32, 'dropout': 0.3, 'hidden_dim': 256, 'learning_rate': 0.0001, 'num_layers': 4}\n"
     ]
    },
    {
     "name": "stderr",
     "output_type": "stream",
     "text": [
      "                                                                   \r"
     ]
    },
    {
     "name": "stdout",
     "output_type": "stream",
     "text": [
      "Testing params: {'batch_size': 32, 'dropout': 0.5, 'hidden_dim': 128, 'learning_rate': 0.001, 'num_layers': 1}\n"
     ]
    },
    {
     "name": "stderr",
     "output_type": "stream",
     "text": [
      "                                                                    \r"
     ]
    },
    {
     "name": "stdout",
     "output_type": "stream",
     "text": [
      "Testing params: {'batch_size': 32, 'dropout': 0.5, 'hidden_dim': 128, 'learning_rate': 0.001, 'num_layers': 4}\n"
     ]
    },
    {
     "name": "stderr",
     "output_type": "stream",
     "text": [
      "                                                                   \r"
     ]
    },
    {
     "name": "stdout",
     "output_type": "stream",
     "text": [
      "Testing params: {'batch_size': 32, 'dropout': 0.5, 'hidden_dim': 128, 'learning_rate': 0.0001, 'num_layers': 1}\n"
     ]
    },
    {
     "name": "stderr",
     "output_type": "stream",
     "text": [
      "                                                                    \r"
     ]
    },
    {
     "name": "stdout",
     "output_type": "stream",
     "text": [
      "Testing params: {'batch_size': 32, 'dropout': 0.5, 'hidden_dim': 128, 'learning_rate': 0.0001, 'num_layers': 4}\n"
     ]
    },
    {
     "name": "stderr",
     "output_type": "stream",
     "text": [
      "                                                                   \r"
     ]
    },
    {
     "name": "stdout",
     "output_type": "stream",
     "text": [
      "Testing params: {'batch_size': 32, 'dropout': 0.5, 'hidden_dim': 256, 'learning_rate': 0.001, 'num_layers': 1}\n"
     ]
    },
    {
     "name": "stderr",
     "output_type": "stream",
     "text": [
      "                                                                   \r"
     ]
    },
    {
     "name": "stdout",
     "output_type": "stream",
     "text": [
      "Testing params: {'batch_size': 32, 'dropout': 0.5, 'hidden_dim': 256, 'learning_rate': 0.001, 'num_layers': 4}\n"
     ]
    },
    {
     "name": "stderr",
     "output_type": "stream",
     "text": [
      "                                                                   \r"
     ]
    },
    {
     "name": "stdout",
     "output_type": "stream",
     "text": [
      "Testing params: {'batch_size': 32, 'dropout': 0.5, 'hidden_dim': 256, 'learning_rate': 0.0001, 'num_layers': 1}\n"
     ]
    },
    {
     "name": "stderr",
     "output_type": "stream",
     "text": [
      "                                                                    \r"
     ]
    },
    {
     "name": "stdout",
     "output_type": "stream",
     "text": [
      "Testing params: {'batch_size': 32, 'dropout': 0.5, 'hidden_dim': 256, 'learning_rate': 0.0001, 'num_layers': 4}\n"
     ]
    },
    {
     "name": "stderr",
     "output_type": "stream",
     "text": [
      "                                                                   \r"
     ]
    },
    {
     "name": "stdout",
     "output_type": "stream",
     "text": [
      "Testing params: {'batch_size': 64, 'dropout': 0.3, 'hidden_dim': 128, 'learning_rate': 0.001, 'num_layers': 1}\n"
     ]
    },
    {
     "name": "stderr",
     "output_type": "stream",
     "text": [
      "                                                                  \r"
     ]
    },
    {
     "name": "stdout",
     "output_type": "stream",
     "text": [
      "Testing params: {'batch_size': 64, 'dropout': 0.3, 'hidden_dim': 128, 'learning_rate': 0.001, 'num_layers': 4}\n"
     ]
    },
    {
     "name": "stderr",
     "output_type": "stream",
     "text": [
      "                                                                 \r"
     ]
    },
    {
     "name": "stdout",
     "output_type": "stream",
     "text": [
      "Testing params: {'batch_size': 64, 'dropout': 0.3, 'hidden_dim': 128, 'learning_rate': 0.0001, 'num_layers': 1}\n"
     ]
    },
    {
     "name": "stderr",
     "output_type": "stream",
     "text": [
      "                                                                  \r"
     ]
    },
    {
     "name": "stdout",
     "output_type": "stream",
     "text": [
      "Testing params: {'batch_size': 64, 'dropout': 0.3, 'hidden_dim': 128, 'learning_rate': 0.0001, 'num_layers': 4}\n"
     ]
    },
    {
     "name": "stderr",
     "output_type": "stream",
     "text": [
      "                                                                 \r"
     ]
    },
    {
     "name": "stdout",
     "output_type": "stream",
     "text": [
      "Testing params: {'batch_size': 64, 'dropout': 0.3, 'hidden_dim': 256, 'learning_rate': 0.001, 'num_layers': 1}\n"
     ]
    },
    {
     "name": "stderr",
     "output_type": "stream",
     "text": [
      "                                                                  \r"
     ]
    },
    {
     "name": "stdout",
     "output_type": "stream",
     "text": [
      "Testing params: {'batch_size': 64, 'dropout': 0.3, 'hidden_dim': 256, 'learning_rate': 0.001, 'num_layers': 4}\n"
     ]
    },
    {
     "name": "stderr",
     "output_type": "stream",
     "text": [
      "                                                                 \r"
     ]
    },
    {
     "name": "stdout",
     "output_type": "stream",
     "text": [
      "Testing params: {'batch_size': 64, 'dropout': 0.3, 'hidden_dim': 256, 'learning_rate': 0.0001, 'num_layers': 1}\n"
     ]
    },
    {
     "name": "stderr",
     "output_type": "stream",
     "text": [
      "                                                                  \r"
     ]
    },
    {
     "name": "stdout",
     "output_type": "stream",
     "text": [
      "Testing params: {'batch_size': 64, 'dropout': 0.3, 'hidden_dim': 256, 'learning_rate': 0.0001, 'num_layers': 4}\n"
     ]
    },
    {
     "name": "stderr",
     "output_type": "stream",
     "text": [
      "                                                                 \r"
     ]
    },
    {
     "name": "stdout",
     "output_type": "stream",
     "text": [
      "Testing params: {'batch_size': 64, 'dropout': 0.5, 'hidden_dim': 128, 'learning_rate': 0.001, 'num_layers': 1}\n"
     ]
    },
    {
     "name": "stderr",
     "output_type": "stream",
     "text": [
      "                                                                  \r"
     ]
    },
    {
     "name": "stdout",
     "output_type": "stream",
     "text": [
      "Testing params: {'batch_size': 64, 'dropout': 0.5, 'hidden_dim': 128, 'learning_rate': 0.001, 'num_layers': 4}\n"
     ]
    },
    {
     "name": "stderr",
     "output_type": "stream",
     "text": [
      "                                                                 \r"
     ]
    },
    {
     "name": "stdout",
     "output_type": "stream",
     "text": [
      "Testing params: {'batch_size': 64, 'dropout': 0.5, 'hidden_dim': 128, 'learning_rate': 0.0001, 'num_layers': 1}\n"
     ]
    },
    {
     "name": "stderr",
     "output_type": "stream",
     "text": [
      "                                                                  \r"
     ]
    },
    {
     "name": "stdout",
     "output_type": "stream",
     "text": [
      "Testing params: {'batch_size': 64, 'dropout': 0.5, 'hidden_dim': 128, 'learning_rate': 0.0001, 'num_layers': 4}\n"
     ]
    },
    {
     "name": "stderr",
     "output_type": "stream",
     "text": [
      "                                                                 \r"
     ]
    },
    {
     "name": "stdout",
     "output_type": "stream",
     "text": [
      "Testing params: {'batch_size': 64, 'dropout': 0.5, 'hidden_dim': 256, 'learning_rate': 0.001, 'num_layers': 1}\n"
     ]
    },
    {
     "name": "stderr",
     "output_type": "stream",
     "text": [
      "                                                                  \r"
     ]
    },
    {
     "name": "stdout",
     "output_type": "stream",
     "text": [
      "Testing params: {'batch_size': 64, 'dropout': 0.5, 'hidden_dim': 256, 'learning_rate': 0.001, 'num_layers': 4}\n"
     ]
    },
    {
     "name": "stderr",
     "output_type": "stream",
     "text": [
      "                                                                 \r"
     ]
    },
    {
     "name": "stdout",
     "output_type": "stream",
     "text": [
      "Testing params: {'batch_size': 64, 'dropout': 0.5, 'hidden_dim': 256, 'learning_rate': 0.0001, 'num_layers': 1}\n"
     ]
    },
    {
     "name": "stderr",
     "output_type": "stream",
     "text": [
      "                                                                  \r"
     ]
    },
    {
     "name": "stdout",
     "output_type": "stream",
     "text": [
      "Testing params: {'batch_size': 64, 'dropout': 0.5, 'hidden_dim': 256, 'learning_rate': 0.0001, 'num_layers': 4}\n"
     ]
    },
    {
     "name": "stderr",
     "output_type": "stream",
     "text": [
      "                                                                 \r"
     ]
    },
    {
     "name": "stdout",
     "output_type": "stream",
     "text": [
      "Best parameters: {'batch_size': 32, 'dropout': 0.3, 'hidden_dim': 128, 'learning_rate': 0.001, 'num_layers': 4}, Validation Accuracy: 0.7138865265459847\n",
      "Updated parameters: BATCH_SIZE=32, HIDDEN_DIM=128, DROPOUT=0.3, NUM_LAYERS=4\n"
     ]
    }
   ],
   "source": [
    "# 匯入必要的套件\n",
    "import matplotlib.pyplot as plt\n",
    "from tqdm import tqdm\n",
    "import torch\n",
    "import torch.nn as nn\n",
    "import torch.optim as optim\n",
    "from torch.optim.lr_scheduler import ReduceLROnPlateau\n",
    "from sklearn.model_selection import ParameterGrid\n",
    "\n",
    "# 檢查設備\n",
    "device = torch.device(\"cuda\")\n",
    "print(f\"使用設備: {device}\")\n",
    "\n",
    "# Define BiLSTMClassifier class (copied from your Step 6)\n",
    "class BiLSTMClassifier(nn.Module):\n",
    "    def __init__(self, embedding_tensor, hidden_dim, output_dim, num_layers=2, dropout=0.2):\n",
    "        super(BiLSTMClassifier, self).__init__()\n",
    "        vocab_size, embedding_dim = embedding_tensor.shape\n",
    "        # Embedding layer, using pre-trained word vectors, allow fine-tuning\n",
    "        self.embedding = nn.Embedding.from_pretrained(embedding_tensor, freeze=False)\n",
    "        # Bidirectional LSTM\n",
    "        self.lstm = nn.LSTM(\n",
    "            input_size=embedding_dim,\n",
    "            hidden_size=hidden_dim,\n",
    "            num_layers=num_layers,\n",
    "            batch_first=True,\n",
    "            bidirectional=True,\n",
    "            dropout=dropout if num_layers > 1 else 0\n",
    "        )\n",
    "        # Batch Normalization\n",
    "        self.bn = nn.BatchNorm1d(hidden_dim * 2)\n",
    "        # Fully connected layer\n",
    "        self.fc = nn.Linear(hidden_dim * 2, output_dim)\n",
    "        self.dropout = nn.Dropout(dropout)\n",
    "\n",
    "    def forward(self, x):\n",
    "        # x: (batch_size, seq_len)\n",
    "        embedded = self.embedding(x)  # (batch_size, seq_len, embedding_dim)\n",
    "        lstm_out, _ = self.lstm(embedded)  # (batch_size, seq_len, hidden_dim*2)\n",
    "        # Take the last output of the bidirectional LSTM\n",
    "        out_forward = lstm_out[:, -1, :self.lstm.hidden_size]\n",
    "        out_backward = lstm_out[:, 0, self.lstm.hidden_size:]\n",
    "        out = torch.cat((out_forward, out_backward), dim=1)  # (batch_size, hidden_dim*2)\n",
    "        out = self.bn(out)\n",
    "        out = self.dropout(out)\n",
    "        logits = self.fc(out)  # (batch_size, output_dim)\n",
    "        return logits\n",
    "\n",
    "\n",
    "# Hyperparameter grid\n",
    "param_grid = {\n",
    "    'learning_rate': [0.001, 0.0001],\n",
    "    'hidden_dim': [128, 256],\n",
    "    'dropout': [0.3, 0.5],\n",
    "    'batch_size': [32, 64],\n",
    "    'num_layers': [1, 4]  # Added to match your BiLSTMClassifier\n",
    "}\n",
    "\n",
    "# Function to train and evaluate model\n",
    "def train_and_evaluate(params, train_loader, val_loader, embedding_tensor, output_dim, device, class_weights):\n",
    "    model = BiLSTMClassifier(\n",
    "        embedding_tensor=embedding_tensor,\n",
    "        hidden_dim=params['hidden_dim'],\n",
    "        output_dim=output_dim,\n",
    "        num_layers=params['num_layers'],\n",
    "        dropout=params['dropout']\n",
    "    ).to(device)\n",
    "    optimizer = optim.Adam(model.parameters(), lr=params['learning_rate'])\n",
    "    criterion = nn.CrossEntropyLoss(weight=class_weights.to(device))\n",
    "    \n",
    "    best_val_acc = 0\n",
    "    for epoch in range(5):  # Reduced epochs for tuning\n",
    "        model.train()\n",
    "        total_loss = 0\n",
    "        for inputs, labels in tqdm(train_loader, desc=f\"Epoch {epoch+1} 訓練中\", leave=False):\n",
    "            inputs, labels = inputs.to(device), labels.to(device)\n",
    "            optimizer.zero_grad()\n",
    "            outputs = model(inputs)\n",
    "            loss = criterion(outputs, labels)\n",
    "            loss.backward()\n",
    "            optimizer.step()\n",
    "            total_loss += loss.item()\n",
    "        \n",
    "        # Validation\n",
    "        model.eval()\n",
    "        val_correct = 0\n",
    "        total = 0\n",
    "        val_loss = 0\n",
    "        with torch.no_grad():\n",
    "            for inputs, labels in val_loader:\n",
    "                inputs, labels = inputs.to(device), labels.to(device)\n",
    "                outputs = model(inputs)\n",
    "                loss = criterion(outputs, labels)\n",
    "                val_loss += loss.item()\n",
    "                _, predicted = torch.max(outputs, 1)\n",
    "                total += labels.size(0)\n",
    "                val_correct += (predicted == labels).sum().item()\n",
    "        val_acc = val_correct / total\n",
    "        \n",
    "        if val_acc > best_val_acc:\n",
    "            best_val_acc = val_acc\n",
    "    \n",
    "    return best_val_acc\n",
    "\n",
    "# Create a validation set by splitting train_dataset (optional)\n",
    "from torch.utils.data import SubsetRandomSampler\n",
    "import numpy as np\n",
    "\n",
    "# Define validation split\n",
    "val_split = 0.2\n",
    "dataset_size = len(train_dataset)\n",
    "indices = list(range(dataset_size))\n",
    "np.random.shuffle(indices)\n",
    "val_size = int(val_split * dataset_size)\n",
    "train_indices, val_indices = indices[val_size:], indices[:val_size]\n",
    "\n",
    "# Create samplers\n",
    "train_sampler = SubsetRandomSampler(train_indices)\n",
    "val_sampler = SubsetRandomSampler(val_indices)\n",
    "\n",
    "# Create data loaders with dynamic batch_size\n",
    "best_acc = 0\n",
    "best_params = None\n",
    "embedding_tensor = torch.tensor(embedding_matrix, dtype=torch.float).to(device)\n",
    "output_dim = 5  # From your notebook (5 sentiment classes)\n",
    "\n",
    "for params in ParameterGrid(param_grid):\n",
    "    print(f\"Testing params: {params}\")\n",
    "    # Create data loaders with the current batch_size\n",
    "    train_loader = DataLoader(train_dataset, batch_size=params['batch_size'], sampler=train_sampler)\n",
    "    val_loader = DataLoader(train_dataset, batch_size=params['batch_size'], sampler=val_sampler)\n",
    "    val_acc = train_and_evaluate(\n",
    "        params, \n",
    "        train_loader, \n",
    "        val_loader, \n",
    "        embedding_tensor, \n",
    "        output_dim, \n",
    "        device, \n",
    "        class_weights\n",
    "    )\n",
    "    if val_acc > best_acc:\n",
    "        best_acc = val_acc\n",
    "        best_params = params\n",
    "\n",
    "print(f\"Best parameters: {best_params}, Validation Accuracy: {best_acc}\")\n",
    "\n",
    "# Update BATCH_SIZE, HIDDEN_DIM, DROPOUT, NUM_LAYERS with best parameters\n",
    "BATCH_SIZE = best_params['batch_size']\n",
    "HIDDEN_DIM = best_params['hidden_dim']\n",
    "DROPOUT = best_params['dropout']\n",
    "NUM_LAYERS = best_params['num_layers']\n",
    "print(f\"Updated parameters: BATCH_SIZE={BATCH_SIZE}, HIDDEN_DIM={HIDDEN_DIM}, DROPOUT={DROPOUT}, NUM_LAYERS={NUM_LAYERS}\")"
   ]
  },
  {
   "cell_type": "markdown",
   "metadata": {},
   "source": [
    "## 步驟六：建立BiLSTM 模型"
   ]
  },
  {
   "cell_type": "code",
   "execution_count": 21,
   "metadata": {},
   "outputs": [
    {
     "name": "stdout",
     "output_type": "stream",
     "text": [
      "Using device: cuda\n",
      "BiLSTMClassifier(\n",
      "  (embedding): Embedding(55161, 100)\n",
      "  (dropout): Dropout(p=0.3, inplace=False)\n",
      "  (lstm): LSTM(100, 128, num_layers=4, batch_first=True, bidirectional=True)\n",
      "  (batch_norm): BatchNorm1d(256, eps=1e-05, momentum=0.1, affine=True, track_running_stats=True)\n",
      "  (fc): Linear(in_features=256, out_features=5, bias=True)\n",
      ")\n",
      "\n",
      "==== 第1輪訓練 ====\n"
     ]
    },
    {
     "name": "stderr",
     "output_type": "stream",
     "text": [
      "訓練中: 100%|██████████| 1287/1287 [00:07<00:00, 172.50it/s]\n"
     ]
    },
    {
     "name": "stdout",
     "output_type": "stream",
     "text": [
      "訓練損失=1.2533，驗證損失=1.1497，驗證準確率=0.4489\n",
      "\n",
      "==== 第2輪訓練 ====\n"
     ]
    },
    {
     "name": "stderr",
     "output_type": "stream",
     "text": [
      "訓練中: 100%|██████████| 1287/1287 [00:06<00:00, 184.93it/s]\n"
     ]
    },
    {
     "name": "stdout",
     "output_type": "stream",
     "text": [
      "訓練損失=1.0905，驗證損失=1.0629，驗證準確率=0.4958\n",
      "\n",
      "==== 第3輪訓練 ====\n"
     ]
    },
    {
     "name": "stderr",
     "output_type": "stream",
     "text": [
      "訓練中: 100%|██████████| 1287/1287 [00:07<00:00, 183.03it/s]\n"
     ]
    },
    {
     "name": "stdout",
     "output_type": "stream",
     "text": [
      "訓練損失=0.9840，驗證損失=0.9320，驗證準確率=0.5961\n",
      "\n",
      "==== 第4輪訓練 ====\n"
     ]
    },
    {
     "name": "stderr",
     "output_type": "stream",
     "text": [
      "訓練中: 100%|██████████| 1287/1287 [00:07<00:00, 183.12it/s]\n"
     ]
    },
    {
     "name": "stdout",
     "output_type": "stream",
     "text": [
      "訓練損失=0.9058，驗證損失=0.8573，驗證準確率=0.6538\n",
      "\n",
      "==== 第5輪訓練 ====\n"
     ]
    },
    {
     "name": "stderr",
     "output_type": "stream",
     "text": [
      "訓練中: 100%|██████████| 1287/1287 [00:07<00:00, 179.92it/s]\n"
     ]
    },
    {
     "name": "stdout",
     "output_type": "stream",
     "text": [
      "訓練損失=0.8487，驗證損失=0.8334，驗證準確率=0.6698\n",
      "\n",
      "==== 第6輪訓練 ====\n"
     ]
    },
    {
     "name": "stderr",
     "output_type": "stream",
     "text": [
      "訓練中: 100%|██████████| 1287/1287 [00:07<00:00, 182.78it/s]\n"
     ]
    },
    {
     "name": "stdout",
     "output_type": "stream",
     "text": [
      "訓練損失=0.8066，驗證損失=0.8104，驗證準確率=0.6685\n",
      "\n",
      "==== 第7輪訓練 ====\n"
     ]
    },
    {
     "name": "stderr",
     "output_type": "stream",
     "text": [
      "訓練中: 100%|██████████| 1287/1287 [00:07<00:00, 180.45it/s]\n"
     ]
    },
    {
     "name": "stdout",
     "output_type": "stream",
     "text": [
      "訓練損失=0.7663，驗證損失=0.8027，驗證準確率=0.6790\n",
      "\n",
      "==== 第8輪訓練 ====\n"
     ]
    },
    {
     "name": "stderr",
     "output_type": "stream",
     "text": [
      "訓練中: 100%|██████████| 1287/1287 [00:07<00:00, 180.38it/s]\n"
     ]
    },
    {
     "name": "stdout",
     "output_type": "stream",
     "text": [
      "訓練損失=0.7392，驗證損失=0.7930，驗證準確率=0.6814\n",
      "\n",
      "==== 第9輪訓練 ====\n"
     ]
    },
    {
     "name": "stderr",
     "output_type": "stream",
     "text": [
      "訓練中: 100%|██████████| 1287/1287 [00:07<00:00, 177.49it/s]\n"
     ]
    },
    {
     "name": "stdout",
     "output_type": "stream",
     "text": [
      "訓練損失=0.7059，驗證損失=0.7829，驗證準確率=0.7019\n",
      "\n",
      "==== 第10輪訓練 ====\n"
     ]
    },
    {
     "name": "stderr",
     "output_type": "stream",
     "text": [
      "訓練中: 100%|██████████| 1287/1287 [00:07<00:00, 180.33it/s]\n"
     ]
    },
    {
     "name": "stdout",
     "output_type": "stream",
     "text": [
      "訓練損失=0.6836，驗證損失=0.7803，驗證準確率=0.7054\n",
      "\n",
      "==== 第11輪訓練 ====\n"
     ]
    },
    {
     "name": "stderr",
     "output_type": "stream",
     "text": [
      "訓練中: 100%|██████████| 1287/1287 [00:07<00:00, 180.66it/s]\n"
     ]
    },
    {
     "name": "stdout",
     "output_type": "stream",
     "text": [
      "訓練損失=0.6488，驗證損失=0.7934，驗證準確率=0.7067\n",
      "\n",
      "==== 第12輪訓練 ====\n"
     ]
    },
    {
     "name": "stderr",
     "output_type": "stream",
     "text": [
      "訓練中: 100%|██████████| 1287/1287 [00:07<00:00, 180.76it/s]\n"
     ]
    },
    {
     "name": "stdout",
     "output_type": "stream",
     "text": [
      "訓練損失=0.6247，驗證損失=0.7990，驗證準確率=0.6854\n",
      "\n",
      "==== 第13輪訓練 ====\n"
     ]
    },
    {
     "name": "stderr",
     "output_type": "stream",
     "text": [
      "訓練中: 100%|██████████| 1287/1287 [00:07<00:00, 180.89it/s]\n"
     ]
    },
    {
     "name": "stdout",
     "output_type": "stream",
     "text": [
      "訓練損失=0.6084，驗證損失=0.8187，驗證準確率=0.7041\n",
      "早停觸發，停止於第13輪\n"
     ]
    }
   ],
   "source": [
    "import torch\n",
    "import torch.nn as nn\n",
    "import torch.optim as optim\n",
    "from tqdm import tqdm\n",
    "import matplotlib.pyplot as plt\n",
    "from torch.optim.lr_scheduler import ReduceLROnPlateau\n",
    "from torch.utils.data import DataLoader\n",
    "\n",
    "# 定義設備\n",
    "device = torch.device('cuda' if torch.cuda.is_available() else 'cpu')\n",
    "print(f\"Using device: {device}\")\n",
    "\n",
    "# 使用最佳參數配置 DataLoader\n",
    "train_loader = DataLoader(train_dataset, batch_size=BATCH_SIZE, shuffle=True)\n",
    "test_loader = DataLoader(test_dataset, batch_size=BATCH_SIZE, shuffle=False)\n",
    "\n",
    "# 定義改進的 BiLSTMClassifier 模型，融入 BiLSTM 的特點\n",
    "class BiLSTMClassifier(nn.Module):\n",
    "    def __init__(self, vocab_size, embedding_dim, hidden_dim, output_dim, num_layers=4, dropout=0.2, use_hidden_states=False):\n",
    "        super(BiLSTMClassifier, self).__init__()\n",
    "        self.hidden_dim = hidden_dim  # 保存 hidden_dim 以供 forward 使用\n",
    "        # 初始化嵌入層並載入GloVe Twitter嵌入矩陣\n",
    "        self.embedding = nn.Embedding(vocab_size, embedding_dim)\n",
    "        self.embedding.weight = nn.Parameter(embedding_matrix)  # 使用GloVe Twitter嵌入矩陣\n",
    "        self.embedding.weight.requires_grad = False  # 凍結嵌入層參數（可設為True以微調）\n",
    "        self.dropout = nn.Dropout(dropout)\n",
    "        # 雙向LSTM層\n",
    "        self.lstm = nn.LSTM(embedding_dim, hidden_dim, num_layers=num_layers, \n",
    "                           bidirectional=True, batch_first=True)\n",
    "        # 批次正規化層\n",
    "        self.batch_norm = nn.BatchNorm1d(hidden_dim * 2)\n",
    "        # 全連接層\n",
    "        self.fc = nn.Linear(hidden_dim * 2, output_dim)\n",
    "        self.use_hidden_states = use_hidden_states  # 控制是否使用隱藏狀態\n",
    "\n",
    "    def forward(self, text):\n",
    "        # text: [batch_size, max_length]\n",
    "        embedded = self.dropout(self.embedding(text))  # [batch_size, max_length, embedding_dim]\n",
    "        lstm_out, (hidden, cell) = self.lstm(embedded)  # lstm_out: [batch_size, max_length, hidden_dim*2]\n",
    "        \n",
    "        if self.use_hidden_states:\n",
    "            # 使用最後兩層隱藏狀態（正向和反向）\n",
    "            hidden = torch.cat((hidden[-2,:,:], hidden[-1,:,:]), dim=1)  # [batch_size, hidden_dim*2]\n",
    "        else:\n",
    "            # 使用序列最後一個時間步的輸出\n",
    "            hidden = torch.cat((lstm_out[:, -1, :self.hidden_dim], lstm_out[:, 0, self.hidden_dim:]), dim=1)\n",
    "        \n",
    "        # 應用批次正規化和Dropout\n",
    "        hidden = self.batch_norm(hidden)\n",
    "        hidden = self.dropout(hidden)\n",
    "        return self.fc(hidden)  # [batch_size, output_dim]\n",
    "\n",
    "# 設定模型參數（使用超參數調優結果）\n",
    "embedding_matrix = embedding_matrix.to(device)  # 確保嵌入矩陣在正確設備上\n",
    "OUTPUT_DIM = 5  # 情感分類數量（固定為5類）\n",
    "model = BiLSTMClassifier(\n",
    "    vocab_size=VOCAB_SIZE,\n",
    "    embedding_dim=EMBEDDING_DIM,\n",
    "    hidden_dim=best_params['hidden_dim'],\n",
    "    output_dim=OUTPUT_DIM,\n",
    "    dropout=best_params['dropout'],\n",
    "    num_layers=best_params['num_layers'],\n",
    "    use_hidden_states=False  # 默認使用原始序列輸出，設為 True 可測試 BiLSTM 方式\n",
    ").to(device)\n",
    "print(model)\n",
    "\n",
    "# 定義損失函數和優化器\n",
    "criterion = nn.CrossEntropyLoss(weight=class_weights.to(device))\n",
    "optimizer = optim.Adam(model.parameters(), lr=best_params['learning_rate'])\n",
    "scheduler = ReduceLROnPlateau(optimizer, mode='min', factor=0.5, patience=2, verbose=True)\n",
    "\n",
    "# 定義訓練函數\n",
    "def train_epoch(model, dataloader, criterion, optimizer, device):\n",
    "    model.train()\n",
    "    total_loss = 0\n",
    "    for inputs, labels in tqdm(dataloader, desc=\"訓練中\"):\n",
    "        inputs, labels = inputs.to(device), labels.to(device)\n",
    "        optimizer.zero_grad()\n",
    "        outputs = model(inputs)\n",
    "        loss = criterion(outputs, labels)\n",
    "        loss.backward()\n",
    "        optimizer.step()\n",
    "        total_loss += loss.item()\n",
    "    return total_loss / len(dataloader)\n",
    "\n",
    "# 定義驗證函數\n",
    "def eval_epoch(model, dataloader, criterion, device):\n",
    "    model.eval()\n",
    "    total_loss = 0\n",
    "    correct = 0\n",
    "    total = 0\n",
    "    with torch.no_grad():\n",
    "        for inputs, labels in dataloader:\n",
    "            inputs, labels = inputs.to(device), labels.to(device)\n",
    "            outputs = model(inputs)\n",
    "            loss = criterion(outputs, labels)\n",
    "            total_loss += loss.item()\n",
    "            preds = torch.argmax(outputs, dim=1)\n",
    "            correct += (preds == labels).sum().item()\n",
    "            total += labels.size(0)\n",
    "    accuracy = correct / total\n",
    "    return total_loss / len(dataloader), accuracy\n",
    "\n",
    "# 早停機制\n",
    "class EarlyStopping:\n",
    "    def __init__(self, patience=3, delta=0):\n",
    "        self.patience = patience\n",
    "        self.delta = delta\n",
    "        self.best_score = None\n",
    "        self.early_stop = False\n",
    "        self.counter = 0\n",
    "        self.best_loss = float('inf')\n",
    "\n",
    "    def __call__(self, val_loss):\n",
    "        score = -val_loss\n",
    "        if self.best_score is None:\n",
    "            self.best_score = score\n",
    "            self.best_loss = val_loss\n",
    "        elif score < self.best_score + self.delta:\n",
    "            self.counter += 1\n",
    "            if self.counter >= self.patience:\n",
    "                self.early_stop = True\n",
    "        else:\n",
    "            self.best_score = score\n",
    "            self.best_loss = val_loss\n",
    "            self.counter = 0\n",
    "\n",
    "# 訓練主流程\n",
    "EPOCHS = 20\n",
    "train_losses = []\n",
    "val_losses = []\n",
    "val_accuracies = []\n",
    "early_stopping = EarlyStopping(patience=3)\n",
    "\n",
    "for epoch in range(EPOCHS):\n",
    "    print(f\"\\n==== 第{epoch+1}輪訓練 ====\")\n",
    "    train_loss = train_epoch(model, train_loader, criterion, optimizer, device)\n",
    "    val_loss, val_acc = eval_epoch(model, test_loader, criterion, device)\n",
    "    train_losses.append(train_loss)\n",
    "    val_losses.append(val_loss)\n",
    "    val_accuracies.append(val_acc)\n",
    "    print(f\"訓練損失={train_loss:.4f}，驗證損失={val_loss:.4f}，驗證準確率={val_acc:.4f}\")\n",
    "    \n",
    "    scheduler.step(val_loss)\n",
    "    early_stopping(val_loss)\n",
    "    if early_stopping.early_stop:\n",
    "        print(f\"早停觸發，停止於第{epoch+1}輪\")\n",
    "        break"
   ]
  },
  {
   "cell_type": "markdown",
   "metadata": {},
   "source": [
    "## 步驟七：視覺化訓練結果"
   ]
  },
  {
   "cell_type": "code",
   "execution_count": 22,
   "metadata": {},
   "outputs": [
    {
     "data": {
      "image/png": "[encoded data removed]",
      "text/plain": [
       "<Figure size 1200x500 with 2 Axes>"
      ]
     },
     "metadata": {},
     "output_type": "display_data"
    },
    {
     "name": "stdout",
     "output_type": "stream",
     "text": [
      "最終模型已儲存至 final_lstm_model.pth\n"
     ]
    }
   ],
   "source": [
    "# 視覺化訓練過程\n",
    "plt.figure(figsize=(12,5))\n",
    "# 繪製損失曲線\n",
    "plt.subplot(1,2,1)\n",
    "plt.plot(range(1, len(train_losses)+1), train_losses, label='Training Loss')\n",
    "plt.plot(range(1, len(val_losses)+1), val_losses, label='Validation Loss')\n",
    "plt.xlabel('Epoch')\n",
    "plt.ylabel('Loss')\n",
    "plt.title('Training/ Validation Loss Curve')\n",
    "plt.legend()\n",
    "# 繪製準確率曲線\n",
    "plt.subplot(1,2,2)\n",
    "plt.plot(range(1, len(val_accuracies)+1), val_accuracies, label='Validation Accuracy', color='green')\n",
    "plt.xlabel('Epoch')\n",
    "plt.ylabel('Accuracy')\n",
    "plt.title('Validation Accuracy Curve')\n",
    "plt.legend()\n",
    "plt.tight_layout()\n",
    "plt.savefig('training_curves.png')  # 儲存圖表\n",
    "plt.show()\n",
    "\n",
    "# 儲存最終模型\n",
    "torch.save(model.state_dict(), \"final_lstm_model.pth\")\n",
    "print(\"最終模型已儲存至 final_lstm_model.pth\")"
   ]
  }
 ],
 "metadata": {
  "kernelspec": {
   "display_name": "AI",
   "language": "python",
   "name": "python3"
  },
  "language_info": {
   "codemirror_mode": {
    "name": "ipython",
    "version": 3
   },
   "file_extension": ".py",
   "mimetype": "text/x-python",
   "name": "python",
   "nbconvert_exporter": "python",
   "pygments_lexer": "ipython3",
   "version": "3.10.13"
  }
 },
 "nbformat": 4,
 "nbformat_minor": 2
}

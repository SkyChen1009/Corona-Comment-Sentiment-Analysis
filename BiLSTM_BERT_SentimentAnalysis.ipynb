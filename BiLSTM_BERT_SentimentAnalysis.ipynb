{
 "cells": [
  {
   "cell_type": "markdown",
   "id": "c0cf3427",
   "metadata": {},
   "source": [
    "# Using BERT + BiLSTM as Sentiment Analyzer\n",
    "## Unified preprocessed:\n",
    "1. 字母小寫\n",
    "2. 刪除網址\n",
    "3. 移除標點符號（所有標點符號都要刪除）\n",
    "4. 移除非英文字母\n",
    "5. 計算類別權重（class_weight）\n",
    "6. 移除停用詞（stop_words）\n",
    "7. 不替換用戶名（replace_username：False）\n",
    "8. 不替換 COVID 相關詞彙（replace_covid：False）\n",
    "\n",
    "### 2025/05/27 1:49 by sky"
   ]
  },
  {
   "cell_type": "markdown",
   "id": "6ae9737e",
   "metadata": {},
   "source": [
    "## 步驟1：載入套件"
   ]
  },
  {
   "cell_type": "code",
   "execution_count": 18,
   "id": "10f4f3c0",
   "metadata": {},
   "outputs": [
    {
     "name": "stdout",
     "output_type": "stream",
     "text": [
      "Requirement already satisfied: nlpaug in c:\\users\\skych\\anaconda3\\envs\\dl\\lib\\site-packages (1.1.11)\n",
      "Requirement already satisfied: numpy>=1.16.2 in c:\\users\\skych\\anaconda3\\envs\\dl\\lib\\site-packages (from nlpaug) (1.26.4)\n",
      "Requirement already satisfied: pandas>=1.2.0 in c:\\users\\skych\\anaconda3\\envs\\dl\\lib\\site-packages (from nlpaug) (2.2.3)\n",
      "Requirement already satisfied: requests>=2.22.0 in c:\\users\\skych\\anaconda3\\envs\\dl\\lib\\site-packages (from nlpaug) (2.32.3)\n",
      "Requirement already satisfied: gdown>=4.0.0 in c:\\users\\skych\\anaconda3\\envs\\dl\\lib\\site-packages (from nlpaug) (5.2.0)\n",
      "Requirement already satisfied: beautifulsoup4 in c:\\users\\skych\\anaconda3\\envs\\dl\\lib\\site-packages (from gdown>=4.0.0->nlpaug) (4.12.3)\n",
      "Requirement already satisfied: filelock in c:\\users\\skych\\anaconda3\\envs\\dl\\lib\\site-packages (from gdown>=4.0.0->nlpaug) (3.13.1)\n",
      "Requirement already satisfied: tqdm in c:\\users\\skych\\anaconda3\\envs\\dl\\lib\\site-packages (from gdown>=4.0.0->nlpaug) (4.67.1)\n",
      "Requirement already satisfied: python-dateutil>=2.8.2 in c:\\users\\skych\\anaconda3\\envs\\dl\\lib\\site-packages (from pandas>=1.2.0->nlpaug) (2.9.0.post0)\n",
      "Requirement already satisfied: pytz>=2020.1 in c:\\users\\skych\\anaconda3\\envs\\dl\\lib\\site-packages (from pandas>=1.2.0->nlpaug) (2024.1)\n",
      "Requirement already satisfied: tzdata>=2022.7 in c:\\users\\skych\\anaconda3\\envs\\dl\\lib\\site-packages (from pandas>=1.2.0->nlpaug) (2025.2)\n",
      "Requirement already satisfied: six>=1.5 in c:\\users\\skych\\anaconda3\\envs\\dl\\lib\\site-packages (from python-dateutil>=2.8.2->pandas>=1.2.0->nlpaug) (1.17.0)\n",
      "Requirement already satisfied: charset-normalizer<4,>=2 in c:\\users\\skych\\anaconda3\\envs\\dl\\lib\\site-packages (from requests>=2.22.0->nlpaug) (3.3.2)\n",
      "Requirement already satisfied: idna<4,>=2.5 in c:\\users\\skych\\anaconda3\\envs\\dl\\lib\\site-packages (from requests>=2.22.0->nlpaug) (3.7)\n",
      "Requirement already satisfied: urllib3<3,>=1.21.1 in c:\\users\\skych\\anaconda3\\envs\\dl\\lib\\site-packages (from requests>=2.22.0->nlpaug) (2.3.0)\n",
      "Requirement already satisfied: certifi>=2017.4.17 in c:\\users\\skych\\anaconda3\\envs\\dl\\lib\\site-packages (from requests>=2.22.0->nlpaug) (2025.4.26)\n",
      "Requirement already satisfied: soupsieve>1.2 in c:\\users\\skych\\anaconda3\\envs\\dl\\lib\\site-packages (from beautifulsoup4->gdown>=4.0.0->nlpaug) (2.5)\n",
      "Requirement already satisfied: PySocks!=1.5.7,>=1.5.6 in c:\\users\\skych\\anaconda3\\envs\\dl\\lib\\site-packages (from requests[socks]->gdown>=4.0.0->nlpaug) (1.7.1)\n",
      "Requirement already satisfied: colorama in c:\\users\\skych\\anaconda3\\envs\\dl\\lib\\site-packages (from tqdm->gdown>=4.0.0->nlpaug) (0.4.6)\n",
      "Note: you may need to restart the kernel to use updated packages.\n"
     ]
    }
   ],
   "source": [
    "pip install nlpaug"
   ]
  },
  {
   "cell_type": "code",
   "execution_count": 19,
   "id": "8a89157e",
   "metadata": {},
   "outputs": [
    {
     "name": "stderr",
     "output_type": "stream",
     "text": [
      "[nltk_data] Downloading package stopwords to\n",
      "[nltk_data]     C:\\Users\\skych\\AppData\\Roaming\\nltk_data...\n",
      "[nltk_data]   Package stopwords is already up-to-date!\n"
     ]
    },
    {
     "data": {
      "text/plain": [
       "True"
      ]
     },
     "execution_count": 19,
     "metadata": {},
     "output_type": "execute_result"
    }
   ],
   "source": [
    "import pandas as pd  # 用於資料讀取與處理\n",
    "import numpy as np  # 用於數值運算\n",
    "import torch  # PyTorch主套件\n",
    "import torch.nn as nn  # PyTorch神經網路模組\n",
    "import torch.optim as optim  # PyTorch優化器\n",
    "from torch.utils.data import Dataset, DataLoader  # PyTorch資料集與資料加載器\n",
    "from transformers import BertTokenizer, BertModel  # BERT 分詞與模型\n",
    "import re  # 正則表達式，用於去除URL\n",
    "import string  # 處理標點符號\n",
    "from sklearn.utils.class_weight import compute_class_weight  # 計算類別權重\n",
    "import matplotlib.pyplot as plt  # 用於視覺化\n",
    "from tqdm import tqdm  # 進度條\n",
    "from torch.optim.lr_scheduler import ReduceLROnPlateau  # 學習率調度器\n",
    "from torch.optim.lr_scheduler import CosineAnnealingLR  # 學習率調度\n",
    "import nltk  # 用於停用詞清理\n",
    "from nltk.corpus import stopwords  # 停用詞列表\n",
    "import matplotlib.font_manager as fm  # 用於字型設置\n",
    "import nlpaug.augmenter.word as naw  # 數據增強\n",
    "import logging  # 錯誤日誌\n",
    "from sklearn.metrics import f1_score, roc_auc_score\n",
    "\n",
    "# 下載停用詞列表\n",
    "nltk.download('stopwords')"
   ]
  },
  {
   "cell_type": "code",
   "execution_count": 20,
   "id": "6a5c6174",
   "metadata": {},
   "outputs": [],
   "source": [
    "# 設置日誌\n",
    "logging.basicConfig(level=logging.INFO, format='%(asctime)s - %(levelname)s - %(message)s')\n",
    "\n",
    "# 設置中文字型以解決 Glyph missing 問題\n",
    "plt.rcParams['font.sans-serif'] = ['Microsoft JhengHei']  # 使用微軟正黑體\n",
    "plt.rcParams['axes.unicode_minus'] = False  # 解決負號顯示問題"
   ]
  },
  {
   "cell_type": "markdown",
   "id": "6c48c1ed",
   "metadata": {},
   "source": [
    "# 步驟2：設置參數"
   ]
  },
  {
   "cell_type": "code",
   "execution_count": 21,
   "id": "c4fe834d",
   "metadata": {},
   "outputs": [],
   "source": [
    "OUTPUT_DIM = 5  # 五種情感類別\n",
    "HIDDEN_DIM = 128  # LSTM 隱藏層維度\n",
    "NUM_LAYERS = 2  # LSTM 層數\n",
    "DROPOUT = 0.4  # Dropout 比例（增強正則化）\n",
    "BATCH_SIZE = 64  # 批次大小\n",
    "EPOCHS = 15  # 訓練輪數\n",
    "MAX_LEN = 60  # 最大序列長度（調整以減少 padding）\n",
    "PATIENCE = 5  # 早停耐心值\n",
    "CLIP_GRAD_NORM = 1.0  # 梯度裁剪範圍"
   ]
  },
  {
   "cell_type": "code",
   "execution_count": 22,
   "id": "056921e1",
   "metadata": {},
   "outputs": [],
   "source": [
    "# 檢查是否有GPU可用\n",
    "device = torch.device('cuda' if torch.cuda.is_available() else 'cpu')"
   ]
  },
  {
   "cell_type": "markdown",
   "id": "edd78d70",
   "metadata": {},
   "source": [
    "## 步驟3：資料清理函數"
   ]
  },
  {
   "cell_type": "code",
   "execution_count": 23,
   "id": "f5cfc3b6",
   "metadata": {},
   "outputs": [],
   "source": [
    "def clean_text(text):\n",
    "    # 轉換為小寫\n",
    "    text = text.lower()\n",
    "    # 移除網址\n",
    "    text = re.sub(r'http\\S+|www\\S+|https\\S+', '', text, flags=re.MULTILINE)\n",
    "    # 移除標點符號\n",
    "    text = text.translate(str.maketrans('', '', string.punctuation))\n",
    "    # 移除非英文字母\n",
    "    text = re.sub(r'[^a-z\\s]', '', text)\n",
    "    # 自定義停用詞（保留情感相關詞彙）\n",
    "    custom_stop_words = set(stopwords.words('english')) - {'not', 'very', 'really'}\n",
    "    text = ' '.join(word for word in text.split() if word not in custom_stop_words)\n",
    "    # 移除多餘空格\n",
    "    text = ' '.join(text.split())\n",
    "    return text"
   ]
  },
  {
   "cell_type": "markdown",
   "id": "424aa051",
   "metadata": {},
   "source": [
    "## 步驟4：讀取資料"
   ]
  },
  {
   "cell_type": "code",
   "execution_count": 24,
   "id": "3a103c62",
   "metadata": {},
   "outputs": [
    {
     "name": "stdout",
     "output_type": "stream",
     "text": [
      "平均長度: 18.14, 最大長度: 40\n",
      "清理後的訓練資料前5筆：\n",
      "                                       OriginalTweet  \\\n",
      "0  @MeNyrbie @Phil_Gahan @Chrisitv https://t.co/i...   \n",
      "1  advice Talk to your neighbours family to excha...   \n",
      "2  Coronavirus Australia: Woolworths to give elde...   \n",
      "3  My food stock is not the only one which is emp...   \n",
      "4  Me, ready to go at supermarket during the #COV...   \n",
      "\n",
      "                                          clean_text  \n",
      "0                        menyrbie philgahan chrisitv  \n",
      "1  advice talk neighbours family exchange phone n...  \n",
      "2  coronavirus australia woolworths give elderly ...  \n",
      "3  food stock not one empty please dont panic eno...  \n",
      "4  ready go supermarket covid outbreak not im par...  \n",
      "\n",
      "清理後的測試資料前5筆：\n",
      "                                       OriginalTweet  \\\n",
      "0  TRENDING: New Yorkers encounter empty supermar...   \n",
      "1  When I couldn't find hand sanitizer at Fred Me...   \n",
      "2  Find out how you can protect yourself and love...   \n",
      "3  #Panic buying hits #NewYork City as anxious sh...   \n",
      "4  #toiletpaper #dunnypaper #coronavirus #coronav...   \n",
      "\n",
      "                                          clean_text  \n",
      "0  trending new yorkers encounter empty supermark...  \n",
      "1  couldnt find hand sanitizer fred meyer turned ...  \n",
      "2                find protect loved ones coronavirus  \n",
      "3  panic buying hits newyork city anxious shopper...  \n",
      "4  toiletpaper dunnypaper coronavirus coronavirus...  \n"
     ]
    }
   ],
   "source": [
    "train_df = pd.read_csv('Corona_NLP_train.csv', encoding='latin1')\n",
    "test_df = pd.read_csv('Corona_NLP_test.csv', encoding='latin1')\n",
    "\n",
    "# 清理資料\n",
    "train_df['clean_text'] = train_df['OriginalTweet'].apply(clean_text)\n",
    "test_df['clean_text'] = test_df['OriginalTweet'].apply(clean_text)\n",
    "\n",
    "# 檢查清理後文本長度\n",
    "text_lengths = train_df['clean_text'].apply(lambda x: len(x.split()))\n",
    "print(f\"平均長度: {text_lengths.mean():.2f}, 最大長度: {text_lengths.max()}\")\n",
    "\n",
    "print(\"清理後的訓練資料前5筆：\")\n",
    "print(train_df[['OriginalTweet', 'clean_text']].head())\n",
    "print(\"\\n清理後的測試資料前5筆：\")\n",
    "print(test_df[['OriginalTweet', 'clean_text']].head())"
   ]
  },
  {
   "cell_type": "markdown",
   "id": "7a06ff29",
   "metadata": {},
   "source": [
    "## 步驟5：標籤編碼 & class weight"
   ]
  },
  {
   "cell_type": "code",
   "execution_count": 25,
   "id": "84056b0b",
   "metadata": {},
   "outputs": [
    {
     "name": "stdout",
     "output_type": "stream",
     "text": [
      "\n",
      "訓練資料類別分佈：\n",
      "label\n",
      "3    11422\n",
      "1     9917\n",
      "2     7713\n",
      "4     6624\n",
      "0     5481\n",
      "Name: count, dtype: int64\n",
      "\n",
      "測試資料類別分佈：\n",
      "label\n",
      "1    1041\n",
      "3     947\n",
      "2     619\n",
      "4     599\n",
      "0     592\n",
      "Name: count, dtype: int64\n"
     ]
    }
   ],
   "source": [
    "sentiment_mapping = {\n",
    "    'Extremely Negative': 0,\n",
    "    'Negative': 1,\n",
    "    'Neutral': 2,\n",
    "    'Positive': 3,\n",
    "    'Extremely Positive': 4\n",
    "}\n",
    "train_df['label'] = train_df['Sentiment'].map(sentiment_mapping)\n",
    "test_df['label'] = test_df['Sentiment'].map(sentiment_mapping)\n",
    "\n",
    "print(\"\\n訓練資料類別分佈：\")\n",
    "print(train_df['label'].value_counts())\n",
    "print(\"\\n測試資料類別分佈：\")\n",
    "print(test_df['label'].value_counts())\n",
    "\n",
    "# 計算類別權重\n",
    "class_weights = compute_class_weight('balanced', classes=np.unique(train_df['label']), y=train_df['label'])\n",
    "class_weights = torch.tensor(class_weights, dtype=torch.float).to(device)"
   ]
  },
  {
   "cell_type": "markdown",
   "id": "47f1f1de",
   "metadata": {},
   "source": [
    "## 步驟 6：創建自定義資料集"
   ]
  },
  {
   "cell_type": "code",
   "execution_count": 26,
   "id": "a365d530",
   "metadata": {},
   "outputs": [],
   "source": [
    "class TweetDataset(Dataset):\n",
    "    def __init__(self, texts, labels, tokenizer, max_len):\n",
    "        self.texts = texts\n",
    "        self.labels = labels\n",
    "        self.tokenizer = tokenizer\n",
    "        self.max_len = max_len\n",
    "    \n",
    "    def __len__(self):\n",
    "        return len(self.texts)\n",
    "    \n",
    "    def __getitem__(self, idx):\n",
    "        text = str(self.texts[idx])\n",
    "        label = self.labels[idx]\n",
    "        \n",
    "        encoding = self.tokenizer.encode_plus(\n",
    "            text,\n",
    "            add_special_tokens=True,\n",
    "            max_length=self.max_len,\n",
    "            return_token_type_ids=False,\n",
    "            padding='max_length',\n",
    "            truncation=True,\n",
    "            return_attention_mask=True,\n",
    "            return_tensors='pt'\n",
    "        )\n",
    "        \n",
    "        return {\n",
    "            'input_ids': encoding['input_ids'].flatten(),\n",
    "            'attention_mask': encoding['attention_mask'].flatten(),\n",
    "            'labels': torch.tensor(label, dtype=torch.long)\n",
    "        }"
   ]
  },
  {
   "cell_type": "code",
   "execution_count": 27,
   "id": "e7c2823f",
   "metadata": {},
   "outputs": [],
   "source": [
    "# 初始化 BERT 分詞器\n",
    "tokenizer = BertTokenizer.from_pretrained('bert-base-uncased')\n",
    "\n",
    "# 創建資料集\n",
    "train_dataset = TweetDataset(\n",
    "    texts=train_df['clean_text'].to_numpy(),\n",
    "    labels=train_df['label'].to_numpy(),\n",
    "    tokenizer=tokenizer,\n",
    "    max_len=MAX_LEN\n",
    ")\n",
    "test_dataset = TweetDataset(\n",
    "    texts=test_df['clean_text'].to_numpy(),\n",
    "    labels=test_df['label'].to_numpy(),\n",
    "    tokenizer=tokenizer,\n",
    "    max_len=MAX_LEN\n",
    ")\n",
    "\n",
    "# 創建資料加載器\n",
    "train_loader = DataLoader(train_dataset, batch_size=BATCH_SIZE, shuffle=True)\n",
    "test_loader = DataLoader(test_dataset, batch_size=BATCH_SIZE)"
   ]
  },
  {
   "cell_type": "markdown",
   "id": "70110f14",
   "metadata": {},
   "source": [
    "## 步驟7：定義 BERT-BiLSTM 模型"
   ]
  },
  {
   "cell_type": "code",
   "execution_count": 28,
   "id": "107ce86b",
   "metadata": {},
   "outputs": [],
   "source": [
    "class BertBiLSTM(nn.Module):\n",
    "    def __init__(self, hidden_dim, output_dim, num_layers, dropout):\n",
    "        super(BertBiLSTM, self).__init__()\n",
    "        self.bert = BertModel.from_pretrained('bert-base-uncased')\n",
    "        for param in self.bert.encoder.layer[:8].parameters():\n",
    "            param.requires_grad = False\n",
    "        self.lstm = nn.LSTM(\n",
    "            input_size=768,\n",
    "            hidden_size=hidden_dim,\n",
    "            num_layers=num_layers,\n",
    "            batch_first=True,\n",
    "            bidirectional=True\n",
    "        )\n",
    "        self.dropout = nn.Dropout(dropout)\n",
    "        self.ln = nn.LayerNorm(hidden_dim * 4)  # 添加 Layer Normalization\n",
    "        self.fc = nn.Linear(hidden_dim * 4, output_dim)\n",
    "    \n",
    "    def forward(self, input_ids, attention_mask):\n",
    "        bert_outputs = self.bert(input_ids=input_ids, attention_mask=attention_mask)\n",
    "        embedded = bert_outputs[0]\n",
    "        lstm_out, _ = self.lstm(embedded)\n",
    "        max_pool, _ = torch.max(lstm_out, dim=1)\n",
    "        avg_pool = torch.mean(lstm_out, dim=1)\n",
    "        pooled = torch.cat((max_pool, avg_pool), dim=1)\n",
    "        pooled = self.ln(pooled)  # 應用 Layer Normalization\n",
    "        pooled = self.dropout(pooled)\n",
    "        output = self.fc(pooled)\n",
    "        return output"
   ]
  },
  {
   "cell_type": "markdown",
   "id": "b8853570",
   "metadata": {},
   "source": [
    "## 步驟9：初始化模型、損失函數與優化器"
   ]
  },
  {
   "cell_type": "code",
   "execution_count": 29,
   "id": "9b6b107a",
   "metadata": {},
   "outputs": [
    {
     "name": "stdout",
     "output_type": "stream",
     "text": [
      "Requirement already satisfied: torchinfo in c:\\users\\skych\\anaconda3\\envs\\dl\\lib\\site-packages (1.8.0)\n",
      "Note: you may need to restart the kernel to use updated packages.\n"
     ]
    }
   ],
   "source": [
    "pip install torchinfo"
   ]
  },
  {
   "cell_type": "code",
   "execution_count": 37,
   "id": "924b617b",
   "metadata": {},
   "outputs": [
    {
     "name": "stdout",
     "output_type": "stream",
     "text": [
      "\n",
      "🎯 BiLSTM 模型結構：\n"
     ]
    },
    {
     "data": {
      "text/plain": [
       "==============================================================================================================\n",
       "Layer (type:depth-idx)                                       Output Shape              Param #\n",
       "==============================================================================================================\n",
       "BertBiLSTM                                                   [64, 5]                   --\n",
       "├─BertModel: 1-1                                             [64, 768]                 --\n",
       "│    └─BertEmbeddings: 2-1                                   [64, 60, 768]             --\n",
       "│    │    └─Embedding: 3-1                                   [64, 60, 768]             23,440,896\n",
       "│    │    └─Embedding: 3-2                                   [64, 60, 768]             1,536\n",
       "│    │    └─Embedding: 3-3                                   [1, 60, 768]              393,216\n",
       "│    │    └─LayerNorm: 3-4                                   [64, 60, 768]             1,536\n",
       "│    │    └─Dropout: 3-5                                     [64, 60, 768]             --\n",
       "│    └─BertEncoder: 2-2                                      [64, 60, 768]             --\n",
       "│    │    └─ModuleList: 3-6                                  --                        85,054,464\n",
       "│    └─BertPooler: 2-3                                       [64, 768]                 --\n",
       "│    │    └─Linear: 3-7                                      [64, 768]                 590,592\n",
       "│    │    └─Tanh: 3-8                                        [64, 768]                 --\n",
       "├─LSTM: 1-2                                                  [64, 60, 256]             1,314,816\n",
       "├─LayerNorm: 1-3                                             [64, 512]                 1,024\n",
       "├─Dropout: 1-4                                               [64, 512]                 --\n",
       "├─Linear: 1-5                                                [64, 5]                   2,565\n",
       "==============================================================================================================\n",
       "Total params: 110,800,645\n",
       "Trainable params: 54,097,669\n",
       "Non-trainable params: 56,702,976\n",
       "Total mult-adds (G): 12.03\n",
       "==============================================================================================================\n",
       "Input size (MB): 0.06\n",
       "Forward/backward pass size (MB): 3193.94\n",
       "Params size (MB): 443.20\n",
       "Estimated Total Size (MB): 3637.20\n",
       "=============================================================================================================="
      ]
     },
     "execution_count": 37,
     "metadata": {},
     "output_type": "execute_result"
    }
   ],
   "source": [
    "# 原有程式碼\n",
    "model = BertBiLSTM(\n",
    "    hidden_dim=HIDDEN_DIM,\n",
    "    output_dim=OUTPUT_DIM,\n",
    "    num_layers=NUM_LAYERS,\n",
    "    dropout=DROPOUT\n",
    ").to(device)\n",
    "\n",
    "criterion = nn.CrossEntropyLoss(weight=class_weights)\n",
    "optimizer_bert = optim.AdamW(model.bert.parameters(), lr=2e-5)\n",
    "optimizer_rest = optim.AdamW([param for name, param in model.named_parameters() if 'bert' not in name], lr=5e-5)\n",
    "scheduler_bert = ReduceLROnPlateau(optimizer_bert, mode='max', factor=0.5, patience=1)\n",
    "scheduler_rest = CosineAnnealingLR(optimizer_rest, T_max=5)\n",
    "\n",
    "# 插入修正後的 summary 程式碼\n",
    "from torchinfo import summary\n",
    "print(\"\\n🎯 BiLSTM 模型結構：\")\n",
    "summary(model, \n",
    "        input_data={\n",
    "            'input_ids': torch.zeros((BATCH_SIZE, MAX_LEN), dtype=torch.long).to(device),\n",
    "            'attention_mask': torch.ones((BATCH_SIZE, MAX_LEN), dtype=torch.long).to(device)\n",
    "        },\n",
    "        device=device.type)"
   ]
  },
  {
   "cell_type": "markdown",
   "id": "6145d910",
   "metadata": {},
   "source": [
    "## 步驟9：訓練與驗證函數"
   ]
  },
  {
   "cell_type": "code",
   "execution_count": 13,
   "id": "934829bd",
   "metadata": {},
   "outputs": [],
   "source": [
    "def train_epoch(model, data_loader, criterion, optimizer, device):\n",
    "    model.train()\n",
    "    total_loss = 0\n",
    "    correct = 0\n",
    "    total = 0\n",
    "    \n",
    "    for batch in tqdm(data_loader, desc=\"訓練\"):\n",
    "        input_ids = batch['input_ids'].to(device)\n",
    "        attention_mask = batch['attention_mask'].to(device)\n",
    "        labels = batch['labels'].to(device)\n",
    "        \n",
    "        optimizer.zero_grad()\n",
    "        outputs = model(input_ids, attention_mask)\n",
    "        loss = criterion(outputs, labels)\n",
    "        loss.backward()\n",
    "        torch.nn.utils.clip_grad_norm_(model.parameters(), CLIP_GRAD_NORM)\n",
    "        optimizer.step()\n",
    "        \n",
    "        total_loss += loss.item()\n",
    "        _, preds = torch.max(outputs, dim=1)\n",
    "        correct += (preds == labels).sum().item()\n",
    "        total += labels.size(0)\n",
    "    \n",
    "    return total_loss / len(data_loader), correct / total\n",
    "\n",
    "def evaluate(model, data_loader, criterion, device):\n",
    "    model.eval()\n",
    "    total_loss = 0\n",
    "    correct = 0\n",
    "    total = 0\n",
    "    all_preds = []\n",
    "    all_labels = []\n",
    "    all_probs = []\n",
    "    with torch.no_grad():\n",
    "        for batch in tqdm(data_loader, desc=\"驗證\"):\n",
    "            input_ids = batch['input_ids'].to(device)\n",
    "            attention_mask = batch['attention_mask'].to(device)\n",
    "            labels = batch['labels'].to(device)\n",
    "            outputs = model(input_ids, attention_mask)\n",
    "            loss = criterion(outputs, labels)\n",
    "            total_loss += loss.item()\n",
    "            _, preds = torch.max(outputs, dim=1)\n",
    "            correct += (preds == labels).sum().item()\n",
    "            total += labels.size(0)\n",
    "            all_preds.extend(preds.cpu().numpy())\n",
    "            all_labels.extend(labels.cpu().numpy())\n",
    "            all_probs.extend(torch.softmax(outputs, dim=1).cpu().numpy())\n",
    "    f1 = f1_score(all_labels, all_preds, average='weighted')\n",
    "    auc = roc_auc_score(all_labels, all_probs, multi_class='ovr')\n",
    "    return total_loss / len(data_loader), correct / total, f1, auc"
   ]
  },
  {
   "cell_type": "markdown",
   "id": "d44b668e",
   "metadata": {},
   "source": [
    "## 步驟 10：訓練模型與 confusion matrix"
   ]
  },
  {
   "cell_type": "code",
   "execution_count": 14,
   "id": "f8f7130f",
   "metadata": {},
   "outputs": [
    {
     "name": "stdout",
     "output_type": "stream",
     "text": [
      "輪次 1/15\n"
     ]
    },
    {
     "name": "stderr",
     "output_type": "stream",
     "text": [
      "訓練: 100%|██████████| 644/644 [03:41<00:00,  2.90it/s]\n",
      "驗證: 100%|██████████| 60/60 [00:09<00:00,  6.14it/s]\n"
     ]
    },
    {
     "name": "stdout",
     "output_type": "stream",
     "text": [
      "訓練損失: 1.1772, 訓練準確率: 0.4614\n",
      "驗證損失: 1.0219, 驗證準確率: 0.5377, F1: 0.5221, AUC: 0.8522\n",
      "輪次 2/15\n"
     ]
    },
    {
     "name": "stderr",
     "output_type": "stream",
     "text": [
      "訓練: 100%|██████████| 644/644 [03:45<00:00,  2.85it/s]\n",
      "驗證: 100%|██████████| 60/60 [00:10<00:00,  5.68it/s]\n"
     ]
    },
    {
     "name": "stdout",
     "output_type": "stream",
     "text": [
      "訓練損失: 0.8627, 訓練準確率: 0.6238\n",
      "驗證損失: 0.8609, 驗證準確率: 0.6190, F1: 0.6083, AUC: 0.8949\n",
      "輪次 3/15\n"
     ]
    },
    {
     "name": "stderr",
     "output_type": "stream",
     "text": [
      "訓練: 100%|██████████| 644/644 [03:49<00:00,  2.80it/s]\n",
      "驗證: 100%|██████████| 60/60 [00:09<00:00,  6.13it/s]\n"
     ]
    },
    {
     "name": "stdout",
     "output_type": "stream",
     "text": [
      "訓練損失: 0.7159, 訓練準確率: 0.7013\n",
      "驗證損失: 0.8128, 驗證準確率: 0.6569, F1: 0.6512, AUC: 0.9112\n",
      "輪次 4/15\n"
     ]
    },
    {
     "name": "stderr",
     "output_type": "stream",
     "text": [
      "訓練: 100%|██████████| 644/644 [03:51<00:00,  2.79it/s]\n",
      "驗證: 100%|██████████| 60/60 [00:09<00:00,  6.14it/s]\n"
     ]
    },
    {
     "name": "stdout",
     "output_type": "stream",
     "text": [
      "訓練損失: 0.6166, 訓練準確率: 0.7494\n",
      "驗證損失: 0.7142, 驗證準確率: 0.7085, F1: 0.7064, AUC: 0.9246\n",
      "輪次 5/15\n"
     ]
    },
    {
     "name": "stderr",
     "output_type": "stream",
     "text": [
      "訓練: 100%|██████████| 644/644 [03:50<00:00,  2.80it/s]\n",
      "驗證: 100%|██████████| 60/60 [00:09<00:00,  6.12it/s]\n"
     ]
    },
    {
     "name": "stdout",
     "output_type": "stream",
     "text": [
      "訓練損失: 0.5464, 訓練準確率: 0.7825\n",
      "驗證損失: 0.7369, 驗證準確率: 0.6914, F1: 0.6895, AUC: 0.9227\n",
      "輪次 6/15\n"
     ]
    },
    {
     "name": "stderr",
     "output_type": "stream",
     "text": [
      "訓練: 100%|██████████| 644/644 [03:50<00:00,  2.79it/s]\n",
      "驗證: 100%|██████████| 60/60 [00:10<00:00,  5.81it/s]\n"
     ]
    },
    {
     "name": "stdout",
     "output_type": "stream",
     "text": [
      "訓練損失: 0.4949, 訓練準確率: 0.8044\n",
      "驗證損失: 0.6952, 驗證準確率: 0.7241, F1: 0.7219, AUC: 0.9321\n",
      "輪次 7/15\n"
     ]
    },
    {
     "name": "stderr",
     "output_type": "stream",
     "text": [
      "訓練: 100%|██████████| 644/644 [03:46<00:00,  2.84it/s]\n",
      "驗證: 100%|██████████| 60/60 [00:09<00:00,  6.02it/s]\n"
     ]
    },
    {
     "name": "stdout",
     "output_type": "stream",
     "text": [
      "訓練損失: 0.4500, 訓練準確率: 0.8272\n",
      "驗證損失: 0.7248, 驗證準確率: 0.7262, F1: 0.7246, AUC: 0.9301\n",
      "輪次 8/15\n"
     ]
    },
    {
     "name": "stderr",
     "output_type": "stream",
     "text": [
      "訓練: 100%|██████████| 644/644 [03:47<00:00,  2.83it/s]\n",
      "驗證: 100%|██████████| 60/60 [00:09<00:00,  6.02it/s]\n"
     ]
    },
    {
     "name": "stdout",
     "output_type": "stream",
     "text": [
      "訓練損失: 0.4234, 訓練準確率: 0.8340\n",
      "驗證損失: 0.7178, 驗證準確率: 0.7299, F1: 0.7288, AUC: 0.9332\n",
      "輪次 9/15\n"
     ]
    },
    {
     "name": "stderr",
     "output_type": "stream",
     "text": [
      "訓練: 100%|██████████| 644/644 [03:46<00:00,  2.85it/s]\n",
      "驗證: 100%|██████████| 60/60 [00:09<00:00,  6.13it/s]\n"
     ]
    },
    {
     "name": "stdout",
     "output_type": "stream",
     "text": [
      "訓練損失: 0.4008, 訓練準確率: 0.8468\n",
      "驗證損失: 0.7254, 驗證準確率: 0.7285, F1: 0.7278, AUC: 0.9321\n",
      "輪次 10/15\n"
     ]
    },
    {
     "name": "stderr",
     "output_type": "stream",
     "text": [
      "訓練: 100%|██████████| 644/644 [03:49<00:00,  2.81it/s]\n",
      "驗證: 100%|██████████| 60/60 [00:09<00:00,  6.09it/s]\n"
     ]
    },
    {
     "name": "stdout",
     "output_type": "stream",
     "text": [
      "訓練損失: 0.3894, 訓練準確率: 0.8510\n",
      "驗證損失: 0.7246, 驗證準確率: 0.7285, F1: 0.7269, AUC: 0.9324\n",
      "輪次 11/15\n"
     ]
    },
    {
     "name": "stderr",
     "output_type": "stream",
     "text": [
      "訓練: 100%|██████████| 644/644 [03:46<00:00,  2.84it/s]\n",
      "驗證: 100%|██████████| 60/60 [00:09<00:00,  6.21it/s]\n"
     ]
    },
    {
     "name": "stdout",
     "output_type": "stream",
     "text": [
      "訓練損失: 0.3860, 訓練準確率: 0.8506\n",
      "驗證損失: 0.7246, 驗證準確率: 0.7285, F1: 0.7269, AUC: 0.9324\n",
      "輪次 12/15\n"
     ]
    },
    {
     "name": "stderr",
     "output_type": "stream",
     "text": [
      "訓練: 100%|██████████| 644/644 [03:48<00:00,  2.82it/s]\n",
      "驗證: 100%|██████████| 60/60 [00:10<00:00,  5.90it/s]\n"
     ]
    },
    {
     "name": "stdout",
     "output_type": "stream",
     "text": [
      "訓練損失: 0.3877, 訓練準確率: 0.8522\n",
      "驗證損失: 0.7240, 驗證準確率: 0.7296, F1: 0.7283, AUC: 0.9322\n",
      "輪次 13/15\n"
     ]
    },
    {
     "name": "stderr",
     "output_type": "stream",
     "text": [
      "訓練: 100%|██████████| 644/644 [03:55<00:00,  2.73it/s]\n",
      "驗證: 100%|██████████| 60/60 [00:10<00:00,  5.66it/s]\n"
     ]
    },
    {
     "name": "stdout",
     "output_type": "stream",
     "text": [
      "訓練損失: 0.3914, 訓練準確率: 0.8493\n",
      "驗證損失: 0.7190, 驗證準確率: 0.7343, F1: 0.7333, AUC: 0.9329\n",
      "輪次 14/15\n"
     ]
    },
    {
     "name": "stderr",
     "output_type": "stream",
     "text": [
      "訓練: 100%|██████████| 644/644 [03:53<00:00,  2.76it/s]\n",
      "驗證: 100%|██████████| 60/60 [00:09<00:00,  6.60it/s]\n"
     ]
    },
    {
     "name": "stdout",
     "output_type": "stream",
     "text": [
      "訓練損失: 0.3879, 訓練準確率: 0.8493\n",
      "驗證損失: 0.7425, 驗證準確率: 0.7341, F1: 0.7338, AUC: 0.9325\n",
      "輪次 15/15\n"
     ]
    },
    {
     "name": "stderr",
     "output_type": "stream",
     "text": [
      "訓練: 100%|██████████| 644/644 [03:51<00:00,  2.79it/s]\n",
      "驗證: 100%|██████████| 60/60 [00:09<00:00,  6.52it/s]\n"
     ]
    },
    {
     "name": "stdout",
     "output_type": "stream",
     "text": [
      "訓練損失: 0.3846, 訓練準確率: 0.8510\n",
      "驗證損失: 0.7408, 驗證準確率: 0.7235, F1: 0.7221, AUC: 0.9295\n"
     ]
    },
    {
     "name": "stderr",
     "output_type": "stream",
     "text": [
      "驗證: 100%|██████████| 60/60 [00:09<00:00,  6.46it/s]"
     ]
    },
    {
     "name": "stdout",
     "output_type": "stream",
     "text": [
      "\n",
      "最終測試損失: 0.7425, 最終測試準確率: 0.7341, 最終F1: 0.7338, 最終AUC: 0.9325\n"
     ]
    },
    {
     "name": "stderr",
     "output_type": "stream",
     "text": [
      "\n"
     ]
    }
   ],
   "source": [
    "best_val_f1 = -float('inf')\n",
    "patience_counter = 0\n",
    "\n",
    "train_losses = []\n",
    "val_losses = []\n",
    "train_accuracies = []\n",
    "val_accuracies = []\n",
    "val_f1_scores = []\n",
    "val_auc_scores = []\n",
    "\n",
    "for epoch in range(1, EPOCHS + 1):\n",
    "    print(f\"輪次 {epoch}/{EPOCHS}\")\n",
    "    train_loss, train_acc = train_epoch(model, train_loader, criterion, optimizer, device)\n",
    "    val_loss, val_acc, val_f1, val_auc = evaluate(model, test_loader, criterion, device)\n",
    "    \n",
    "    train_losses.append(train_loss)\n",
    "    val_losses.append(val_loss)\n",
    "    train_accuracies.append(train_acc)\n",
    "    val_accuracies.append(val_acc)\n",
    "    val_f1_scores.append(val_f1)\n",
    "    val_auc_scores.append(val_auc)\n",
    "\n",
    "    print(f\"訓練損失: {train_loss:.4f}, 訓練準確率: {train_acc:.4f}\")\n",
    "    print(f\"驗證損失: {val_loss:.4f}, 驗證準確率: {val_acc:.4f}, F1: {val_f1:.4f}, AUC: {val_auc:.4f}\")\n",
    "\n",
    "    scheduler.step() # Cosine Annealing 學習率調度\n",
    "\n",
    "    if val_f1 > best_val_f1:\n",
    "        best_val_f1 = val_f1\n",
    "        patience_counter = 0\n",
    "        torch.save(model.state_dict(), 'best_model.pth')\n",
    "    else:\n",
    "        patience_counter += 1\n",
    "        if patience_counter >= PATIENCE:\n",
    "            print(\"早停觸發，停止訓練\")\n",
    "            break\n",
    "\n",
    "# 載入最佳模型進行最終評估\n",
    "model.load_state_dict(torch.load('best_model.pth'))\n",
    "test_loss, test_acc, test_f1, test_auc = evaluate(model, test_loader, criterion, device)\n",
    "print(f\"\\n最終測試損失: {test_loss:.4f}, 最終測試準確率: {test_acc:.4f}, 最終F1: {test_f1:.4f}, 最終AUC: {test_auc:.4f}\")"
   ]
  },
  {
   "cell_type": "markdown",
   "id": "4832d147",
   "metadata": {},
   "source": [
    "## 步驟11：視覺化訓練過程"
   ]
  },
  {
   "cell_type": "code",
   "execution_count": 15,
   "id": "6be588c6",
   "metadata": {},
   "outputs": [
    {
     "data": {
      "image/png": "[encoded data removed]",
      "text/plain": [
       "<Figure size 1200x500 with 2 Axes>"
      ]
     },
     "metadata": {},
     "output_type": "display_data"
    },
    {
     "data": {
      "image/png": "[encoded data removed]",
      "text/plain": [
       "<Figure size 1000x500 with 1 Axes>"
      ]
     },
     "metadata": {},
     "output_type": "display_data"
    }
   ],
   "source": [
    "# 繪製訓練過程圖表\n",
    "plt.figure(figsize=(12, 5))\n",
    "\n",
    "# 損失圖\n",
    "plt.subplot(1, 2, 1)\n",
    "plt.plot(train_losses, label='訓練損失')\n",
    "plt.plot(val_losses, label='驗證損失')\n",
    "plt.title('損失變化')\n",
    "plt.xlabel('輪次')\n",
    "plt.ylabel('損失')\n",
    "plt.legend()\n",
    "\n",
    "# 準確率圖\n",
    "plt.subplot(1, 2, 2)\n",
    "plt.plot(train_accuracies, label='訓練準確率')\n",
    "plt.plot(val_accuracies, label='驗證準確率')\n",
    "plt.title('準確率變化')\n",
    "plt.xlabel('輪次')\n",
    "plt.ylabel('準確率')\n",
    "plt.legend()\n",
    "\n",
    "plt.tight_layout()\n",
    "plt.show()\n",
    "\n",
    "# F1 和 AUC 圖表\n",
    "plt.figure(figsize=(10, 5))\n",
    "plt.plot(val_f1_scores, label='驗證 F1-Score')\n",
    "plt.plot(val_auc_scores, label='驗證 AUC')\n",
    "plt.title('F1-Score 和 AUC 變化')\n",
    "plt.xlabel('輪次')\n",
    "plt.ylabel('分數')\n",
    "plt.legend()\n",
    "plt.tight_layout()\n",
    "plt.show()"
   ]
  },
  {
   "cell_type": "code",
   "execution_count": 16,
   "id": "c13912fc",
   "metadata": {},
   "outputs": [
    {
     "name": "stderr",
     "output_type": "stream",
     "text": [
      "生成混淆矩陣資料: 100%|██████████| 60/60 [00:09<00:00,  6.53it/s]\n"
     ]
    },
    {
     "data": {
      "image/png": "[encoded data removed]",
      "text/plain": [
       "<Figure size 800x600 with 2 Axes>"
      ]
     },
     "metadata": {},
     "output_type": "display_data"
    }
   ],
   "source": [
    "from sklearn.metrics import confusion_matrix\n",
    "import seaborn as sns\n",
    "\n",
    "def plot_confusion_matrix(model, data_loader, device, sentiment_mapping):\n",
    "    model.eval()\n",
    "    all_preds = []\n",
    "    all_labels = []\n",
    "    with torch.no_grad():\n",
    "        for batch in tqdm(data_loader, desc=\"生成混淆矩陣資料\"):\n",
    "            input_ids = batch['input_ids'].to(device)\n",
    "            attention_mask = batch['attention_mask'].to(device)\n",
    "            labels = batch['labels'].to(device)\n",
    "            outputs = model(input_ids, attention_mask)\n",
    "            _, preds = torch.max(outputs, dim=1)\n",
    "            all_preds.extend(preds.cpu().numpy())\n",
    "            all_labels.extend(labels.cpu().numpy())\n",
    "\n",
    "    cm = confusion_matrix(all_labels, all_preds)\n",
    "    plt.figure(figsize=(8, 6))\n",
    "    \n",
    "    # 根據 sentiment_mapping 的值來排序類別名稱，確保矩陣順序正確\n",
    "    sorted_labels = sorted(sentiment_mapping, key=sentiment_mapping.get)\n",
    "    \n",
    "    sns.heatmap(cm, annot=True, fmt='d', cmap='Blues', \n",
    "                xticklabels=sorted_labels, yticklabels=sorted_labels)\n",
    "    plt.xlabel('預測標籤')\n",
    "    plt.ylabel('真實標籤')\n",
    "    plt.title('混淆矩陣')\n",
    "    plt.show()\n",
    "\n",
    "# 調用函數繪製混淆矩陣\n",
    "plot_confusion_matrix(model, test_loader, device, sentiment_mapping)"
   ]
  }
 ],
 "metadata": {
  "kernelspec": {
   "display_name": "DL",
   "language": "python",
   "name": "python3"
  },
  "language_info": {
   "codemirror_mode": {
    "name": "ipython",
    "version": 3
   },
   "file_extension": ".py",
   "mimetype": "text/x-python",
   "name": "python",
   "nbconvert_exporter": "python",
   "pygments_lexer": "ipython3",
   "version": "3.10.13"
  }
 },
 "nbformat": 4,
 "nbformat_minor": 5
}
